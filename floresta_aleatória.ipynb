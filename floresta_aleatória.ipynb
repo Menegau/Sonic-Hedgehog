{
 "cells": [
  {
   "cell_type": "markdown",
   "source": [
    "# Aprendizado de Máquina - Atividade do primeiro semestre\n",
    "### Bloco 1\n",
    "\n",
    "O target numérico é a largura do bico, que será prevista a partir de parâmetros como a profundidade desse bico, massa corporal, etc. Um futuro target categórico pode ser a espécie do pinguim."
   ],
   "metadata": {}
  },
  {
   "cell_type": "code",
   "execution_count": 1,
   "source": [
    "import seaborn as sns\r\n",
    "\r\n",
    "df = sns.load_dataset('penguins')\r\n",
    "print(df.dtypes)\r\n",
    "#print(df)"
   ],
   "outputs": [
    {
     "output_type": "stream",
     "name": "stdout",
     "text": [
      "species               object\n",
      "island                object\n",
      "bill_length_mm       float64\n",
      "bill_depth_mm        float64\n",
      "flipper_length_mm    float64\n",
      "body_mass_g          float64\n",
      "sex                   object\n",
      "dtype: object\n"
     ]
    }
   ],
   "metadata": {
    "tags": []
   }
  },
  {
   "cell_type": "code",
   "execution_count": 2,
   "source": [
    "# importa a biblioteca para plotar os gráficos\r\n",
    "import matplotlib.pyplot as plt"
   ],
   "outputs": [],
   "metadata": {}
  },
  {
   "cell_type": "code",
   "execution_count": 3,
   "source": [
    "# Converte os dados\r\n",
    "df = df.convert_dtypes() \r\n",
    "print(df.dtypes)\r\n",
    "#print(df)"
   ],
   "outputs": [
    {
     "output_type": "stream",
     "name": "stdout",
     "text": [
      "species               string\n",
      "island                string\n",
      "bill_length_mm       Float64\n",
      "bill_depth_mm        Float64\n",
      "flipper_length_mm      Int64\n",
      "body_mass_g            Int64\n",
      "sex                   string\n",
      "dtype: object\n"
     ]
    }
   ],
   "metadata": {
    "tags": []
   }
  },
  {
   "cell_type": "code",
   "execution_count": 4,
   "source": [
    "# Elimina as linhas que possuem lacunas sem dados\r\n",
    "dfcopia = df.copy()\r\n",
    "dfcopia = dfcopia.dropna(axis=0)\r\n",
    "\r\n",
    "#print(dfcopia)\r\n"
   ],
   "outputs": [],
   "metadata": {
    "tags": []
   }
  },
  {
   "cell_type": "code",
   "execution_count": 5,
   "source": [
    "# Cria um dataset somente com os features numéricos\r\n",
    "features_numericos = [\"bill_length_mm\",\"bill_depth_mm\", \"flipper_length_mm\", \"body_mass_g\"]\r\n",
    "df_numericos = dfcopia[features_numericos]\r\n",
    "\r\n",
    "print(df_numericos)"
   ],
   "outputs": [
    {
     "output_type": "stream",
     "name": "stdout",
     "text": [
      "     bill_length_mm  bill_depth_mm  flipper_length_mm  body_mass_g\n",
      "0              39.1           18.7                181         3750\n",
      "1              39.5           17.4                186         3800\n",
      "2              40.3           18.0                195         3250\n",
      "4              36.7           19.3                193         3450\n",
      "5              39.3           20.6                190         3650\n",
      "..              ...            ...                ...          ...\n",
      "338            47.2           13.7                214         4925\n",
      "340            46.8           14.3                215         4850\n",
      "341            50.4           15.7                222         5750\n",
      "342            45.2           14.8                212         5200\n",
      "343            49.9           16.1                213         5400\n",
      "\n",
      "[333 rows x 4 columns]\n"
     ]
    }
   ],
   "metadata": {}
  },
  {
   "cell_type": "code",
   "execution_count": 6,
   "source": [
    "df_normalizado = df_numericos.copy()\r\n",
    "\r\n",
    "#normalizando coluna por coluna com o método de mínimo e máximo:\r\n",
    "\r\n",
    "#primeira coluna (comprimento do bico)\r\n",
    "maximo_bill_length = df_normalizado['bill_length_mm'].max()\r\n",
    "minimo_bill_length = df_normalizado['bill_length_mm'].min()\r\n",
    "\r\n",
    "df_normalizado['bill_length_norm'] = (df_normalizado['bill_length_mm'] - minimo_bill_length) / (maximo_bill_length - minimo_bill_length)\r\n",
    "\r\n",
    "#segunda coluna (profundidade do bico)\r\n",
    "maximo_bill_depth = df_normalizado['bill_depth_mm'].max()\r\n",
    "minimo_bill_depth = df_normalizado['bill_depth_mm'].min()\r\n",
    "\r\n",
    "df_normalizado['bill_depth_norm'] = (df_normalizado['bill_depth_mm'] - minimo_bill_depth) / (maximo_bill_depth - minimo_bill_depth)\r\n",
    "\r\n",
    "#terceira coluna (envergadura das nadadeiras)\r\n",
    "maximo_flipper_length = df_normalizado['flipper_length_mm'].max()\r\n",
    "minimo_flipper_length = df_normalizado['flipper_length_mm'].min()\r\n",
    "\r\n",
    "df_normalizado['flipper_length_norm'] = (df_normalizado['flipper_length_mm'] - minimo_flipper_length) / (maximo_flipper_length - minimo_flipper_length)\r\n",
    "\r\n",
    "#quarta coluna (peso corporal)\r\n",
    "maximo_body_mass = df_normalizado['body_mass_g'].max()\r\n",
    "minimo_body_mass = df_normalizado['body_mass_g'].min()\r\n",
    "\r\n",
    "df_normalizado['body_mass_norm'] = (df_normalizado['body_mass_g'] - minimo_body_mass) / (maximo_body_mass - minimo_body_mass)\r\n",
    "#print(df_normalizado)\r\n",
    "\r\n",
    "#criando um novo dataframe só com os dados normalizados.\r\n",
    "df_normalizado2 = df_normalizado.reindex([\"bill_length_norm\",\"bill_depth_norm\",\"flipper_length_norm\",\"body_mass_norm\"],axis=1)\r\n",
    "\r\n",
    "print(df_normalizado2)"
   ],
   "outputs": [
    {
     "output_type": "stream",
     "name": "stdout",
     "text": [
      "     bill_length_norm  bill_depth_norm  flipper_length_norm  body_mass_norm\n",
      "0            0.254545         0.666667             0.152542        0.291667\n",
      "1            0.269091         0.511905             0.237288        0.305556\n",
      "2            0.298182         0.583333             0.389831        0.152778\n",
      "4            0.167273         0.738095             0.355932        0.208333\n",
      "5            0.261818         0.892857             0.305085        0.263889\n",
      "..                ...              ...                  ...             ...\n",
      "338          0.549091         0.071429             0.711864        0.618056\n",
      "340          0.534545         0.142857             0.728814        0.597222\n",
      "341          0.665455         0.309524             0.847458        0.847222\n",
      "342          0.476364         0.202381             0.677966        0.694444\n",
      "343          0.647273         0.357143             0.694915            0.75\n",
      "\n",
      "[333 rows x 4 columns]\n"
     ]
    }
   ],
   "metadata": {}
  },
  {
   "cell_type": "code",
   "execution_count": 7,
   "source": [
    "# análises exploratória e estatística dos dados:\r\n",
    "\r\n",
    "print(df_normalizado2.shape) # checando o tamanho do dataframe (333 linhas e 4 colunas)\r\n",
    "print(df_normalizado2.index) # nota-se que o index não está ordenado, apresentando lacunas."
   ],
   "outputs": [
    {
     "output_type": "stream",
     "name": "stdout",
     "text": [
      "(333, 4)\n",
      "Int64Index([  0,   1,   2,   4,   5,   6,   7,  12,  13,  14,\n",
      "            ...\n",
      "            332, 333, 334, 335, 337, 338, 340, 341, 342, 343],\n",
      "           dtype='int64', length=333)\n"
     ]
    }
   ],
   "metadata": {}
  },
  {
   "cell_type": "code",
   "execution_count": 8,
   "source": [
    "# para resolver esse problema, utiliza-se o método reset_index:\r\n",
    "df_arrumado = df_normalizado2.reset_index(drop=True) # no qual drop=True significa que a nova coluna index irá substituir a anterior completamente,\r\n",
    "# ao invés de apenas ser acrescentada como mais uma coluna."
   ],
   "outputs": [],
   "metadata": {}
  },
  {
   "cell_type": "markdown",
   "source": [
    "# Floresta aleatória:\r\n",
    "\r\n",
    "Nesta seção será testado o método de floresta aleatória, que consiste na formação de diversas árvores de decisão de maneira aleatória."
   ],
   "metadata": {}
  },
  {
   "cell_type": "code",
   "execution_count": 9,
   "source": [
    "# ----- Carregando os dados e definindo parâmetros:\r\n",
    "from sklearn.model_selection import train_test_split\r\n",
    "\r\n",
    "TAMANHO_TESTE = 0.1\r\n",
    "SEMENTE_ALEATORIA = 61455\r\n",
    "FEATURES = [\"bill_depth_norm\", \"flipper_length_norm\", \"body_mass_norm\"]\r\n",
    "TARGET = [\"bill_length_norm\"]\r\n",
    "\r\n",
    "df = df_arrumado\r\n",
    "\r\n",
    "indices = df.index\r\n",
    "indices_treino, indices_teste = train_test_split(\r\n",
    "    indices, test_size = TAMANHO_TESTE, random_state = SEMENTE_ALEATORIA\r\n",
    ")\r\n",
    "\r\n",
    "df_treino = df.loc[indices_treino]\r\n",
    "df_teste = df.loc[indices_teste]\r\n",
    "\r\n",
    "# o .values utiliza apenas os valores, em forma de array\r\n",
    "x_treino = df_treino.reindex(FEATURES, axis=1).values\r\n",
    "y_treino = df_treino.reindex(TARGET, axis=1).values\r\n",
    "x_teste = df_teste.reindex(FEATURES, axis=1).values\r\n",
    "y_teste = df_teste.reindex(TARGET, axis=1).values"
   ],
   "outputs": [],
   "metadata": {}
  },
  {
   "cell_type": "code",
   "execution_count": 10,
   "source": [
    "# ----- Criando e treinando o modelo:\r\n",
    "from sklearn.ensemble import RandomForestRegressor\r\n",
    "\r\n",
    "# alterando o target:\r\n",
    "print(y_treino.shape, y_teste.shape)\r\n",
    "y_treino = y_treino.ravel()\r\n",
    "y_teste = y_teste.ravel()\r\n",
    "print(y_treino.shape, y_teste.shape)"
   ],
   "outputs": [
    {
     "output_type": "stream",
     "name": "stdout",
     "text": [
      "(299, 1) (34, 1)\n",
      "(299,) (34,)\n"
     ]
    }
   ],
   "metadata": {}
  },
  {
   "cell_type": "code",
   "execution_count": 11,
   "source": [
    "# criando o modelo:\r\n",
    "modelo_rf = RandomForestRegressor(random_state = SEMENTE_ALEATORIA)\r\n",
    "\r\n",
    "# treinando o modelo:\r\n",
    "modelo_rf.fit(x_treino, y_treino)\r\n",
    "\r\n",
    "# primeira previsão com o modelo:\r\n",
    "previsao = modelo_rf.predict(x_teste)\r\n",
    "print()\r\n",
    "print(previsao)"
   ],
   "outputs": [
    {
     "output_type": "stream",
     "name": "stdout",
     "text": [
      "\n",
      "[0.37767273 0.26850909 0.43301818 0.54188788 0.24461818 0.45598061\n",
      " 0.27843636 0.17246667 0.31436364 0.29538182 0.30443636 0.28090909\n",
      " 0.36992727 0.69323636 0.41847273 0.16952727 0.44374545 0.23018182\n",
      " 0.65370909 0.35970909 0.27683636 0.3216     0.48705455 0.52385455\n",
      " 0.49494545 0.25654545 0.51141818 0.67309091 0.75541818 0.46247273\n",
      " 0.17381818 0.28178182 0.24025455 0.42501818]\n"
     ]
    }
   ],
   "metadata": {}
  },
  {
   "cell_type": "code",
   "execution_count": 12,
   "source": [
    "# Finalmente, checando a performance da primeira previsão:\r\n",
    "from sklearn.metrics import mean_squared_error\r\n",
    "\r\n",
    "y_verdadeiro = y_teste\r\n",
    "y_previsao = previsao\r\n",
    "\r\n",
    "RMSE = mean_squared_error(y_verdadeiro, y_previsao, squared = False)\r\n",
    "\r\n",
    "print(f\"O RMSE do modelo floresta aleatória sem alteração nos hiperparâmetros foi de {RMSE} mm normalizados (?).\")\r\n"
   ],
   "outputs": [
    {
     "output_type": "stream",
     "name": "stdout",
     "text": [
      "O RMSE do modelo floresta aleatória sem alteração nos hiperparâmetros foi de 0.1588771160559477 mm normalizados (?).\n"
     ]
    }
   ],
   "metadata": {}
  },
  {
   "cell_type": "code",
   "execution_count": 13,
   "source": [
    "# ----- Definindo os hiperparâmetros:\r\n",
    "from itertools import product\r\n",
    "from sklearn.metrics import r2_score\r\n",
    "\r\n",
    "NUM_ARVORES = [50, 100, 300]\r\n",
    "NUM_FOLHAS = [10, 15]\r\n",
    "NUM_PROFUNDIDADE = [5, 10]\r\n",
    "\r\n",
    "for n_folhas, n_profundidade, n_arvores in product(\r\n",
    "    NUM_FOLHAS, NUM_PROFUNDIDADE, NUM_ARVORES\r\n",
    "):\r\n",
    "    modelo_rf = RandomForestRegressor(\r\n",
    "        n_estimators=n_arvores,\r\n",
    "        max_leaf_nodes=n_folhas,\r\n",
    "        max_depth=n_profundidade,\r\n",
    "        random_state=SEMENTE_ALEATORIA,\r\n",
    "        n_jobs=4,\r\n",
    "    )\r\n",
    "\r\n",
    "    modelo_rf.fit(x_treino, y_treino)\r\n",
    "\r\n",
    "    y_verdadeiro = y_teste\r\n",
    "    y_previsao = modelo_rf.predict(x_teste)\r\n",
    "    RMSE = mean_squared_error(y_verdadeiro, y_previsao, squared=False)\r\n",
    "    MSE = mean_squared_error(y_verdadeiro, y_previsao)\r\n",
    "    R2 = r2_score(y_verdadeiro, y_previsao)\r\n",
    "\r\n",
    "    print(\r\n",
    "        f\"O RMSE do modelo RF usando\\n\"\r\n",
    "        f\"n_estimators={n_arvores}, max_leaf_nodes={n_folhas}\\n\"\r\n",
    "        f\"e max_depth={n_profundidade} foi de {RMSE:.2f} mm normalizados.\\n\"\r\n",
    "        f\"O MSE foi de {MSE:.2f} mm normalizados.\\n\"\r\n",
    "        f\"O R2 foi de {R2:.2f} mm normalizados.\"\r\n",
    "        \"\\n\"\r\n",
    "    )"
   ],
   "outputs": [
    {
     "output_type": "stream",
     "name": "stdout",
     "text": [
      "O RMSE do modelo RF usando\n",
      "n_estimators=50, max_leaf_nodes=10\n",
      "e max_depth=5 foi de 0.15 mm normalizados.\n",
      "O MSE foi de 0.02 mm normalizados.\n",
      "O R2 foi de 0.41 mm normalizados.\n",
      "\n",
      "O RMSE do modelo RF usando\n",
      "n_estimators=100, max_leaf_nodes=10\n",
      "e max_depth=5 foi de 0.15 mm normalizados.\n",
      "O MSE foi de 0.02 mm normalizados.\n",
      "O R2 foi de 0.41 mm normalizados.\n",
      "\n",
      "O RMSE do modelo RF usando\n",
      "n_estimators=300, max_leaf_nodes=10\n",
      "e max_depth=5 foi de 0.14 mm normalizados.\n",
      "O MSE foi de 0.02 mm normalizados.\n",
      "O R2 foi de 0.42 mm normalizados.\n",
      "\n",
      "O RMSE do modelo RF usando\n",
      "n_estimators=50, max_leaf_nodes=10\n",
      "e max_depth=10 foi de 0.15 mm normalizados.\n",
      "O MSE foi de 0.02 mm normalizados.\n",
      "O R2 foi de 0.41 mm normalizados.\n",
      "\n",
      "O RMSE do modelo RF usando\n",
      "n_estimators=100, max_leaf_nodes=10\n",
      "e max_depth=10 foi de 0.15 mm normalizados.\n",
      "O MSE foi de 0.02 mm normalizados.\n",
      "O R2 foi de 0.41 mm normalizados.\n",
      "\n",
      "O RMSE do modelo RF usando\n",
      "n_estimators=300, max_leaf_nodes=10\n",
      "e max_depth=10 foi de 0.14 mm normalizados.\n",
      "O MSE foi de 0.02 mm normalizados.\n",
      "O R2 foi de 0.42 mm normalizados.\n",
      "\n",
      "O RMSE do modelo RF usando\n",
      "n_estimators=50, max_leaf_nodes=15\n",
      "e max_depth=5 foi de 0.15 mm normalizados.\n",
      "O MSE foi de 0.02 mm normalizados.\n",
      "O R2 foi de 0.40 mm normalizados.\n",
      "\n",
      "O RMSE do modelo RF usando\n",
      "n_estimators=100, max_leaf_nodes=15\n",
      "e max_depth=5 foi de 0.15 mm normalizados.\n",
      "O MSE foi de 0.02 mm normalizados.\n",
      "O R2 foi de 0.41 mm normalizados.\n",
      "\n",
      "O RMSE do modelo RF usando\n",
      "n_estimators=300, max_leaf_nodes=15\n",
      "e max_depth=5 foi de 0.15 mm normalizados.\n",
      "O MSE foi de 0.02 mm normalizados.\n",
      "O R2 foi de 0.41 mm normalizados.\n",
      "\n",
      "O RMSE do modelo RF usando\n",
      "n_estimators=50, max_leaf_nodes=15\n",
      "e max_depth=10 foi de 0.15 mm normalizados.\n",
      "O MSE foi de 0.02 mm normalizados.\n",
      "O R2 foi de 0.42 mm normalizados.\n",
      "\n",
      "O RMSE do modelo RF usando\n",
      "n_estimators=100, max_leaf_nodes=15\n",
      "e max_depth=10 foi de 0.14 mm normalizados.\n",
      "O MSE foi de 0.02 mm normalizados.\n",
      "O R2 foi de 0.42 mm normalizados.\n",
      "\n",
      "O RMSE do modelo RF usando\n",
      "n_estimators=300, max_leaf_nodes=15\n",
      "e max_depth=10 foi de 0.14 mm normalizados.\n",
      "O MSE foi de 0.02 mm normalizados.\n",
      "O R2 foi de 0.42 mm normalizados.\n",
      "\n"
     ]
    }
   ],
   "metadata": {}
  },
  {
   "cell_type": "markdown",
   "source": [
    "Para essa seed, os hiperparâmetros de melhor performance foram:\r\n",
    "* 300, 10, 5\r\n",
    "* 300, 10, 10\r\n",
    "* 100, 15, 10\r\n",
    "* 300, 15, 10\r\n",
    "\r\n",
    "Sendo assim, pode-se escolher outra seed aleatória e testar novamente esse mesmos números, de modo a descobrir os melhores hiperparâmetros em comum."
   ],
   "metadata": {}
  },
  {
   "cell_type": "code",
   "execution_count": 14,
   "source": [
    "# ----- redefinindo parâmetros:\r\n",
    "\r\n",
    "TAMANHO_TESTE = 0.1\r\n",
    "SEMENTE_ALEATORIA = 40182\r\n",
    "FEATURES = [\"bill_depth_norm\", \"flipper_length_norm\", \"body_mass_norm\"]\r\n",
    "TARGET = [\"bill_length_norm\"]\r\n",
    "\r\n",
    "df = df_arrumado\r\n",
    "\r\n",
    "indices = df.index\r\n",
    "indices_treino, indices_teste = train_test_split(\r\n",
    "    indices, test_size = TAMANHO_TESTE, random_state = SEMENTE_ALEATORIA\r\n",
    ")\r\n",
    "\r\n",
    "df_treino = df.loc[indices_treino]\r\n",
    "df_teste = df.loc[indices_teste]\r\n",
    "\r\n",
    "# o .values utiliza apenas os valores, em forma de array\r\n",
    "x_treino = df_treino.reindex(FEATURES, axis=1).values\r\n",
    "y_treino = df_treino.reindex(TARGET, axis=1).values\r\n",
    "x_teste = df_teste.reindex(FEATURES, axis=1).values\r\n",
    "y_teste = df_teste.reindex(TARGET, axis=1).values"
   ],
   "outputs": [],
   "metadata": {}
  },
  {
   "cell_type": "code",
   "execution_count": 15,
   "source": [
    "# ----- Criando e treinando o modelo:\r\n",
    "from sklearn.ensemble import RandomForestRegressor\r\n",
    "\r\n",
    "# alterando o target:\r\n",
    "print(y_treino.shape, y_teste.shape)\r\n",
    "y_treino = y_treino.ravel()\r\n",
    "y_teste = y_teste.ravel()\r\n",
    "print(y_treino.shape, y_teste.shape)"
   ],
   "outputs": [
    {
     "output_type": "stream",
     "name": "stdout",
     "text": [
      "(299, 1) (34, 1)\n",
      "(299,) (34,)\n"
     ]
    }
   ],
   "metadata": {}
  },
  {
   "cell_type": "code",
   "execution_count": 16,
   "source": [
    "# criando o modelo:\r\n",
    "modelo_rf = RandomForestRegressor(random_state = SEMENTE_ALEATORIA)\r\n",
    "\r\n",
    "# treinando o modelo:\r\n",
    "modelo_rf.fit(x_treino, y_treino)\r\n",
    "\r\n",
    "# primeira previsão com o modelo:\r\n",
    "previsao = modelo_rf.predict(x_teste)\r\n",
    "print()\r\n",
    "print(previsao)"
   ],
   "outputs": [
    {
     "output_type": "stream",
     "name": "stdout",
     "text": [
      "\n",
      "[0.26218182 0.23399394 0.25527273 0.48349091 0.46672727 0.1624\n",
      " 0.56033939 0.18726667 0.71894545 0.26149091 0.37298182 0.47810909\n",
      " 0.34287273 0.60767273 0.34403636 0.27116364 0.64927273 0.13512727\n",
      " 0.21178182 0.22647273 0.1843697  0.44309091 0.54196364 0.55749091\n",
      " 0.38178182 0.562      0.20730909 0.51808485 0.2185697  0.65636364\n",
      " 0.51079091 0.23789091 0.53076061 0.23265455]\n"
     ]
    }
   ],
   "metadata": {}
  },
  {
   "cell_type": "code",
   "execution_count": 17,
   "source": [
    "# Finalmente, checando a performance da primeira previsão:\r\n",
    "from sklearn.metrics import mean_squared_error\r\n",
    "\r\n",
    "y_verdadeiro = y_teste\r\n",
    "y_previsao = previsao\r\n",
    "\r\n",
    "RMSE = mean_squared_error(y_verdadeiro, y_previsao, squared = False)\r\n",
    "\r\n",
    "print(f\"O RMSE do modelo floresta aleatória sem alteração nos hiperparâmetros foi de {RMSE} mm normalizados (?).\")\r\n"
   ],
   "outputs": [
    {
     "output_type": "stream",
     "name": "stdout",
     "text": [
      "O RMSE do modelo floresta aleatória sem alteração nos hiperparâmetros foi de 0.17091668041548777 mm normalizados (?).\n"
     ]
    }
   ],
   "metadata": {}
  },
  {
   "cell_type": "code",
   "execution_count": 18,
   "source": [
    "# ----- Definindo os hiperparâmetros:\r\n",
    "from itertools import product\r\n",
    "from sklearn.metrics import r2_score\r\n",
    "\r\n",
    "NUM_ARVORES = [50, 100, 300]\r\n",
    "NUM_FOLHAS = [10, 15]\r\n",
    "NUM_PROFUNDIDADE = [5, 10]\r\n",
    "\r\n",
    "for n_folhas, n_profundidade, n_arvores in product(\r\n",
    "    NUM_FOLHAS, NUM_PROFUNDIDADE, NUM_ARVORES\r\n",
    "):\r\n",
    "    modelo_rf = RandomForestRegressor(\r\n",
    "        n_estimators=n_arvores,\r\n",
    "        max_leaf_nodes=n_folhas,\r\n",
    "        max_depth=n_profundidade,\r\n",
    "        random_state=SEMENTE_ALEATORIA,\r\n",
    "        n_jobs=4,\r\n",
    "    )\r\n",
    "\r\n",
    "    modelo_rf.fit(x_treino, y_treino)\r\n",
    "\r\n",
    "    y_verdadeiro = y_teste\r\n",
    "    y_previsao = modelo_rf.predict(x_teste)\r\n",
    "    RMSE = mean_squared_error(y_verdadeiro, y_previsao, squared=False)\r\n",
    "    MSE = mean_squared_error(y_verdadeiro, y_previsao)\r\n",
    "    R2 = r2_score(y_verdadeiro, y_previsao)\r\n",
    "\r\n",
    "    print(\r\n",
    "        f\"O RMSE do modelo RF usando\\n\"\r\n",
    "        f\"n_estimators={n_arvores}, max_leaf_nodes={n_folhas}\\n\"\r\n",
    "        f\"e max_depth={n_profundidade} foi de {RMSE:.2f} mm normalizados.\\n\"\r\n",
    "        f\"O MSE foi de {MSE:.2f} mm normalizados.\\n\"\r\n",
    "        f\"O R2 foi de {R2:.2f} mm normalizados.\"\r\n",
    "        \"\\n\"\r\n",
    "    )"
   ],
   "outputs": [
    {
     "output_type": "stream",
     "name": "stdout",
     "text": [
      "O RMSE do modelo RF usando\n",
      "n_estimators=50, max_leaf_nodes=10\n",
      "e max_depth=5 foi de 0.15 mm normalizados.\n",
      "O MSE foi de 0.02 mm normalizados.\n",
      "O R2 foi de 0.23 mm normalizados.\n",
      "\n",
      "O RMSE do modelo RF usando\n",
      "n_estimators=100, max_leaf_nodes=10\n",
      "e max_depth=5 foi de 0.15 mm normalizados.\n",
      "O MSE foi de 0.02 mm normalizados.\n",
      "O R2 foi de 0.24 mm normalizados.\n",
      "\n",
      "O RMSE do modelo RF usando\n",
      "n_estimators=300, max_leaf_nodes=10\n",
      "e max_depth=5 foi de 0.15 mm normalizados.\n",
      "O MSE foi de 0.02 mm normalizados.\n",
      "O R2 foi de 0.24 mm normalizados.\n",
      "\n",
      "O RMSE do modelo RF usando\n",
      "n_estimators=50, max_leaf_nodes=10\n",
      "e max_depth=10 foi de 0.15 mm normalizados.\n",
      "O MSE foi de 0.02 mm normalizados.\n",
      "O R2 foi de 0.24 mm normalizados.\n",
      "\n",
      "O RMSE do modelo RF usando\n",
      "n_estimators=100, max_leaf_nodes=10\n",
      "e max_depth=10 foi de 0.15 mm normalizados.\n",
      "O MSE foi de 0.02 mm normalizados.\n",
      "O R2 foi de 0.24 mm normalizados.\n",
      "\n",
      "O RMSE do modelo RF usando\n",
      "n_estimators=300, max_leaf_nodes=10\n",
      "e max_depth=10 foi de 0.15 mm normalizados.\n",
      "O MSE foi de 0.02 mm normalizados.\n",
      "O R2 foi de 0.24 mm normalizados.\n",
      "\n",
      "O RMSE do modelo RF usando\n",
      "n_estimators=50, max_leaf_nodes=15\n",
      "e max_depth=5 foi de 0.15 mm normalizados.\n",
      "O MSE foi de 0.02 mm normalizados.\n",
      "O R2 foi de 0.19 mm normalizados.\n",
      "\n",
      "O RMSE do modelo RF usando\n",
      "n_estimators=100, max_leaf_nodes=15\n",
      "e max_depth=5 foi de 0.15 mm normalizados.\n",
      "O MSE foi de 0.02 mm normalizados.\n",
      "O R2 foi de 0.19 mm normalizados.\n",
      "\n",
      "O RMSE do modelo RF usando\n",
      "n_estimators=300, max_leaf_nodes=15\n",
      "e max_depth=5 foi de 0.15 mm normalizados.\n",
      "O MSE foi de 0.02 mm normalizados.\n",
      "O R2 foi de 0.21 mm normalizados.\n",
      "\n",
      "O RMSE do modelo RF usando\n",
      "n_estimators=50, max_leaf_nodes=15\n",
      "e max_depth=10 foi de 0.16 mm normalizados.\n",
      "O MSE foi de 0.02 mm normalizados.\n",
      "O R2 foi de 0.17 mm normalizados.\n",
      "\n",
      "O RMSE do modelo RF usando\n",
      "n_estimators=100, max_leaf_nodes=15\n",
      "e max_depth=10 foi de 0.15 mm normalizados.\n",
      "O MSE foi de 0.02 mm normalizados.\n",
      "O R2 foi de 0.18 mm normalizados.\n",
      "\n",
      "O RMSE do modelo RF usando\n",
      "n_estimators=300, max_leaf_nodes=15\n",
      "e max_depth=10 foi de 0.15 mm normalizados.\n",
      "O MSE foi de 0.02 mm normalizados.\n",
      "O R2 foi de 0.20 mm normalizados.\n",
      "\n"
     ]
    }
   ],
   "metadata": {}
  },
  {
   "cell_type": "markdown",
   "source": [
    "Para a segunda seed escolhida, os melhores números foram:\r\n",
    "* 300, 10, 5\r\n",
    "\r\n",
    "e os piores;\r\n",
    "* 50, 15, 10\r\n",
    "\r\n",
    "Até o momento, o melhor conjunto de hiperparâmetros em comum foi:\r\n",
    "* 300, 10, 5\r\n",
    "\r\n",
    "Partimos agora para uma terceira seed."
   ],
   "metadata": {}
  },
  {
   "cell_type": "code",
   "execution_count": 19,
   "source": [
    "# ----- redefinindo parâmetros:\r\n",
    "\r\n",
    "TAMANHO_TESTE = 0.1\r\n",
    "SEMENTE_ALEATORIA = 27381\r\n",
    "FEATURES = [\"bill_depth_norm\", \"flipper_length_norm\", \"body_mass_norm\"]\r\n",
    "TARGET = [\"bill_length_norm\"]\r\n",
    "\r\n",
    "df = df_arrumado\r\n",
    "\r\n",
    "indices = df.index\r\n",
    "indices_treino, indices_teste = train_test_split(\r\n",
    "    indices, test_size = TAMANHO_TESTE, random_state = SEMENTE_ALEATORIA\r\n",
    ")\r\n",
    "\r\n",
    "df_treino = df.loc[indices_treino]\r\n",
    "df_teste = df.loc[indices_teste]\r\n",
    "\r\n",
    "# o .values utiliza apenas os valores, em forma de array\r\n",
    "x_treino = df_treino.reindex(FEATURES, axis=1).values\r\n",
    "y_treino = df_treino.reindex(TARGET, axis=1).values\r\n",
    "x_teste = df_teste.reindex(FEATURES, axis=1).values\r\n",
    "y_teste = df_teste.reindex(TARGET, axis=1).values"
   ],
   "outputs": [],
   "metadata": {}
  },
  {
   "cell_type": "code",
   "execution_count": 20,
   "source": [
    "# ----- Criando e treinando o modelo:\r\n",
    "from sklearn.ensemble import RandomForestRegressor\r\n",
    "\r\n",
    "# alterando o target:\r\n",
    "print(y_treino.shape, y_teste.shape)\r\n",
    "y_treino = y_treino.ravel()\r\n",
    "y_teste = y_teste.ravel()\r\n",
    "print(y_treino.shape, y_teste.shape)"
   ],
   "outputs": [
    {
     "output_type": "stream",
     "name": "stdout",
     "text": [
      "(299, 1) (34, 1)\n",
      "(299,) (34,)\n"
     ]
    }
   ],
   "metadata": {}
  },
  {
   "cell_type": "code",
   "execution_count": 21,
   "source": [
    "# criando o modelo:\r\n",
    "modelo_rf = RandomForestRegressor(random_state = SEMENTE_ALEATORIA)\r\n",
    "\r\n",
    "# treinando o modelo:\r\n",
    "modelo_rf.fit(x_treino, y_treino)\r\n",
    "\r\n",
    "# primeira previsão com o modelo:\r\n",
    "previsao = modelo_rf.predict(x_teste)\r\n",
    "print()\r\n",
    "print(previsao)"
   ],
   "outputs": [
    {
     "output_type": "stream",
     "name": "stdout",
     "text": [
      "\n",
      "[0.28443636 0.59734545 0.43072727 0.44661818 0.23236364 0.17621818\n",
      " 0.34472727 0.24218182 0.78887273 0.46712727 0.57181818 0.26149091\n",
      " 0.28785455 0.48149091 0.28738182 0.14250909 0.56538182 0.65494545\n",
      " 0.46374545 0.32032727 0.42963636 0.39421818 0.56746667 0.2704\n",
      " 0.74221818 0.61690909 0.44365212 0.27283636 0.51381818 0.50893939\n",
      " 0.55672727 0.36865455 0.358      0.25036364]\n"
     ]
    }
   ],
   "metadata": {}
  },
  {
   "cell_type": "code",
   "execution_count": 22,
   "source": [
    "# Finalmente, checando a performance da primeira previsão:\r\n",
    "from sklearn.metrics import mean_squared_error\r\n",
    "\r\n",
    "y_verdadeiro = y_teste\r\n",
    "y_previsao = previsao\r\n",
    "\r\n",
    "RMSE = mean_squared_error(y_verdadeiro, y_previsao, squared = False)\r\n",
    "\r\n",
    "print(f\"O RMSE do modelo floresta aleatória sem alteração nos hiperparâmetros foi de {RMSE} mm normalizados (?).\")\r\n"
   ],
   "outputs": [
    {
     "output_type": "stream",
     "name": "stdout",
     "text": [
      "O RMSE do modelo floresta aleatória sem alteração nos hiperparâmetros foi de 0.13268492597139903 mm normalizados (?).\n"
     ]
    }
   ],
   "metadata": {}
  },
  {
   "cell_type": "code",
   "execution_count": 23,
   "source": [
    "# ----- Definindo os hiperparâmetros:\r\n",
    "from itertools import product\r\n",
    "from sklearn.metrics import r2_score\r\n",
    "\r\n",
    "NUM_ARVORES = [50, 100, 300]\r\n",
    "NUM_FOLHAS = [10, 15]\r\n",
    "NUM_PROFUNDIDADE = [5, 10]\r\n",
    "\r\n",
    "for n_folhas, n_profundidade, n_arvores in product(\r\n",
    "    NUM_FOLHAS, NUM_PROFUNDIDADE, NUM_ARVORES\r\n",
    "):\r\n",
    "    modelo_rf = RandomForestRegressor(\r\n",
    "        n_estimators=n_arvores,\r\n",
    "        max_leaf_nodes=n_folhas,\r\n",
    "        max_depth=n_profundidade,\r\n",
    "        random_state=SEMENTE_ALEATORIA,\r\n",
    "        n_jobs=4,\r\n",
    "    )\r\n",
    "\r\n",
    "    modelo_rf.fit(x_treino, y_treino)\r\n",
    "\r\n",
    "    y_verdadeiro = y_teste\r\n",
    "    y_previsao = modelo_rf.predict(x_teste)\r\n",
    "    RMSE = mean_squared_error(y_verdadeiro, y_previsao, squared=False)\r\n",
    "    MSE = mean_squared_error(y_verdadeiro, y_previsao)\r\n",
    "    R2 = r2_score(y_verdadeiro, y_previsao)\r\n",
    "\r\n",
    "    print(\r\n",
    "        f\"O RMSE do modelo RF usando\\n\"\r\n",
    "        f\"n_estimators={n_arvores}, max_leaf_nodes={n_folhas}\\n\"\r\n",
    "        f\"e max_depth={n_profundidade} foi de {RMSE:.2f} mm normalizados.\\n\"\r\n",
    "        f\"O MSE foi de {MSE:.2f} mm normalizados.\\n\"\r\n",
    "        f\"O R2 foi de {R2:.2f} mm normalizados.\"\r\n",
    "        \"\\n\"\r\n",
    "    )"
   ],
   "outputs": [
    {
     "output_type": "stream",
     "name": "stdout",
     "text": [
      "O RMSE do modelo RF usando\n",
      "n_estimators=50, max_leaf_nodes=10\n",
      "e max_depth=5 foi de 0.12 mm normalizados.\n",
      "O MSE foi de 0.02 mm normalizados.\n",
      "O R2 foi de 0.62 mm normalizados.\n",
      "\n",
      "O RMSE do modelo RF usando\n",
      "n_estimators=100, max_leaf_nodes=10\n",
      "e max_depth=5 foi de 0.12 mm normalizados.\n",
      "O MSE foi de 0.02 mm normalizados.\n",
      "O R2 foi de 0.62 mm normalizados.\n",
      "\n",
      "O RMSE do modelo RF usando\n",
      "n_estimators=300, max_leaf_nodes=10\n",
      "e max_depth=5 foi de 0.12 mm normalizados.\n",
      "O MSE foi de 0.02 mm normalizados.\n",
      "O R2 foi de 0.62 mm normalizados.\n",
      "\n",
      "O RMSE do modelo RF usando\n",
      "n_estimators=50, max_leaf_nodes=10\n",
      "e max_depth=10 foi de 0.12 mm normalizados.\n",
      "O MSE foi de 0.02 mm normalizados.\n",
      "O R2 foi de 0.63 mm normalizados.\n",
      "\n",
      "O RMSE do modelo RF usando\n",
      "n_estimators=100, max_leaf_nodes=10\n",
      "e max_depth=10 foi de 0.12 mm normalizados.\n",
      "O MSE foi de 0.01 mm normalizados.\n",
      "O R2 foi de 0.63 mm normalizados.\n",
      "\n",
      "O RMSE do modelo RF usando\n",
      "n_estimators=300, max_leaf_nodes=10\n",
      "e max_depth=10 foi de 0.12 mm normalizados.\n",
      "O MSE foi de 0.01 mm normalizados.\n",
      "O R2 foi de 0.63 mm normalizados.\n",
      "\n",
      "O RMSE do modelo RF usando\n",
      "n_estimators=50, max_leaf_nodes=15\n",
      "e max_depth=5 foi de 0.13 mm normalizados.\n",
      "O MSE foi de 0.02 mm normalizados.\n",
      "O R2 foi de 0.59 mm normalizados.\n",
      "\n",
      "O RMSE do modelo RF usando\n",
      "n_estimators=100, max_leaf_nodes=15\n",
      "e max_depth=5 foi de 0.13 mm normalizados.\n",
      "O MSE foi de 0.02 mm normalizados.\n",
      "O R2 foi de 0.60 mm normalizados.\n",
      "\n",
      "O RMSE do modelo RF usando\n",
      "n_estimators=300, max_leaf_nodes=15\n",
      "e max_depth=5 foi de 0.13 mm normalizados.\n",
      "O MSE foi de 0.02 mm normalizados.\n",
      "O R2 foi de 0.61 mm normalizados.\n",
      "\n",
      "O RMSE do modelo RF usando\n",
      "n_estimators=50, max_leaf_nodes=15\n",
      "e max_depth=10 foi de 0.13 mm normalizados.\n",
      "O MSE foi de 0.02 mm normalizados.\n",
      "O R2 foi de 0.61 mm normalizados.\n",
      "\n",
      "O RMSE do modelo RF usando\n",
      "n_estimators=100, max_leaf_nodes=15\n",
      "e max_depth=10 foi de 0.13 mm normalizados.\n",
      "O MSE foi de 0.02 mm normalizados.\n",
      "O R2 foi de 0.61 mm normalizados.\n",
      "\n",
      "O RMSE do modelo RF usando\n",
      "n_estimators=300, max_leaf_nodes=15\n",
      "e max_depth=10 foi de 0.12 mm normalizados.\n",
      "O MSE foi de 0.02 mm normalizados.\n",
      "O R2 foi de 0.62 mm normalizados.\n",
      "\n"
     ]
    }
   ],
   "metadata": {}
  },
  {
   "cell_type": "markdown",
   "source": [
    "Para esta última seed, os melhores hiperparâmetros foram:\r\n",
    "* 300, 10, 5\r\n",
    "* 300, 10, 10\r\n",
    "* 300, 15, 5\r\n",
    "* 50, 15, 10\r\n",
    "* 100, 15, 10\r\n",
    "* 300, 15, 10\r\n",
    "\r\n",
    "Sendo assim, o conjunto de valores em comum de melhor desempenho nos três casos foi:\r\n",
    "* 300, 10, 5\r\n",
    "\r\n",
    "Não se pode ter certeza se esse realmente é o conjunto de melhor custo-benefício computacional, porém será o escolhido no momento.\r\n",
    "Sendo assim, pode-se redefinir o conjunto de seed inicial e os hiperparâmetros 300, 10, 5."
   ],
   "metadata": {}
  },
  {
   "cell_type": "code",
   "execution_count": 24,
   "source": [
    "# ----- redefinindo parâmetros:\r\n",
    "\r\n",
    "TAMANHO_TESTE = 0.1\r\n",
    "SEMENTE_ALEATORIA = 61455\r\n",
    "FEATURES = [\"bill_depth_norm\", \"flipper_length_norm\", \"body_mass_norm\"]\r\n",
    "TARGET = [\"bill_length_norm\"]\r\n",
    "\r\n",
    "df = df_arrumado\r\n",
    "\r\n",
    "indices = df.index\r\n",
    "indices_treino, indices_teste = train_test_split(\r\n",
    "    indices, test_size = TAMANHO_TESTE, random_state = SEMENTE_ALEATORIA\r\n",
    ")\r\n",
    "\r\n",
    "df_treino = df.loc[indices_treino]\r\n",
    "df_teste = df.loc[indices_teste]\r\n",
    "\r\n",
    "# o .values utiliza apenas os valores, em forma de array\r\n",
    "x_treino = df_treino.reindex(FEATURES, axis=1).values\r\n",
    "y_treino = df_treino.reindex(TARGET, axis=1).values\r\n",
    "x_teste = df_teste.reindex(FEATURES, axis=1).values\r\n",
    "y_teste = df_teste.reindex(TARGET, axis=1).values"
   ],
   "outputs": [],
   "metadata": {}
  },
  {
   "cell_type": "code",
   "execution_count": 25,
   "source": [
    "# ----- Criando e treinando o modelo:\r\n",
    "from sklearn.ensemble import RandomForestRegressor\r\n",
    "\r\n",
    "# alterando o target:\r\n",
    "print(y_treino.shape, y_teste.shape)\r\n",
    "y_treino = y_treino.ravel()\r\n",
    "y_teste = y_teste.ravel()\r\n",
    "print(y_treino.shape, y_teste.shape)"
   ],
   "outputs": [
    {
     "output_type": "stream",
     "name": "stdout",
     "text": [
      "(299, 1) (34, 1)\n",
      "(299,) (34,)\n"
     ]
    }
   ],
   "metadata": {}
  },
  {
   "cell_type": "code",
   "execution_count": 26,
   "source": [
    "# criando o modelo:\r\n",
    "modelo_rf = RandomForestRegressor(random_state = SEMENTE_ALEATORIA)\r\n",
    "\r\n",
    "# treinando o modelo:\r\n",
    "modelo_rf.fit(x_treino, y_treino)\r\n",
    "\r\n",
    "# primeira previsão com o modelo:\r\n",
    "previsao = modelo_rf.predict(x_teste)\r\n",
    "print()\r\n",
    "print(previsao)"
   ],
   "outputs": [
    {
     "output_type": "stream",
     "name": "stdout",
     "text": [
      "\n",
      "[0.37767273 0.26850909 0.43301818 0.54188788 0.24461818 0.45598061\n",
      " 0.27843636 0.17246667 0.31436364 0.29538182 0.30443636 0.28090909\n",
      " 0.36992727 0.69323636 0.41847273 0.16952727 0.44374545 0.23018182\n",
      " 0.65370909 0.35970909 0.27683636 0.3216     0.48705455 0.52385455\n",
      " 0.49494545 0.25654545 0.51141818 0.67309091 0.75541818 0.46247273\n",
      " 0.17381818 0.28178182 0.24025455 0.42501818]\n"
     ]
    }
   ],
   "metadata": {}
  },
  {
   "cell_type": "code",
   "execution_count": 27,
   "source": [
    "# Finalmente, checando a performance da primeira previsão:\r\n",
    "from sklearn.metrics import mean_squared_error\r\n",
    "\r\n",
    "y_verdadeiro = y_teste\r\n",
    "y_previsao = previsao\r\n",
    "\r\n",
    "RMSE = mean_squared_error(y_verdadeiro, y_previsao, squared = False)\r\n",
    "\r\n",
    "print(f\"O RMSE do modelo floresta aleatória sem alteração nos hiperparâmetros foi de {RMSE} mm normalizados (?).\")\r\n"
   ],
   "outputs": [
    {
     "output_type": "stream",
     "name": "stdout",
     "text": [
      "O RMSE do modelo floresta aleatória sem alteração nos hiperparâmetros foi de 0.1588771160559477 mm normalizados (?).\n"
     ]
    }
   ],
   "metadata": {}
  },
  {
   "cell_type": "code",
   "execution_count": 28,
   "source": [
    "# ----- Definindo os hiperparâmetros:\r\n",
    "\r\n",
    "NUM_ARVORES = 300\r\n",
    "NUM_FOLHAS = 10\r\n",
    "NUM_PROFUNDIDADE = 5\r\n",
    "\r\n",
    "modelo_rf = RandomForestRegressor(\r\n",
    "    n_estimators=n_arvores,\r\n",
    "    max_leaf_nodes=n_folhas,\r\n",
    "    max_depth=n_profundidade,\r\n",
    "    random_state=SEMENTE_ALEATORIA,\r\n",
    "    n_jobs=4,\r\n",
    ")\r\n",
    "\r\n",
    "modelo_rf.fit(x_treino, y_treino)\r\n",
    "\r\n",
    "y_verdadeiro = y_teste\r\n",
    "y_previsao = modelo_rf.predict(x_teste)\r\n",
    "RMSE = mean_squared_error(y_verdadeiro, y_previsao, squared=False)\r\n",
    "MSE = mean_squared_error(y_verdadeiro, y_previsao)\r\n",
    "R2 = r2_score(y_verdadeiro, y_previsao)\r\n",
    "print(\r\n",
    "    f\"O RMSE do modelo RF usando\\n\"\r\n",
    "    f\"n_estimators={n_arvores}, max_leaf_nodes={n_folhas}\\n\"\r\n",
    "    f\"e max_depth={n_profundidade} foi de {RMSE:.2f} mm normalizados.\\n\"\r\n",
    "    f\"O MSE foi de {MSE:.2f} mm normalizados.\\n\"\r\n",
    "    f\"O R2 foi de {R2:.2f} mm normalizados.\"\r\n",
    "    \"\\n\"\r\n",
    ")"
   ],
   "outputs": [
    {
     "output_type": "stream",
     "name": "stdout",
     "text": [
      "O RMSE do modelo RF usando\n",
      "n_estimators=300, max_leaf_nodes=15\n",
      "e max_depth=10 foi de 0.14 mm normalizados.\n",
      "O MSE foi de 0.02 mm normalizados.\n",
      "O R2 foi de 0.42 mm normalizados.\n",
      "\n"
     ]
    }
   ],
   "metadata": {}
  },
  {
   "cell_type": "markdown",
   "source": [
    "## Medindo a importância das features usando o conceito de impureza"
   ],
   "metadata": {}
  },
  {
   "cell_type": "code",
   "execution_count": 29,
   "source": [
    "modelo_rf = RandomForestRegressor(\r\n",
    "    n_estimators=NUM_ARVORES,\r\n",
    "    random_state=SEMENTE_ALEATORIA,\r\n",
    "    n_jobs=4,\r\n",
    ")\r\n",
    "\r\n",
    "modelo_rf.fit(x_treino, y_treino)"
   ],
   "outputs": [
    {
     "output_type": "execute_result",
     "data": {
      "text/plain": [
       "RandomForestRegressor(n_estimators=300, n_jobs=4, random_state=61455)"
      ]
     },
     "metadata": {},
     "execution_count": 29
    }
   ],
   "metadata": {}
  },
  {
   "cell_type": "code",
   "execution_count": 30,
   "source": [
    "import matplotlib.pyplot as plt\r\n",
    "import numpy as np\r\n",
    "import pandas as pd\r\n",
    "\r\n",
    "importancia = modelo_rf.feature_importances_\r\n",
    "desvio_padrao = np.std(\r\n",
    "    [arvore.feature_importances_ for arvore in modelo_rf.estimators_], axis=0\r\n",
    ")\r\n",
    "\r\n",
    "serie_importancia = pd.Series(importancia, index=FEATURES)\r\n",
    "\r\n",
    "fig, axe = plt.subplots()\r\n",
    "serie_importancia.plot.bar(yerr=desvio_padrao, ax=axe, color=\"palevioletred\")\r\n",
    "axe.set_ylabel(\"Redução média da impureza\")\r\n",
    "plt.show()"
   ],
   "outputs": [
    {
     "output_type": "display_data",
     "data": {
      "image/png": "[encoded data removed]",
      "text/plain": [
       "<Figure size 432x288 with 1 Axes>"
      ]
     },
     "metadata": {
      "needs_background": "light"
     }
    }
   ],
   "metadata": {}
  },
  {
   "cell_type": "markdown",
   "source": [
    "Observa-se acima que a característica de maior importância nos dados de treino é o comprimento das nadadeiras (`flipper_length_norm`). \r\n",
    "## Medindo a importância das features usando a técnica de permutação de atributos"
   ],
   "metadata": {}
  },
  {
   "cell_type": "code",
   "execution_count": 31,
   "source": [
    "from sklearn.inspection import permutation_importance\r\n",
    "\r\n",
    "N_REPETICOES = 10\r\n",
    "\r\n",
    "def R2_1param(modelo, x, y):\r\n",
    "    \"\"\"Computa o coef. de determinação quando hip. alt. não tem coef. linear.\"\"\"\r\n",
    "    y_pred = modelo.predict(x).ravel()\r\n",
    "    y_true = (np.array(y)).ravel()\r\n",
    "    return 1 - sum((y_true - y_pred) ** 2) / sum(y_true**2)\r\n",
    "\r\n",
    "\r\n",
    "x_local = x_treino\r\n",
    "y_local = y_treino\r\n",
    "\r\n",
    "R2 = R2_1param(modelo_rf, x_local, y_local)\r\n",
    "print(f\"O R^2 da previsão é de {R2}\")\r\n",
    "\r\n",
    "# Aqui que calculamos a importância das features\r\n",
    "r = permutation_importance(\r\n",
    "    modelo_rf,\r\n",
    "    x_local,\r\n",
    "    y_local,\r\n",
    "    n_repeats=N_REPETICOES,\r\n",
    "    random_state=SEMENTE_ALEATORIA,\r\n",
    "    scoring=R2_1param,\r\n",
    ")\r\n",
    "\r\n",
    "print()\r\n",
    "\r\n",
    "# Aqui nós exibimos os resultados obtidos\r\n",
    "for i in r.importances_mean.argsort()[::-1]:\r\n",
    "    if r.importances_mean[i] - 2 * r.importances_std[i] > 0:\r\n",
    "        print(f\"{FEATURES[i]:<8} \"\r\n",
    "              f\"{r.importances_mean[i]:.3f}\"\r\n",
    "              f\" +/- {r.importances_std[i]:.3f}\")"
   ],
   "outputs": [
    {
     "output_type": "stream",
     "name": "stdout",
     "text": [
      "O R^2 da previsão é de 0.9843374956084523\n",
      "\n",
      "flipper_length_norm 0.181 +/- 0.018\n",
      "body_mass_norm 0.073 +/- 0.004\n",
      "bill_depth_norm 0.051 +/- 0.003\n"
     ]
    }
   ],
   "metadata": {}
  },
  {
   "cell_type": "markdown",
   "source": [
    "Observa-se acima que, novamente, que a característica de maior contribuição do valor de R2 é o comprimento da nadadeira (`flipper_length_norm`). Nota-se também que o R2 possui um ótimo valor; de 0.98, quando o melhor possível é de 1.\r\n",
    "A seguir, partimos para essa mesma análise, dessa vez em relação aos dados de teste:"
   ],
   "metadata": {}
  },
  {
   "cell_type": "code",
   "execution_count": 32,
   "source": [
    "x_local = x_teste\r\n",
    "y_local = y_teste\r\n",
    "\r\n",
    "R2 = R2_1param(modelo_rf, x_local, y_local)\r\n",
    "print(f\"O R^2 da previsão é de {R2}\")\r\n",
    "\r\n",
    "# Aqui que calculamos a importância das features\r\n",
    "r = permutation_importance(\r\n",
    "    modelo_rf,\r\n",
    "    x_local,\r\n",
    "    y_local,\r\n",
    "    n_repeats=N_REPETICOES,\r\n",
    "    random_state=SEMENTE_ALEATORIA,\r\n",
    "    scoring=R2_1param,\r\n",
    ")\r\n",
    "\r\n",
    "print()\r\n",
    "\r\n",
    "# Aqui nós exibimos os resultados obtidos\r\n",
    "for i in r.importances_mean.argsort()[::-1]:\r\n",
    "    if r.importances_mean[i] - 2 * r.importances_std[i] > 0:\r\n",
    "        print(f\"{FEATURES[i] :<8}\"\r\n",
    "              f\"{r.importances_mean[i]:.3f}\"\r\n",
    "              f\" +/- {r.importances_std[i]:.3f}\")"
   ],
   "outputs": [
    {
     "output_type": "stream",
     "name": "stdout",
     "text": [
      "O R^2 da previsão é de 0.8890321837871212\n",
      "\n",
      "flipper_length_norm0.123 +/- 0.036\n"
     ]
    }
   ],
   "metadata": {}
  },
  {
   "cell_type": "markdown",
   "source": [
    "Observa-se novamente a mesma situação; a característica mais relevante é a mesma; `flipper_length_norm`. As duas outras características em questão foram omitidas por não terem muita importância, uma vez que não cumprem a condição no código \r\n",
    "\r\n",
    "    if r.importances_mean[i] - 2 * r.importances_std[i] > 0`"
   ],
   "metadata": {}
  }
 ],
 "metadata": {
  "kernelspec": {
   "name": "python3",
   "display_name": "Python 3.9.7 64-bit ('ilumpy': venv)"
  },
  "language_info": {
   "codemirror_mode": {
    "name": "ipython",
    "version": 3
   },
   "file_extension": ".py",
   "mimetype": "text/x-python",
   "name": "python",
   "nbconvert_exporter": "python",
   "pygments_lexer": "ipython3",
   "version": "3.9.7"
  },
  "interpreter": {
   "hash": "b3e6b8674b6565fbc2ba6932dd725c7d9cea502db282270049ae80a8cf38102d"
  }
 },
 "nbformat": 4,
 "nbformat_minor": 5
}