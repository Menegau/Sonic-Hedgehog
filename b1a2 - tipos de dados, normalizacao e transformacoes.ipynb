{
 "cells": [
  {
   "cell_type": "markdown",
   "metadata": {},
   "source": [
    "Tipos de dados, transformações e normalização\n",
    "=============================================\n",
    "\n"
   ]
  },
  {
   "cell_type": "markdown",
   "metadata": {},
   "source": [
    "## DataFrame\n",
    "\n"
   ]
  },
  {
   "cell_type": "markdown",
   "metadata": {},
   "source": [
    "Antes de seguir em frente precisamos do `DataFrame` dos dados que iremos tratar. Neste notebook nós mesmos criaremos os dados e armazenaremos eles em um dicionário. Usaremos o conversor de dicionário em `DataFrame` do próprio `pandas`.\n",
    "\n"
   ]
  },
  {
   "cell_type": "code",
   "execution_count": 1,
   "metadata": {},
   "outputs": [
    {
     "name": "stdout",
     "output_type": "stream",
     "text": [
      "        Nome  Idade  Bigode épico? Altura\n",
      "0     Platão   80.0           True   <NA>\n",
      "1   Sócrates   71.0           True   <NA>\n",
      "2  Descartes   53.0          False   1.55\n",
      "3  Nietzsche   55.0           True    1.7\n"
     ]
    }
   ],
   "source": [
    "import pandas as pd\n",
    "\n",
    "dicionario_contendo_os_dados = {\n",
    "    \"Nome\": [\"Platão\", \"Sócrates\", \"Descartes\", \"Nietzsche\"],\n",
    "    \"Idade\": [80, 71, 53, 55.0],\n",
    "    \"Bigode épico?\": [True, True, False, True],\n",
    "    \"Altura\": [pd.NA, pd.NA, 1.55, 1.70],\n",
    "}\n",
    "\n",
    "df = pd.DataFrame.from_dict(dicionario_contendo_os_dados)\n",
    "\n",
    "print(df)"
   ]
  },
  {
   "cell_type": "markdown",
   "metadata": {},
   "source": [
    "O objeto `pd.NA` indica para o `pandas` que o dado não está disponível (*not available*). É bastante comum um conjunto de dados ter certas entradas indisponíveis e faz parte do pré-processamento de dados identificar e tratar esse tipo de problema.\n",
    "\n"
   ]
  },
  {
   "cell_type": "markdown",
   "metadata": {},
   "source": [
    "## Tipos dos dados\n",
    "\n"
   ]
  },
  {
   "cell_type": "markdown",
   "metadata": {},
   "source": [
    "Dados podem ter diversos tipos. Certas informações, como o nome das pessoas, são representados por textos, logo são strings. Números podem ser inteiros, floats, complexos, Booleanos&#x2026;\n",
    "\n",
    "Vamos ver se o `pandas` conseguiu entender corretamente os tipos dos nossos dados.\n",
    "\n"
   ]
  },
  {
   "cell_type": "code",
   "execution_count": 2,
   "metadata": {},
   "outputs": [
    {
     "name": "stdout",
     "output_type": "stream",
     "text": [
      "Nome              object\n",
      "Idade            float64\n",
      "Bigode épico?       bool\n",
      "Altura            object\n",
      "dtype: object\n"
     ]
    }
   ],
   "source": [
    "print(df.dtypes)"
   ]
  },
  {
   "cell_type": "markdown",
   "metadata": {},
   "source": [
    "Segundo o `pandas`, a coluna `Nome` tem o tipo de `object`. Este tipo simplesmente está nos dizendo que existem objetos quaisquer de Python dentro dessa coluna (o que não diz muuuuita coisa na verdade&#x2026;). Uma coluna que contenha dados de diferentes tipos sempre será uma coluna do tipo `object`. Uma coluna que só contenha strings acaba sendo uma coluna do tipo `object` por padrão no `pandas`.\n",
    "\n",
    "A coluna `Idade` é uma coluna com o tipo `float64`, ou seja, ela guarda números reais que são armazenados em 64 bits no seu computador. Ué, mas as idades são todas números inteiros, o que aconteceu aqui? Aconteceu que uma das idades estava escrita como float (você consegue identificar qual?). Quando o `pandas` encontra dados numéricos misturados, ele sempre escolhe o tipo que consegue englobar a todos. Como os inteiros são um subconjunto dos reais, então o `pandas` optou por usar `float` ao invés de `int` para contemplar todos os dados da coluna `Idade`.\n",
    "\n",
    "A coluna `Bigode épico?` foi corretamente identificada como uma coluna do tipo Booleana.\n",
    "\n",
    "A coluna `Altura` foi identificada como uma coluna do tipo `object`&#x2026; mas ela só contém números, não é? Na verdade não, ela contém também células vazias representadas pelo `pd.NA`. Para o `pandas` isso significa que existe uma mistura de diferentes tipos de objetos de Python, logo o tipo da coluna é `object`.\n",
    "\n",
    "DataFrames de `pandas` têm um método que permite eles inferirem &ldquo;automaticamente&rdquo; os tipos de colunas. Vamos ver como ele se comporta no nosso `DataFrame`.\n",
    "\n"
   ]
  },
  {
   "cell_type": "code",
   "execution_count": 3,
   "metadata": {},
   "outputs": [
    {
     "name": "stdout",
     "output_type": "stream",
     "text": [
      "Nome              string\n",
      "Idade              Int64\n",
      "Bigode épico?    boolean\n",
      "Altura            object\n",
      "dtype: object\n"
     ]
    }
   ],
   "source": [
    "df = df.convert_dtypes()\n",
    "print(df.dtypes)"
   ]
  },
  {
   "cell_type": "markdown",
   "metadata": {},
   "source": [
    "Há! O método `convert_dtypes` foi sagaz e entendeu que a coluna `Nome` é composta por strings e que a coluna `Idade` contém na verdade apenas números inteiros. Ele converteu a coluna `Bigode Épico?` de `bool` para `boolean`. A diferença é simples: colunas com o tipo `boolean` permitem células vazias usando o `pd.NA`. Colunas do tipo `bool` não permitem. Por fim, a coluna `Altura` permanece com o tipo `object` pois não há nada que possa ser feito, afinal ela de fato é composta por tipos diferentes de dados.\n",
    "\n",
    "Digamos que você queira alterar o tipo de uma coluna &ldquo;na mão&rdquo;. Isso pode ser feito com o método `astype`. Vamos alterar a coluna `Idade` para o tipo `float`:\n",
    "\n"
   ]
  },
  {
   "cell_type": "code",
   "execution_count": 4,
   "metadata": {},
   "outputs": [
    {
     "name": "stdout",
     "output_type": "stream",
     "text": [
      "Nome              string\n",
      "Idade            float64\n",
      "Bigode épico?    boolean\n",
      "Altura            object\n",
      "dtype: object\n"
     ]
    }
   ],
   "source": [
    "df2 = df.copy()\n",
    "df2[\"Idade\"] = df2[\"Idade\"].astype(float)\n",
    "print(df2.dtypes)"
   ]
  },
  {
   "cell_type": "markdown",
   "metadata": {},
   "source": [
    "Voilà!\n",
    "\n"
   ]
  },
  {
   "cell_type": "markdown",
   "metadata": {},
   "source": [
    "## Eliminando dados incompletos\n",
    "\n"
   ]
  },
  {
   "cell_type": "markdown",
   "metadata": {},
   "source": [
    "Existem dados incompletos na nossa tabela; não sabemos a altura de Sócrates nem de Platão. A maioria dos algoritmos de Aprendizado de Máquina que iremos estudar não se dão bem com dados incompletos, logo precisamos tratá-los!\n",
    "\n",
    "A maneira mais simples (mas não necessariamente a melhor!) de se tratar dados incompletos é eliminá-los! DataFrames têm um método muito conveniente para se fazer isso, chamado de `dropna`. Quando usamos esse método devemos pensar se queremos eliminar as *linhas* que têm dados incompletos (eixo 0) ou se queremos eliminar as *colunas* que têm dados incompletos (eixo 1). Os exemplos abaixo são autoexplicativos.\n",
    "\n"
   ]
  },
  {
   "cell_type": "code",
   "execution_count": 5,
   "metadata": {},
   "outputs": [
    {
     "name": "stdout",
     "output_type": "stream",
     "text": [
      "        Nome  Idade  Bigode épico? Altura\n",
      "2  Descartes     53          False   1.55\n",
      "3  Nietzsche     55           True    1.7\n"
     ]
    }
   ],
   "source": [
    "df3 = df.copy()\n",
    "df3 = df3.dropna(axis=0)\n",
    "print(df3)"
   ]
  },
  {
   "cell_type": "code",
   "execution_count": 6,
   "metadata": {},
   "outputs": [
    {
     "name": "stdout",
     "output_type": "stream",
     "text": [
      "        Nome  Idade  Bigode épico?\n",
      "0     Platão     80           True\n",
      "1   Sócrates     71           True\n",
      "2  Descartes     53          False\n",
      "3  Nietzsche     55           True\n"
     ]
    }
   ],
   "source": [
    "df4 = df.copy()\n",
    "df4 = df4.dropna(axis=1)\n",
    "print(df4)"
   ]
  },
  {
   "cell_type": "markdown",
   "metadata": {},
   "source": [
    "## Transformações\n",
    "\n"
   ]
  },
  {
   "cell_type": "markdown",
   "metadata": {},
   "source": [
    "Parte do tratamento de dados envolve aplicarmos funções nos dados. Chamamos isso de transformação. Quem sabe você tenha uma temperatura em graus Celsius e queira ela em Kelvin. Neste caso, você terá que aplicar uma função que altere o valor da coluna original adicionando 273,15.\n",
    "\n",
    "Vamos converter a idade dos nossos filósofos de anos para segundos! Note que estamos fazendo cópias do `DataFrame` original para cada alteração. Isso não é obrigatório nem necessário. Fizemos isso aqui para não ter problema na ordem de execução das células deste notebook. Inclusive, se seu conjunto de dados for muito grande, não é uma boa prática ficar criando cópias!\n",
    "\n"
   ]
  },
  {
   "cell_type": "code",
   "execution_count": 7,
   "metadata": {},
   "outputs": [
    {
     "name": "stdout",
     "output_type": "stream",
     "text": [
      "        Nome       Idade  Bigode épico? Altura\n",
      "0     Platão  2522880000           True   <NA>\n",
      "1   Sócrates  2239056000           True   <NA>\n",
      "2  Descartes  1671408000          False   1.55\n",
      "3  Nietzsche  1734480000           True    1.7\n"
     ]
    }
   ],
   "source": [
    "df5 = df.copy()\n",
    "df5[\"Idade\"] = df5[\"Idade\"] * 365 * 24 * 3600\n",
    "\n",
    "print(df5)"
   ]
  },
  {
   "cell_type": "markdown",
   "metadata": {},
   "source": [
    "Agora temos um problema, a coluna `Idade` contém valores muito grandes! Quem sabe seja razoável aplicar um logaritmo aqui!\n",
    "\n"
   ]
  },
  {
   "cell_type": "code",
   "execution_count": 8,
   "metadata": {},
   "outputs": [
    {
     "name": "stdout",
     "output_type": "stream",
     "text": [
      "        Nome     Idade  Bigode épico? Altura\n",
      "0     Platão  9.401897           True   <NA>\n",
      "1   Sócrates  9.350065           True   <NA>\n",
      "2  Descartes  9.223082          False   1.55\n",
      "3  Nietzsche  9.239169           True    1.7\n"
     ]
    }
   ],
   "source": [
    "import numpy as np\n",
    "\n",
    "df5[\"Idade\"] = np.log10(df5[\"Idade\"])\n",
    "print(df5)"
   ]
  },
  {
   "cell_type": "markdown",
   "metadata": {},
   "source": [
    "Faz parte do pré-processamento de dados refletir sobre quais transformações são interessantes/necessárias nos seus dados. Em particular, se você tem alguma grandeza numérica que varia mais que uma ordem de grandeza, considere a possibilidade de trabalhar com o logaritmo dessa grandeza para evitar que os números muito grandes dominem os cálculos em relação aos números muito pequenos.\n",
    "\n"
   ]
  },
  {
   "cell_type": "markdown",
   "metadata": {},
   "source": [
    "## Normalização\n",
    "\n"
   ]
  },
  {
   "cell_type": "markdown",
   "metadata": {},
   "source": [
    "Um tipo de transformação de dados muito comum é a chamada *normalização*. Muitos algoritmos de aprendizado de máquina <u>requerem</u> que os dados estejam normalizados. Redes neurais artificiais, por exemplo, se beneficiam quando os dados de entrada estão entre $-1$ e $1$. Certos modelos assumem que os dados vêm de uma distribuição com média zero e desvio padrão um e irão se comportar de maneira subótima quando isso não é o caso.\n",
    "\n",
    "Existem três tipos usuais de normalização para dados numéricos tabulados: normalização padrão (z-score), normalização pelo máximo absoluto e normalização pelo mínimo e máximo.\n",
    "\n",
    "A <u>normalização padrão</u> altera a média dos dados para zero e o desvio padrão dos dados para um. Ela pode ser calculada com a equação abaixo, onde $\\mu$ é a média dos dados $x$, $\\sigma$ é o desvio padrão dos dados $x$, $x_i$ é o valor do atributo $x$ do exemplo $i$ e $z_i$ é o valor normalizado do atributo $x$ do exemplo $i$.\n",
    "\n",
    "$$z_i = \\frac{x_i - \\mu}{\\sigma}$$\n",
    "\n"
   ]
  },
  {
   "cell_type": "code",
   "execution_count": 9,
   "metadata": {},
   "outputs": [
    {
     "name": "stdout",
     "output_type": "stream",
     "text": [
      "        Nome  Idade  Bigode épico? Altura  Idade_zscore\n",
      "0     Platão     80           True   <NA>      1.175689\n",
      "1   Sócrates     71           True   <NA>       0.48184\n",
      "2  Descartes     53          False   1.55     -0.905858\n",
      "3  Nietzsche     55           True    1.7      -0.75167\n"
     ]
    }
   ],
   "source": [
    "media = df['Idade'].mean()\n",
    "desvio_padrao = df['Idade'].std()\n",
    "\n",
    "df['Idade_zscore'] = (df['Idade'] - media) / desvio_padrao\n",
    "\n",
    "print(df)"
   ]
  },
  {
   "cell_type": "markdown",
   "metadata": {},
   "source": [
    "A <u>normalização pelo máximo absoluto</u> faz com que o valor máximo dos dados seja 1. Para calcular esta normalização basta dividir os dados pelo valor máximo.\n",
    "\n"
   ]
  },
  {
   "cell_type": "code",
   "execution_count": 10,
   "metadata": {},
   "outputs": [
    {
     "name": "stdout",
     "output_type": "stream",
     "text": [
      "        Nome  Idade  Bigode épico? Altura  Idade_zscore  Idade_norm_max_abs\n",
      "0     Platão     80           True   <NA>      1.175689                 1.0\n",
      "1   Sócrates     71           True   <NA>       0.48184              0.8875\n",
      "2  Descartes     53          False   1.55     -0.905858              0.6625\n",
      "3  Nietzsche     55           True    1.7      -0.75167              0.6875\n"
     ]
    }
   ],
   "source": [
    "maximo = df['Idade'].max()\n",
    "\n",
    "df['Idade_norm_max_abs'] = df['Idade'] / maximo\n",
    "\n",
    "print(df)"
   ]
  },
  {
   "cell_type": "markdown",
   "metadata": {},
   "source": [
    "A <u>normalização pelo mínimo e máximo</u> modifica os dados de forma que, após a transformação, os dados tenham valor mínimo de 0 e valor máximo de 1. O valor transformado $m_i$ do exemplo $i$ depende do valor do atributo $x_i$ deste exemplo e do valor mínimo e valor máximo deste atributo considerando todo o dataset $x$:\n",
    "\n",
    "$$ m_i = \\frac{x_i - \\min(x_i)}{\\max(x) - \\min(x)} $$\n",
    "\n"
   ]
  },
  {
   "cell_type": "code",
   "execution_count": 11,
   "metadata": {},
   "outputs": [
    {
     "name": "stdout",
     "output_type": "stream",
     "text": [
      "        Nome  Idade  Bigode épico? Altura  Idade_zscore  Idade_norm_max_abs  \\\n",
      "0     Platão     80           True   <NA>      1.175689                 1.0   \n",
      "1   Sócrates     71           True   <NA>       0.48184              0.8875   \n",
      "2  Descartes     53          False   1.55     -0.905858              0.6625   \n",
      "3  Nietzsche     55           True    1.7      -0.75167              0.6875   \n",
      "\n",
      "   Idade_norm_min_max  \n",
      "0                 1.0  \n",
      "1            0.666667  \n",
      "2                 0.0  \n",
      "3            0.074074  \n"
     ]
    }
   ],
   "source": [
    "maximo = df['Idade'].max()\n",
    "minimo = df['Idade'].min()\n",
    "\n",
    "df['Idade_norm_min_max'] = (df['Idade'] - minimo) / (maximo - minimo)\n",
    "\n",
    "print(df)"
   ]
  },
  {
   "cell_type": "markdown",
   "metadata": {},
   "source": [
    "A normalização de dados em experimentos de Aprendizado de Máquina realizados em Python é geralmente feita pelo excelente módulo `scikit-learn`. Para mais informações, veja o [Guia do Usuário](https://scikit-learn.org/stable/modules/preprocessing.html).\n",
    "\n"
   ]
  }
 ],
 "metadata": {
  "kernelspec": {
   "display_name": "ilumpy",
   "language": "python",
   "name": "ilumpy"
  },
  "language_info": {
   "codemirror_mode": {
    "name": "ipython",
    "version": 3
   },
   "file_extension": ".py",
   "mimetype": "text/x-python",
   "name": "python",
   "nbconvert_exporter": "python",
   "pygments_lexer": "ipython3",
   "version": "3.9.7"
  },
  "org": null
 },
 "nbformat": 4,
 "nbformat_minor": 4
}
