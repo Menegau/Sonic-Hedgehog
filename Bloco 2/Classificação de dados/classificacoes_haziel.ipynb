{
 "cells": [
  {
   "cell_type": "markdown",
   "id": "7def6ec0-82d2-4339-8a28-6c5e377eb796",
   "metadata": {},
   "source": [
    "## Classificação dos dados\n",
    "### Classificação supervisionada"
   ]
  },
  {
   "cell_type": "code",
   "execution_count": 3,
   "id": "43d5b5ea-dc6c-4e9c-8db6-5f50968d49c8",
   "metadata": {
    "collapsed": true,
    "jupyter": {
     "outputs_hidden": true
    },
    "tags": []
   },
   "outputs": [
    {
     "ename": "NameError",
     "evalue": "name 'df_arruma' is not defined",
     "output_type": "error",
     "traceback": [
      "\u001b[1;31m---------------------------------------------------------------------------\u001b[0m",
      "\u001b[1;31mNameError\u001b[0m                                 Traceback (most recent call last)",
      "\u001b[1;32mC:\\Users\\HAZIEL~1\\AppData\\Local\\Temp/ipykernel_21980/2505997414.py\u001b[0m in \u001b[0;36m<module>\u001b[1;34m\u001b[0m\n\u001b[1;32m----> 1\u001b[1;33m \u001b[0mdfa\u001b[0m \u001b[1;33m=\u001b[0m \u001b[0mdf_arruma\u001b[0m\u001b[1;33m\u001b[0m\u001b[1;33m\u001b[0m\u001b[0m\n\u001b[0m",
      "\u001b[1;31mNameError\u001b[0m: name 'df_arruma' is not defined"
     ]
    }
   ],
   "source": [
    "dfa = df_arruma"
   ]
  },
  {
   "cell_type": "markdown",
   "id": "2d08f5c3-aa64-446f-b686-ca41cf2445d6",
   "metadata": {},
   "source": [
    "Nosso target é a largura do bico (bill length) dos pinguins, e, visto que é um target numérico, o agruparemos em 5 grupos:\\\n",
    "#### Grupos\n",
    "1. (Muito pequeno) 0.0 até 0.2 \\\n",
    "dfa[\"bill_length_norm\"] <= 0.2\n",
    "2. (Pequeno) 0.2 até 0.4 \\\n",
    "(dfa[\"bill_length_norm\"] > 0.2) & (dfa[\"bill_length_norm\"] <= 0.4)\\\n",
    "E assim por diante\n",
    "3. (Médio) 0.4 até 0.6\n",
    "4. (Grande) 0.6 até 0.8\n",
    "5. (Muito grande) 0.8 até 1\n",
    "\n",
    "Na célula seguinte, organizei o valor da largura dos bicos (normalizado) em ordem crescente."
   ]
  },
  {
   "cell_type": "code",
   "execution_count": null,
   "id": "0d878db1-2bbb-4269-843a-f4ae8730acf1",
   "metadata": {},
   "outputs": [],
   "source": [
    "dfa.sort_values(by=['bill_length_norm'])"
   ]
  },
  {
   "cell_type": "markdown",
   "id": "5a6541ce-497d-4fcf-81ae-28889af707e4",
   "metadata": {},
   "source": [
    "A seguir, aplicamos o código para classificar os bicos dos pinguins."
   ]
  },
  {
   "cell_type": "code",
   "execution_count": null,
   "id": "4791647d-43af-492d-a408-3710c3f8272f",
   "metadata": {},
   "outputs": [],
   "source": [
    "dfa[\"Largura do bico (categórico)\"] = None\n",
    "\n",
    "divisao = dfa[\"bill_length_norm\"] <= 0.2\n",
    "dfa.loc[divisao,\"Largura do bico (categórico)\"] = \"Muito pequeno\"\n",
    "    \n",
    "divisao = (dfa[\"bill_length_norm\"] > 0.2) & (dfa[\"bill_length_norm\"] <= 0.4) # Pequeno\n",
    "dfa.loc[divisao,\"Largura do bico (categórico)\"] = \"Pequeno\"\n",
    "    \n",
    "divisao = (dfa[\"bill_length_norm\"] > 0.4) & (dfa[\"bill_length_norm\"] <= 0.6) # Médio\n",
    "dfa.loc[divisao,\"Largura do bico (categórico)\"] = \"Médio\"\n",
    "    \n",
    "divisao = (dfa[\"bill_length_norm\"] > 0.6) & (dfa[\"bill_length_norm\"] <= 0.8) # Grande\n",
    "dfa.loc[divisao,\"Largura do bico (categórico)\"] = \"Grande\"\n",
    "\n",
    "divisao = (dfa[\"bill_length_norm\"] > 0.8) & (dfa[\"bill_length_norm\"] <= 1) # Muito grande\n",
    "dfa.loc[divisao,\"Largura do bico (categórico)\"] = \"Muito grande\"\n",
    "\n",
    "print(dfa)\n",
    "print(\"Deu certo, apenas faltaria organizar a coluna em ordem crescente!\")"
   ]
  },
  {
   "cell_type": "markdown",
   "id": "3d2d4154-6748-4cd3-9afd-3ed88e69019c",
   "metadata": {},
   "source": [
    "#### Classificação com k-NN"
   ]
  },
  {
   "cell_type": "markdown",
   "id": "98186590-fa6c-4235-88a2-356d7f7171f0",
   "metadata": {},
   "source": [
    "Agora, vamos começar a testar os três modelos passados em aula. O primeiro sendo o k-NN, ou nearest neighbors. "
   ]
  },
  {
   "cell_type": "code",
   "execution_count": null,
   "id": "4e49697d-d353-4aff-b070-b003607e77dd",
   "metadata": {},
   "outputs": [],
   "source": [
    "from sklearn.model_selection import train_test_split\n",
    "\n",
    "tamanho_teste = 0.1 \n",
    "semente = 61454\n",
    "#Definimos o tamanho do nosso teste e uma semente escolhida\n",
    "\n",
    "features = [\"body_mass_norm\", \"bill_depth_norm\", \"flipper_length_norm\"] \n",
    "target = [\"Largura do bico (categórico)\"]\n",
    "#Após isso, definimos as features que utilizaremos (neste caso todas as numéricas) nos nossos treinos e previsões\n",
    "# para chegarmos no target."
   ]
  },
  {
   "cell_type": "code",
   "execution_count": null,
   "id": "43b6d6e7-ac71-49be-a821-c2d252424379",
   "metadata": {},
   "outputs": [],
   "source": [
    "indices = dfa.index\n",
    "indices_treino, indices_teste = train_test_split(indices, test_size = tamanho_teste, random_state = semente)\n",
    "#Definimos os indices que utilizaremos (do nosso data set). Com todos os indices do data set, escolhemos\n",
    "# quais usaremos para treino e para teste.\n",
    "\n",
    "\n",
    "dfa_treino = dfa.loc[indices_treino]\n",
    "dfa_teste = dfa.loc[indices_teste]\n",
    "\n",
    "x_treino = dfa_treino.reindex(features, axis=1).values\n",
    "x_teste = dfa_teste.reindex(features, axis=1).values\n",
    "\n",
    "y_treino = dfa_treino.reindex(target, axis=1).values.ravel()\n",
    "y_teste = dfa_teste.reindex(target, axis=1).values.ravel()\n"
   ]
  },
  {
   "cell_type": "code",
   "execution_count": null,
   "id": "ed7b37ec-bcd5-40a3-b36b-43d5194760a0",
   "metadata": {},
   "outputs": [],
   "source": [
    "from sklearn.neighbors import KNeighborsClassifier\n",
    "import numpy\n",
    "\n",
    "modelo_vizinhos = KNeighborsClassifier()\n",
    "#Após termos importado o classificador, criamos o nosso modelo\n",
    "\n",
    "\n",
    "modelo_vizinhos.fit(x_treino,y_treino)\n",
    "# Então treinamos o modelo com nossas variáveis de treino, através do módulo .fit\n",
    "\n",
    "\n",
    "previsao1 = modelo_vizinhos.predict(x_teste)\n",
    "print(previsao1)"
   ]
  },
  {
   "cell_type": "markdown",
   "id": "410fd88b-1f99-4aa2-b7bb-614a1e4aeac6",
   "metadata": {},
   "source": [
    "E, com isso, temos a nossa primeira previsão! Mas ela apenas utilizou dados de teste. A seguir, vamos utilizar os dados \"verdadeiros\". "
   ]
  },
  {
   "cell_type": "code",
   "execution_count": null,
   "id": "5575614a-4eef-474f-b12c-35c7c3c48c74",
   "metadata": {},
   "outputs": [],
   "source": [
    "from sklearn import metrics\n",
    "\n",
    "print(\"Precisão:\", metrics.accuracy_score(y_teste, previsao1))"
   ]
  },
  {
   "cell_type": "markdown",
   "id": "f00c5437-7d6e-47a5-a7b5-25190127b22e",
   "metadata": {},
   "source": [
    "#### Classificação com árvore de decisão"
   ]
  },
  {
   "cell_type": "code",
   "execution_count": null,
   "id": "29e78812-ab4f-4a73-9443-6b5dac33604b",
   "metadata": {},
   "outputs": [],
   "source": [
    "from sklearn.tree import DecisionTreeClassifier\n",
    "\n",
    "modelo_arvore = DecisionTreeClassifier(random_state = semente)\n",
    "\n",
    "modelo_arvore.fit(x_treino, y_treino)\n",
    "\n",
    "previsao2 = modelo_arvore.predict(x_teste)\n",
    "print(previsao2)"
   ]
  },
  {
   "cell_type": "code",
   "execution_count": null,
   "id": "de81e1ab-240b-4391-86db-2d09fa6cbec0",
   "metadata": {},
   "outputs": [],
   "source": [
    "print(\"Precisão:\", metrics.accuracy_score(y_teste, previsao2))"
   ]
  },
  {
   "cell_type": "markdown",
   "id": "f9ea2841-9314-46da-88aa-8cc20354c08c",
   "metadata": {},
   "source": [
    "#### Classificação com florestas aleatórias"
   ]
  },
  {
   "cell_type": "code",
   "execution_count": null,
   "id": "1b6385d4-3498-440b-864f-0d9034416ac0",
   "metadata": {},
   "outputs": [],
   "source": [
    "from sklearn.ensemble import RandomForestClassifier\n",
    "\n",
    "modelo_floresta = RandomForestClassifier(random_state = semente)\n",
    "\n",
    "modelo_floresta.fit(x_treino, y_treino)\n",
    "\n",
    "previsao3 = modelo_arvore.predict(x_teste)\n",
    "print(previsao3)"
   ]
  },
  {
   "cell_type": "code",
   "execution_count": null,
   "id": "fcaeacd8-ac84-4196-8b59-9bbff1305e77",
   "metadata": {},
   "outputs": [],
   "source": [
    "print(\"Precisão:\", metrics.accuracy_score(y_teste, previsao3))"
   ]
  },
  {
   "cell_type": "markdown",
   "id": "baf3c47d-3ae4-40e0-b214-53dc222a1b37",
   "metadata": {},
   "source": [
    "As hipóteses para essas baixas precisões/accuracy são: o baixo número de parametros, a utilização APENAS de parametros numéricos e a não utilização de hiperparametros."
   ]
  },
  {
   "cell_type": "markdown",
   "id": "80f52a50-4de8-4004-bac0-7208c75b0654",
   "metadata": {},
   "source": [
    "#### Tentativa de refinar os dados com hiperparâmetros"
   ]
  },
  {
   "cell_type": "markdown",
   "id": "8a8fbe4d-abdb-479b-839c-c9c67b5345ba",
   "metadata": {},
   "source": [
    "Assim como sugerido no final do bloco da última aula, tentei refinar os dados com hiperparametros utilizando o grid search. E, mesmo que tenha ajudado, creio que ainda seja necessário aumentar os parametros a serem utilizados."
   ]
  },
  {
   "cell_type": "code",
   "execution_count": null,
   "id": "b208e2ac-32b4-47cb-94ed-63b4a86775da",
   "metadata": {},
   "outputs": [],
   "source": [
    "from sklearn.model_selection import GridSearchCV\n",
    "\n",
    "param_grid = {\n",
    "    'n_estimators': [200, 300, 400, 500, 600],\n",
    "    'max_features': ['auto', 'sqrt', 'log2'],\n",
    "    'max_depth' : [4,6,8,10,12,14,16],\n",
    "    'criterion' :['gini', 'entropy']\n",
    "}\n",
    "\n",
    "CV_rfc = GridSearchCV(estimator=modelo_floresta, param_grid=param_grid, cv= 5, n_jobs=8)\n",
    "CV_rfc.fit(x_treino, y_treino)"
   ]
  },
  {
   "cell_type": "code",
   "execution_count": null,
   "id": "bce63f8f-6e51-418e-8384-4ed55808d1fa",
   "metadata": {},
   "outputs": [],
   "source": [
    "print(CV_rfc.best_params_)\n",
    "best_params = CV_rfc.best_params_"
   ]
  },
  {
   "cell_type": "code",
   "execution_count": null,
   "id": "b45fda44-8f78-402f-a73b-1c2a6abcfa42",
   "metadata": {},
   "outputs": [],
   "source": [
    "best_params = {'criterion': 'entropy', 'max_depth': 14, 'max_features': 'sqrt', 'n_estimators': 600}\n",
    "\n",
    "modelo_floresta = RandomForestClassifier(random_state=semente)\n",
    "modelo_floresta.set_params(**best_params)\n"
   ]
  },
  {
   "cell_type": "code",
   "execution_count": 1,
   "id": "f71c09ca-732d-4618-927f-662c9ccc3115",
   "metadata": {},
   "outputs": [
    {
     "ename": "NameError",
     "evalue": "name 'modelo_floresta' is not defined",
     "output_type": "error",
     "traceback": [
      "\u001b[1;31m---------------------------------------------------------------------------\u001b[0m",
      "\u001b[1;31mNameError\u001b[0m                                 Traceback (most recent call last)",
      "\u001b[1;32mC:\\Users\\HAZIEL~1\\AppData\\Local\\Temp/ipykernel_21980/3877976489.py\u001b[0m in \u001b[0;36m<module>\u001b[1;34m\u001b[0m\n\u001b[1;32m----> 1\u001b[1;33m \u001b[0mmodelo_floresta\u001b[0m\u001b[1;33m.\u001b[0m\u001b[0mfit\u001b[0m\u001b[1;33m(\u001b[0m\u001b[0mx_treino\u001b[0m\u001b[1;33m,\u001b[0m \u001b[0my_treino\u001b[0m\u001b[1;33m)\u001b[0m\u001b[1;33m\u001b[0m\u001b[1;33m\u001b[0m\u001b[0m\n\u001b[0m\u001b[0;32m      2\u001b[0m \u001b[0mprevisao\u001b[0m \u001b[1;33m=\u001b[0m \u001b[0mmodelo_floresta\u001b[0m\u001b[1;33m.\u001b[0m\u001b[0mpredict\u001b[0m\u001b[1;33m(\u001b[0m\u001b[0mx_teste\u001b[0m\u001b[1;33m)\u001b[0m\u001b[1;33m\u001b[0m\u001b[1;33m\u001b[0m\u001b[0m\n\u001b[0;32m      3\u001b[0m \u001b[0mprint\u001b[0m\u001b[1;33m(\u001b[0m\u001b[0mprevisao\u001b[0m\u001b[1;33m)\u001b[0m\u001b[1;33m\u001b[0m\u001b[1;33m\u001b[0m\u001b[0m\n\u001b[0;32m      4\u001b[0m \u001b[0mprint\u001b[0m\u001b[1;33m(\u001b[0m\u001b[1;34m\"Accuracy:\"\u001b[0m\u001b[1;33m,\u001b[0m\u001b[0mmetrics\u001b[0m\u001b[1;33m.\u001b[0m\u001b[0maccuracy_score\u001b[0m\u001b[1;33m(\u001b[0m\u001b[0my_teste\u001b[0m\u001b[1;33m,\u001b[0m \u001b[0mprevisao\u001b[0m\u001b[1;33m)\u001b[0m\u001b[1;33m)\u001b[0m\u001b[1;33m\u001b[0m\u001b[1;33m\u001b[0m\u001b[0m\n\u001b[0;32m      5\u001b[0m \u001b[0mprint\u001b[0m\u001b[1;33m(\u001b[0m\u001b[1;33m)\u001b[0m\u001b[1;33m\u001b[0m\u001b[1;33m\u001b[0m\u001b[0m\n",
      "\u001b[1;31mNameError\u001b[0m: name 'modelo_floresta' is not defined"
     ]
    }
   ],
   "source": [
    "modelo_floresta.fit(x_treino, y_treino)\n",
    "previsao = modelo_floresta.predict(x_teste)\n",
    "print(previsao)\n",
    "print(\"Accuracy:\",metrics.accuracy_score(y_teste, previsao))\n",
    "print()\n",
    "print(\"Melhorou bem pouco.\")"
   ]
  },
  {
   "cell_type": "markdown",
   "id": "104ee0a8-6149-4667-a7ff-59261129bbce",
   "metadata": {},
   "source": [
    "Correção 24/10/2022:\n",
    "\n",
    "Agora nosso target é a espécie do pinguim, o que está sendo trabalhado nos próximos blocos. "
   ]
  },
  {
   "cell_type": "code",
   "execution_count": null,
   "id": "7f4b661c-b279-4614-ac04-36ba03efbd69",
   "metadata": {},
   "outputs": [],
   "source": []
  }
 ],
 "metadata": {
  "kernelspec": {
   "display_name": "ilumpy",
   "language": "python",
   "name": "ilumpy"
  },
  "language_info": {
   "codemirror_mode": {
    "name": "ipython",
    "version": 3
   },
   "file_extension": ".py",
   "mimetype": "text/x-python",
   "name": "python",
   "nbconvert_exporter": "python",
   "pygments_lexer": "ipython3",
   "version": "3.9.7"
  }
 },
 "nbformat": 4,
 "nbformat_minor": 5
}
