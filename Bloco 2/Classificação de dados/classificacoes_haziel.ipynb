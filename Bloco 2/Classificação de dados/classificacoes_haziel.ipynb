{
 "cells": [
  {
   "cell_type": "markdown",
   "id": "7def6ec0-82d2-4339-8a28-6c5e377eb796",
   "metadata": {},
   "source": [
    "## Classificação dos dados\n",
    "### Classificação supervisionada"
   ]
  },
  {
   "cell_type": "code",
   "execution_count": 40,
   "id": "aa538cd5-28db-4cc5-bbc8-1cde05c04853",
   "metadata": {},
   "outputs": [],
   "source": [
    "dfa = df_arrumado"
   ]
  },
  {
   "cell_type": "markdown",
   "id": "2d08f5c3-aa64-446f-b686-ca41cf2445d6",
   "metadata": {},
   "source": [
    "Nosso target é a largura do bico (bill length) dos pinguins, e, visto que é um target numérico, o agruparemos em 5 grupos:\\\n",
    "#### Grupos\n",
    "1. (Muito pequeno) 0.0 até 0.2 \\\n",
    "dfa[\"bill_length_norm\"] <= 0.2\n",
    "2. (Pequeno) 0.2 até 0.4 \\\n",
    "(dfa[\"bill_length_norm\"] > 0.2) & (dfa[\"bill_length_norm\"] <= 0.4)\\\n",
    "E assim por diante\n",
    "3. (Médio) 0.4 até 0.6\n",
    "4. (Grande) 0.6 até 0.8\n",
    "5. (Muito grande) 0.8 até 1\n",
    "\n",
    "Na célula seguinte, organizei o valor da largura dos bicos (normalizado) em ordem crescente."
   ]
  },
  {
   "cell_type": "code",
   "execution_count": 20,
   "id": "0d878db1-2bbb-4269-843a-f4ae8730acf1",
   "metadata": {},
   "outputs": [
    {
     "data": {
      "text/html": [
       "<div>\n",
       "<style scoped>\n",
       "    .dataframe tbody tr th:only-of-type {\n",
       "        vertical-align: middle;\n",
       "    }\n",
       "\n",
       "    .dataframe tbody tr th {\n",
       "        vertical-align: top;\n",
       "    }\n",
       "\n",
       "    .dataframe thead th {\n",
       "        text-align: right;\n",
       "    }\n",
       "</style>\n",
       "<table border=\"1\" class=\"dataframe\">\n",
       "  <thead>\n",
       "    <tr style=\"text-align: right;\">\n",
       "      <th></th>\n",
       "      <th>bill_length_norm</th>\n",
       "      <th>bill_depth_norm</th>\n",
       "      <th>flipper_length_norm</th>\n",
       "      <th>body_mass_norm</th>\n",
       "    </tr>\n",
       "  </thead>\n",
       "  <tbody>\n",
       "    <tr>\n",
       "      <th>136</th>\n",
       "      <td>0.0</td>\n",
       "      <td>0.285714</td>\n",
       "      <td>0.271186</td>\n",
       "      <td>0.097222</td>\n",
       "    </tr>\n",
       "    <tr>\n",
       "      <th>92</th>\n",
       "      <td>0.036364</td>\n",
       "      <td>0.357143</td>\n",
       "      <td>0.101695</td>\n",
       "      <td>0.055556</td>\n",
       "    </tr>\n",
       "    <tr>\n",
       "      <th>64</th>\n",
       "      <td>0.050909</td>\n",
       "      <td>0.702381</td>\n",
       "      <td>0.305085</td>\n",
       "      <td>0.25</td>\n",
       "    </tr>\n",
       "    <tr>\n",
       "      <th>86</th>\n",
       "      <td>0.069091</td>\n",
       "      <td>0.47619</td>\n",
       "      <td>0.220339</td>\n",
       "      <td>0.194444</td>\n",
       "    </tr>\n",
       "    <tr>\n",
       "      <th>13</th>\n",
       "      <td>0.083636</td>\n",
       "      <td>0.630952</td>\n",
       "      <td>0.20339</td>\n",
       "      <td>0.173611</td>\n",
       "    </tr>\n",
       "    <tr>\n",
       "      <th>...</th>\n",
       "      <td>...</td>\n",
       "      <td>...</td>\n",
       "      <td>...</td>\n",
       "      <td>...</td>\n",
       "    </tr>\n",
       "    <tr>\n",
       "      <th>326</th>\n",
       "      <td>0.836364</td>\n",
       "      <td>0.345238</td>\n",
       "      <td>0.983051</td>\n",
       "      <td>0.875</td>\n",
       "    </tr>\n",
       "    <tr>\n",
       "      <th>209</th>\n",
       "      <td>0.861818</td>\n",
       "      <td>0.797619</td>\n",
       "      <td>0.59322</td>\n",
       "      <td>0.361111</td>\n",
       "    </tr>\n",
       "    <tr>\n",
       "      <th>313</th>\n",
       "      <td>0.865455</td>\n",
       "      <td>0.464286</td>\n",
       "      <td>0.949153</td>\n",
       "      <td>0.805556</td>\n",
       "    </tr>\n",
       "    <tr>\n",
       "      <th>163</th>\n",
       "      <td>0.941818</td>\n",
       "      <td>0.559524</td>\n",
       "      <td>0.152542</td>\n",
       "      <td>0.277778</td>\n",
       "    </tr>\n",
       "    <tr>\n",
       "      <th>246</th>\n",
       "      <td>1.0</td>\n",
       "      <td>0.464286</td>\n",
       "      <td>0.983051</td>\n",
       "      <td>0.930556</td>\n",
       "    </tr>\n",
       "  </tbody>\n",
       "</table>\n",
       "<p>333 rows × 4 columns</p>\n",
       "</div>"
      ],
      "text/plain": [
       "     bill_length_norm  bill_depth_norm  flipper_length_norm  body_mass_norm\n",
       "136               0.0         0.285714             0.271186        0.097222\n",
       "92           0.036364         0.357143             0.101695        0.055556\n",
       "64           0.050909         0.702381             0.305085            0.25\n",
       "86           0.069091          0.47619             0.220339        0.194444\n",
       "13           0.083636         0.630952              0.20339        0.173611\n",
       "..                ...              ...                  ...             ...\n",
       "326          0.836364         0.345238             0.983051           0.875\n",
       "209          0.861818         0.797619              0.59322        0.361111\n",
       "313          0.865455         0.464286             0.949153        0.805556\n",
       "163          0.941818         0.559524             0.152542        0.277778\n",
       "246               1.0         0.464286             0.983051        0.930556\n",
       "\n",
       "[333 rows x 4 columns]"
      ]
     },
     "execution_count": 20,
     "metadata": {},
     "output_type": "execute_result"
    }
   ],
   "source": [
    "dfa.sort_values(by=['bill_length_norm'])"
   ]
  },
  {
   "cell_type": "markdown",
   "id": "5a6541ce-497d-4fcf-81ae-28889af707e4",
   "metadata": {},
   "source": [
    "A seguir, aplicamos o código para classificar os bicos dos pinguins."
   ]
  },
  {
   "cell_type": "code",
   "execution_count": 22,
   "id": "4791647d-43af-492d-a408-3710c3f8272f",
   "metadata": {},
   "outputs": [
    {
     "name": "stdout",
     "output_type": "stream",
     "text": [
      "     bill_length_norm  bill_depth_norm  flipper_length_norm  body_mass_norm  \\\n",
      "0            0.254545         0.666667             0.152542        0.291667   \n",
      "1            0.269091         0.511905             0.237288        0.305556   \n",
      "2            0.298182         0.583333             0.389831        0.152778   \n",
      "3            0.167273         0.738095             0.355932        0.208333   \n",
      "4            0.261818         0.892857             0.305085        0.263889   \n",
      "..                ...              ...                  ...             ...   \n",
      "328          0.549091         0.071429             0.711864        0.618056   \n",
      "329          0.534545         0.142857             0.728814        0.597222   \n",
      "330          0.665455         0.309524             0.847458        0.847222   \n",
      "331          0.476364         0.202381             0.677966        0.694444   \n",
      "332          0.647273         0.357143             0.694915            0.75   \n",
      "\n",
      "    Largura do bico (categórico)  \n",
      "0                        Pequeno  \n",
      "1                        Pequeno  \n",
      "2                        Pequeno  \n",
      "3                  Muito pequeno  \n",
      "4                        Pequeno  \n",
      "..                           ...  \n",
      "328                        Médio  \n",
      "329                        Médio  \n",
      "330                       Grande  \n",
      "331                        Médio  \n",
      "332                       Grande  \n",
      "\n",
      "[333 rows x 5 columns]\n",
      "Deu certo, apenas faltaria organizar a coluna em ordem crescente!\n"
     ]
    }
   ],
   "source": [
    "dfa[\"Largura do bico (categórico)\"] = None\n",
    "\n",
    "divisao = dfa[\"bill_length_norm\"] <= 0.2\n",
    "dfa.loc[divisao,\"Largura do bico (categórico)\"] = \"Muito pequeno\"\n",
    "    \n",
    "divisao = (dfa[\"bill_length_norm\"] > 0.2) & (dfa[\"bill_length_norm\"] <= 0.4) # Pequeno\n",
    "dfa.loc[divisao,\"Largura do bico (categórico)\"] = \"Pequeno\"\n",
    "    \n",
    "divisao = (dfa[\"bill_length_norm\"] > 0.4) & (dfa[\"bill_length_norm\"] <= 0.6) # Médio\n",
    "dfa.loc[divisao,\"Largura do bico (categórico)\"] = \"Médio\"\n",
    "    \n",
    "divisao = (dfa[\"bill_length_norm\"] > 0.6) & (dfa[\"bill_length_norm\"] <= 0.8) # Grande\n",
    "dfa.loc[divisao,\"Largura do bico (categórico)\"] = \"Grande\"\n",
    "\n",
    "divisao = (dfa[\"bill_length_norm\"] > 0.8) & (dfa[\"bill_length_norm\"] <= 1) # Muito grande\n",
    "dfa.loc[divisao,\"Largura do bico (categórico)\"] = \"Muito grande\"\n",
    "\n",
    "print(dfa)\n",
    "print(\"Deu certo, apenas faltaria organizar a coluna em ordem crescente!\")"
   ]
  },
  {
   "cell_type": "markdown",
   "id": "3d2d4154-6748-4cd3-9afd-3ed88e69019c",
   "metadata": {},
   "source": [
    "#### Classificação com k-NN"
   ]
  },
  {
   "cell_type": "markdown",
   "id": "98186590-fa6c-4235-88a2-356d7f7171f0",
   "metadata": {},
   "source": [
    "Agora, vamos começar a testar os três modelos passados em aula. O primeiro sendo o k-NN, ou nearest neighbors. "
   ]
  },
  {
   "cell_type": "code",
   "execution_count": 48,
   "id": "4e49697d-d353-4aff-b070-b003607e77dd",
   "metadata": {},
   "outputs": [],
   "source": [
    "from sklearn.model_selection import train_test_split\n",
    "\n",
    "tamanho_teste = 0.1 \n",
    "semente = 61454\n",
    "#Definimos o tamanho do nosso teste e uma semente escolhida\n",
    "\n",
    "features = [\"body_mass_norm\", \"bill_depth_norm\", \"flipper_length_norm\"] \n",
    "target = [\"Largura do bico (categórico)\"]\n",
    "#Após isso, definimos as features que utilizaremos (neste caso todas as numéricas) nos nossos treinos e previsões\n",
    "# para chegarmos no target."
   ]
  },
  {
   "cell_type": "code",
   "execution_count": 42,
   "id": "43b6d6e7-ac71-49be-a821-c2d252424379",
   "metadata": {},
   "outputs": [],
   "source": [
    "indices = dfa.index\n",
    "indices_treino, indices_teste = train_test_split(indices, test_size = tamanho_teste, random_state = semente)\n",
    "#Definimos os indices que utilizaremos (do nosso data set). Com todos os indices do data set, escolhemos\n",
    "# quais usaremos para treino e para teste.\n",
    "\n",
    "\n",
    "dfa_treino = dfa.loc[indices_treino]\n",
    "dfa_teste = dfa.loc[indices_teste]\n",
    "\n",
    "x_treino = dfa_treino.reindex(features, axis=1).values\n",
    "x_teste = dfa_teste.reindex(features, axis=1).values\n",
    "\n",
    "y_treino = dfa_treino.reindex(target, axis=1).values.ravel()\n",
    "y_teste = dfa_teste.reindex(target, axis=1).values.ravel()\n"
   ]
  },
  {
   "cell_type": "code",
   "execution_count": 25,
   "id": "ed7b37ec-bcd5-40a3-b36b-43d5194760a0",
   "metadata": {},
   "outputs": [
    {
     "name": "stdout",
     "output_type": "stream",
     "text": [
      "['Pequeno' 'Grande' 'Grande' 'Muito pequeno' 'Pequeno' 'Pequeno' 'Médio'\n",
      " 'Pequeno' 'Grande' 'Grande' 'Médio' 'Grande' 'Pequeno' 'Pequeno'\n",
      " 'Pequeno' 'Grande' 'Pequeno' 'Médio' 'Pequeno' 'Médio' 'Médio' 'Pequeno'\n",
      " 'Grande' 'Pequeno' 'Médio' 'Pequeno' 'Muito pequeno' 'Grande' 'Pequeno'\n",
      " 'Médio' 'Muito pequeno' 'Pequeno' 'Grande' 'Médio']\n"
     ]
    }
   ],
   "source": [
    "from sklearn.neighbors import KNeighborsClassifier\n",
    "import numpy\n",
    "\n",
    "modelo_vizinhos = KNeighborsClassifier()\n",
    "#Após termos importado o classificador, criamos o nosso modelo\n",
    "\n",
    "\n",
    "modelo_vizinhos.fit(x_treino,y_treino)\n",
    "# Então treinamos o modelo com nossas variáveis de treino, através do módulo .fit\n",
    "\n",
    "\n",
    "previsao1 = modelo_vizinhos.predict(x_teste)\n",
    "print(previsao1)"
   ]
  },
  {
   "cell_type": "markdown",
   "id": "410fd88b-1f99-4aa2-b7bb-614a1e4aeac6",
   "metadata": {},
   "source": [
    "E, com isso, temos a nossa primeira previsão! Mas ela apenas utilizou dados de teste. A seguir, vamos utilizar os dados \"verdadeiros\". "
   ]
  },
  {
   "cell_type": "code",
   "execution_count": 26,
   "id": "5575614a-4eef-474f-b12c-35c7c3c48c74",
   "metadata": {},
   "outputs": [
    {
     "name": "stdout",
     "output_type": "stream",
     "text": [
      "Precisão: 0.5\n"
     ]
    }
   ],
   "source": [
    "from sklearn import metrics\n",
    "\n",
    "print(\"Precisão:\", metrics.accuracy_score(y_teste, previsao1))"
   ]
  },
  {
   "cell_type": "markdown",
   "id": "f00c5437-7d6e-47a5-a7b5-25190127b22e",
   "metadata": {},
   "source": [
    "#### Classificação com árvore de decisão"
   ]
  },
  {
   "cell_type": "code",
   "execution_count": 27,
   "id": "29e78812-ab4f-4a73-9443-6b5dac33604b",
   "metadata": {},
   "outputs": [
    {
     "name": "stdout",
     "output_type": "stream",
     "text": [
      "['Grande' 'Grande' 'Grande' 'Pequeno' 'Médio' 'Pequeno' 'Médio' 'Pequeno'\n",
      " 'Médio' 'Grande' 'Grande' 'Grande' 'Pequeno' 'Pequeno' 'Médio' 'Grande'\n",
      " 'Muito pequeno' 'Médio' 'Pequeno' 'Pequeno' 'Médio' 'Grande' 'Grande'\n",
      " 'Muito pequeno' 'Médio' 'Grande' 'Muito pequeno' 'Grande' 'Grande'\n",
      " 'Grande' 'Muito pequeno' 'Pequeno' 'Muito grande' 'Médio']\n"
     ]
    }
   ],
   "source": [
    "from sklearn.tree import DecisionTreeClassifier\n",
    "\n",
    "modelo_arvore = DecisionTreeClassifier(random_state = semente)\n",
    "\n",
    "modelo_arvore.fit(x_treino, y_treino)\n",
    "\n",
    "previsao2 = modelo_arvore.predict(x_teste)\n",
    "print(previsao2)"
   ]
  },
  {
   "cell_type": "code",
   "execution_count": 28,
   "id": "de81e1ab-240b-4391-86db-2d09fa6cbec0",
   "metadata": {},
   "outputs": [
    {
     "name": "stdout",
     "output_type": "stream",
     "text": [
      "Precisão: 0.4117647058823529\n"
     ]
    }
   ],
   "source": [
    "print(\"Precisão:\", metrics.accuracy_score(y_teste, previsao2))"
   ]
  },
  {
   "cell_type": "markdown",
   "id": "f9ea2841-9314-46da-88aa-8cc20354c08c",
   "metadata": {},
   "source": [
    "#### Classificação com florestas aleatórias"
   ]
  },
  {
   "cell_type": "code",
   "execution_count": 29,
   "id": "1b6385d4-3498-440b-864f-0d9034416ac0",
   "metadata": {},
   "outputs": [
    {
     "name": "stdout",
     "output_type": "stream",
     "text": [
      "['Grande' 'Grande' 'Grande' 'Pequeno' 'Médio' 'Pequeno' 'Médio' 'Pequeno'\n",
      " 'Médio' 'Grande' 'Grande' 'Grande' 'Pequeno' 'Pequeno' 'Médio' 'Grande'\n",
      " 'Muito pequeno' 'Médio' 'Pequeno' 'Pequeno' 'Médio' 'Grande' 'Grande'\n",
      " 'Muito pequeno' 'Médio' 'Grande' 'Muito pequeno' 'Grande' 'Grande'\n",
      " 'Grande' 'Muito pequeno' 'Pequeno' 'Muito grande' 'Médio']\n"
     ]
    }
   ],
   "source": [
    "from sklearn.ensemble import RandomForestClassifier\n",
    "\n",
    "modelo_floresta = RandomForestClassifier(random_state = semente)\n",
    "\n",
    "modelo_floresta.fit(x_treino, y_treino)\n",
    "\n",
    "previsao3 = modelo_arvore.predict(x_teste)\n",
    "print(previsao3)"
   ]
  },
  {
   "cell_type": "code",
   "execution_count": 30,
   "id": "fcaeacd8-ac84-4196-8b59-9bbff1305e77",
   "metadata": {},
   "outputs": [
    {
     "name": "stdout",
     "output_type": "stream",
     "text": [
      "Precisão: 0.4117647058823529\n"
     ]
    }
   ],
   "source": [
    "print(\"Precisão:\", metrics.accuracy_score(y_teste, previsao3))"
   ]
  },
  {
   "cell_type": "markdown",
   "id": "baf3c47d-3ae4-40e0-b214-53dc222a1b37",
   "metadata": {},
   "source": [
    "As hipóteses para essas baixas precisões/accuracy são: o baixo número de parametros, a utilização APENAS de parametros numéricos e a não utilização de hiperparametros."
   ]
  },
  {
   "cell_type": "markdown",
   "id": "80f52a50-4de8-4004-bac0-7208c75b0654",
   "metadata": {},
   "source": [
    "#### Tentativa de refinar os dados com hiperparâmetros"
   ]
  },
  {
   "cell_type": "markdown",
   "id": "8a8fbe4d-abdb-479b-839c-c9c67b5345ba",
   "metadata": {},
   "source": [
    "Assim como sugerido no final do bloco da última aula, tentei refinar os dados com hiperparametros utilizando o grid search. E, mesmo que tenha ajudado, creio que ainda seja necessário aumentar os parametros a serem utilizados."
   ]
  },
  {
   "cell_type": "code",
   "execution_count": 31,
   "id": "b208e2ac-32b4-47cb-94ed-63b4a86775da",
   "metadata": {},
   "outputs": [
    {
     "data": {
      "text/plain": [
       "GridSearchCV(cv=5, estimator=RandomForestClassifier(random_state=61454),\n",
       "             n_jobs=8,\n",
       "             param_grid={'criterion': ['gini', 'entropy'],\n",
       "                         'max_depth': [4, 6, 8, 10, 12, 14, 16],\n",
       "                         'max_features': ['auto', 'sqrt', 'log2'],\n",
       "                         'n_estimators': [200, 300, 400, 500, 600]})"
      ]
     },
     "execution_count": 31,
     "metadata": {},
     "output_type": "execute_result"
    }
   ],
   "source": [
    "from sklearn.model_selection import GridSearchCV\n",
    "\n",
    "param_grid = {\n",
    "    'n_estimators': [200, 300, 400, 500, 600],\n",
    "    'max_features': ['auto', 'sqrt', 'log2'],\n",
    "    'max_depth' : [4,6,8,10,12,14,16],\n",
    "    'criterion' :['gini', 'entropy']\n",
    "}\n",
    "\n",
    "CV_rfc = GridSearchCV(estimator=modelo_floresta, param_grid=param_grid, cv= 5, n_jobs=8)\n",
    "CV_rfc.fit(x_treino, y_treino)"
   ]
  },
  {
   "cell_type": "code",
   "execution_count": 32,
   "id": "bce63f8f-6e51-418e-8384-4ed55808d1fa",
   "metadata": {},
   "outputs": [
    {
     "name": "stdout",
     "output_type": "stream",
     "text": [
      "{'criterion': 'gini', 'max_depth': 4, 'max_features': 'auto', 'n_estimators': 200}\n"
     ]
    }
   ],
   "source": [
    "print(CV_rfc.best_params_)\n",
    "best_params = CV_rfc.best_params_"
   ]
  },
  {
   "cell_type": "code",
   "execution_count": 33,
   "id": "b45fda44-8f78-402f-a73b-1c2a6abcfa42",
   "metadata": {},
   "outputs": [
    {
     "data": {
      "text/plain": [
       "RandomForestClassifier(criterion='entropy', max_depth=14, max_features='sqrt',\n",
       "                       n_estimators=600, random_state=61454)"
      ]
     },
     "execution_count": 33,
     "metadata": {},
     "output_type": "execute_result"
    }
   ],
   "source": [
    "best_params = {'criterion': 'entropy', 'max_depth': 14, 'max_features': 'sqrt', 'n_estimators': 600}\n",
    "\n",
    "modelo_floresta = RandomForestClassifier(random_state=semente)\n",
    "modelo_floresta.set_params(**best_params)\n"
   ]
  },
  {
   "cell_type": "code",
   "execution_count": 47,
   "id": "f71c09ca-732d-4618-927f-662c9ccc3115",
   "metadata": {},
   "outputs": [
    {
     "name": "stdout",
     "output_type": "stream",
     "text": [
      "['Pequeno' 'Pequeno' 'Grande' 'Pequeno' 'Pequeno' 'Pequeno' 'Médio'\n",
      " 'Pequeno' 'Grande' 'Grande' 'Médio' 'Grande' 'Pequeno' 'Pequeno' 'Grande'\n",
      " 'Grande' 'Muito pequeno' 'Médio' 'Pequeno' 'Médio' 'Médio' 'Grande'\n",
      " 'Grande' 'Pequeno' 'Médio' 'Grande' 'Pequeno' 'Grande' 'Grande' 'Grande'\n",
      " 'Muito pequeno' 'Pequeno' 'Grande' 'Médio']\n",
      "Accuracy: 0.5294117647058824\n",
      "\n",
      "Melhorou bem pouco. Meu machine learning tão pequenininho....\n"
     ]
    }
   ],
   "source": [
    "modelo_floresta.fit(x_treino, y_treino)\n",
    "previsao = modelo_floresta.predict(x_teste)\n",
    "print(previsao)\n",
    "print(\"Accuracy:\",metrics.accuracy_score(y_teste, previsao))\n",
    "print()\n",
    "print(\"Melhorou bem pouco. Meu machine learning tão pequenininho....\")"
   ]
  },
  {
   "cell_type": "code",
   "execution_count": null,
   "id": "05929ce2-0880-4b76-9361-4a42e4fcaa18",
   "metadata": {},
   "outputs": [],
   "source": []
  }
 ],
 "metadata": {
  "kernelspec": {
   "display_name": "ilumpy",
   "language": "python",
   "name": "ilumpy"
  },
  "language_info": {
   "codemirror_mode": {
    "name": "ipython",
    "version": 3
   },
   "file_extension": ".py",
   "mimetype": "text/x-python",
   "name": "python",
   "nbconvert_exporter": "python",
   "pygments_lexer": "ipython3",
   "version": "3.9.7"
  }
 },
 "nbformat": 4,
 "nbformat_minor": 5
}
