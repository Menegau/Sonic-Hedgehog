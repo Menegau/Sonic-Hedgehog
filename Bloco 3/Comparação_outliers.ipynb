{
 "cells": [
  {
   "cell_type": "markdown",
   "source": [
    "# Comparação dos métodos de detecção de outliers:\r\n",
    "## Isolation Forest x Local Outlier Factor"
   ],
   "metadata": {}
  },
  {
   "cell_type": "markdown",
   "source": [
    "Ao analisar os resultados de ambos os métodos, observa-se que - além do número de outliers detectados - os pontos que são identificados como outliers também variam. \r\n",
    "\r\n",
    "Considerando os gráficos de detecção de outliers por Isolation Forest e por Local Outlier Factor para parâmetro de n vizinhos igual a 30 abaixo, percebe-se que alguns pontos coincidem, ao passo que outros diferem bastante.\r\n",
    "\r\n",
    "<br>\r\n",
    "\r\n",
    "<p align=\"center\">\r\n",
    "    <img src=\"Isolation_Forest_plot.png\" width=40% height=auto>\r\n",
    "    <img src=\"LOF_plot.png\" width=40% height=auto>\r\n",
    "</p>\r\n",
    "\r\n",
    "<br>\r\n",
    "\r\n",
    "Dessa maneira, apesar de ser difícil quantizar o quanto um outlier é destoante do conjunto, vê-se que os pontos apontados em ambos os gráficos são válidos, considerando a clusterização feita anteriormente (vide notebooks de clusterização para mais informações). "
   ],
   "metadata": {}
  },
  {
   "cell_type": "markdown",
   "source": [
    "Ainda nessa linha, realizando uma análise puramente visual, o método que aparenta ser mais efetivo quanto à detecção de outliers para o dataset em questão é o Local Outlier Factor (LOF), o qual aponta como dados \"fora da curva\" aqueles que estão, de fato, mais distantes de seus vizinhos. A separação por Isolation Forest, por outro lado, parece considerar mais os dados de espécime de pinguim; alguns dos outliers detectados são aqueles de espécies que aparentam pertencer a outro grupo. Esta última, no entanto, não parece muito precisa - por isso considerou-se o LOF como melhor técnica para este dataset.\r\n",
    "\r\n",
    "Apesar da análise, não serão desconsiderados quaisquer outliers dos dados originais, afinal, além de não haver outliers muito extremos, por ser um dataframe pré-definido de uma biblioteca especializada, acredita-se não haver quaisquer erros de medição - e, portanto, não viu-se necessidade em alterar esse conjunto de informações. "
   ],
   "metadata": {}
  }
 ],
 "metadata": {
  "orig_nbformat": 4,
  "language_info": {
   "name": "python"
  }
 },
 "nbformat": 4,
 "nbformat_minor": 2
}