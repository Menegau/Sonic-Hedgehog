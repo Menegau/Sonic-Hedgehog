{
 "cells": [
  {
   "cell_type": "markdown",
   "source": [
    "Detecção de valores anômalos\n",
    "============================\n",
    "\n"
   ],
   "metadata": {}
  },
  {
   "cell_type": "code",
   "execution_count": 55,
   "source": [
    "# importando as bibliotecas e módulos necessários\r\n",
    "import seaborn as sns\r\n",
    "import pandas as pd\r\n",
    "from sklearn.model_selection import train_test_split\r\n",
    "import numpy as np\r\n",
    "import seaborn as sns\r\n",
    "import pandas as pd\r\n",
    "from sklearn.preprocessing import StandardScaler\r\n",
    "from sklearn.neighbors import LocalOutlierFactor\r\n",
    "from sklearn.decomposition import PCA\r\n",
    "import matplotlib.pyplot as plt"
   ],
   "outputs": [],
   "metadata": {}
  },
  {
   "cell_type": "code",
   "execution_count": 56,
   "source": [
    "df = sns.load_dataset('penguins')\r\n",
    "dfcopia = df.copy()\r\n",
    "dfcopia = dfcopia.dropna(axis=0)\r\n",
    "especies = dfcopia['species'].unique()\r\n",
    "print(especies)\r\n",
    "\r\n",
    "dfcopia['specie numerica'] = 0\r\n",
    "\r\n",
    "i = 0\r\n",
    "for pinguin in dfcopia['species']:\r\n",
    "    #print(pinguin)\r\n",
    "    if pinguin == 'Adelie':\r\n",
    "        dfcopia['specie numerica'].iloc[i] = 1\r\n",
    "        i += 1\r\n",
    "    elif pinguin == 'Chinstrap':\r\n",
    "        dfcopia['specie numerica'].iloc[i] = 2\r\n",
    "        i += 1\r\n",
    "    elif pinguin == 'Gentoo':\r\n",
    "        dfcopia['specie numerica'].iloc[i] = 3\r\n",
    "        i += 1\r\n",
    "    #print(dfcopia['species'].iloc[i-1],dfcopia['specie numerica'].iloc[i-1])\r\n",
    "\r\n",
    "features_numericos = [\"bill_length_mm\",\"bill_depth_mm\", \"flipper_length_mm\", \"body_mass_g\"]\r\n",
    "df_numericos = dfcopia[features_numericos]"
   ],
   "outputs": [
    {
     "output_type": "stream",
     "name": "stdout",
     "text": [
      "['Adelie' 'Chinstrap' 'Gentoo']\n"
     ]
    },
    {
     "output_type": "stream",
     "name": "stderr",
     "text": [
      "c:\\venv\\ilumpy\\lib\\site-packages\\pandas\\core\\indexing.py:1732: SettingWithCopyWarning: \n",
      "A value is trying to be set on a copy of a slice from a DataFrame\n",
      "\n",
      "See the caveats in the documentation: https://pandas.pydata.org/pandas-docs/stable/user_guide/indexing.html#returning-a-view-versus-a-copy\n",
      "  self._setitem_single_block(indexer, value, name)\n"
     ]
    }
   ],
   "metadata": {}
  },
  {
   "cell_type": "code",
   "execution_count": 57,
   "source": [
    "sc = StandardScaler()\r\n",
    "sc.fit(df_numericos)\r\n",
    "X_norm = sc.transform(df_numericos)"
   ],
   "outputs": [],
   "metadata": {
    "tags": []
   }
  },
  {
   "cell_type": "code",
   "execution_count": 58,
   "source": [
    "FEATURES = [\"bill_length_mm\", \"bill_depth_mm\", \"flipper_length_mm\"]\r\n",
    "TARGET = [\"specie numerica\"]"
   ],
   "outputs": [],
   "metadata": {}
  },
  {
   "cell_type": "code",
   "execution_count": 59,
   "source": [
    "# normalizando o dataframe por outro método:\r\n",
    "from sklearn.preprocessing import MinMaxScaler\r\n",
    "\r\n",
    "scaler = MinMaxScaler() #Definindo o normalizador\r\n",
    "X_norm = scaler.fit_transform(dfcopia[FEATURES].values) #Normalizando"
   ],
   "outputs": [],
   "metadata": {}
  },
  {
   "cell_type": "markdown",
   "source": [
    "Normalizamos os dados a fim de realizarmos o PCA."
   ],
   "metadata": {}
  },
  {
   "cell_type": "code",
   "execution_count": 60,
   "source": [
    "df_norm = pd.DataFrame(X_norm,columns = FEATURES) #Criando o DataFrame a partir com dados normalizados, que é um array de numpy\r\n",
    "df_norm = pd.concat([df_norm,pd.Series(dfcopia['specie numerica']).reset_index(drop=True)],axis=1) #Concatenando a coluna 'specie numerica' ao DataFrame"
   ],
   "outputs": [],
   "metadata": {}
  },
  {
   "cell_type": "code",
   "execution_count": 61,
   "source": [
    "import numpy as np\r\n",
    "\r\n",
    "X = df_norm[FEATURES] #Definindo o X como as features\r\n",
    "y = df_norm['specie numerica']  #Definindo o y como o target"
   ],
   "outputs": [],
   "metadata": {}
  },
  {
   "cell_type": "code",
   "execution_count": 62,
   "source": [
    "import numpy as np\r\n",
    "\r\n",
    "SEMENTE_ALEATORIA = 6144\r\n",
    "N_EXEMPLOS = 300\r\n",
    "N_FEATURES = 3\r\n",
    "FRACAO_OUTLIERS = 0.10\r\n",
    "\r\n",
    "n_outliers = int(FRACAO_OUTLIERS * N_EXEMPLOS)\r\n",
    "n_inliers = N_EXEMPLOS - n_outliers\r\n",
    "\r\n",
    "rng = np.random.RandomState(SEMENTE_ALEATORIA)"
   ],
   "outputs": [],
   "metadata": {}
  },
  {
   "cell_type": "code",
   "execution_count": 63,
   "source": [
    "data= df_norm\r\n",
    "data.head()"
   ],
   "outputs": [
    {
     "output_type": "execute_result",
     "data": {
      "text/html": [
       "<div>\n",
       "<style scoped>\n",
       "    .dataframe tbody tr th:only-of-type {\n",
       "        vertical-align: middle;\n",
       "    }\n",
       "\n",
       "    .dataframe tbody tr th {\n",
       "        vertical-align: top;\n",
       "    }\n",
       "\n",
       "    .dataframe thead th {\n",
       "        text-align: right;\n",
       "    }\n",
       "</style>\n",
       "<table border=\"1\" class=\"dataframe\">\n",
       "  <thead>\n",
       "    <tr style=\"text-align: right;\">\n",
       "      <th></th>\n",
       "      <th>bill_length_mm</th>\n",
       "      <th>bill_depth_mm</th>\n",
       "      <th>flipper_length_mm</th>\n",
       "      <th>specie numerica</th>\n",
       "    </tr>\n",
       "  </thead>\n",
       "  <tbody>\n",
       "    <tr>\n",
       "      <th>0</th>\n",
       "      <td>0.254545</td>\n",
       "      <td>0.666667</td>\n",
       "      <td>0.152542</td>\n",
       "      <td>1</td>\n",
       "    </tr>\n",
       "    <tr>\n",
       "      <th>1</th>\n",
       "      <td>0.269091</td>\n",
       "      <td>0.511905</td>\n",
       "      <td>0.237288</td>\n",
       "      <td>1</td>\n",
       "    </tr>\n",
       "    <tr>\n",
       "      <th>2</th>\n",
       "      <td>0.298182</td>\n",
       "      <td>0.583333</td>\n",
       "      <td>0.389831</td>\n",
       "      <td>1</td>\n",
       "    </tr>\n",
       "    <tr>\n",
       "      <th>3</th>\n",
       "      <td>0.167273</td>\n",
       "      <td>0.738095</td>\n",
       "      <td>0.355932</td>\n",
       "      <td>1</td>\n",
       "    </tr>\n",
       "    <tr>\n",
       "      <th>4</th>\n",
       "      <td>0.261818</td>\n",
       "      <td>0.892857</td>\n",
       "      <td>0.305085</td>\n",
       "      <td>1</td>\n",
       "    </tr>\n",
       "  </tbody>\n",
       "</table>\n",
       "</div>"
      ],
      "text/plain": [
       "   bill_length_mm  bill_depth_mm  flipper_length_mm  specie numerica\n",
       "0        0.254545       0.666667           0.152542                1\n",
       "1        0.269091       0.511905           0.237288                1\n",
       "2        0.298182       0.583333           0.389831                1\n",
       "3        0.167273       0.738095           0.355932                1\n",
       "4        0.261818       0.892857           0.305085                1"
      ]
     },
     "metadata": {},
     "execution_count": 63
    }
   ],
   "metadata": {}
  },
  {
   "cell_type": "code",
   "execution_count": 64,
   "source": [
    "X=data.iloc[:, :-1]\r\n",
    "y=data.iloc[:, -1]"
   ],
   "outputs": [],
   "metadata": {}
  },
  {
   "cell_type": "code",
   "execution_count": 76,
   "source": [
    "# plotando o a classificação do algoritmo Local Outlier Factor (LOF):\r\n",
    "\r\n",
    "pca = PCA(n_components=3)\r\n",
    "pca.fit(X)\r\n",
    "X_pca = pca.transform(X)\r\n",
    "\r\n",
    "clf = LocalOutlierFactor(n_neighbors=10)\r\n",
    "\r\n",
    "y_pred = clf.fit_predict(X_pca)\r\n",
    "n_errors = (y_pred != y).sum()\r\n",
    "X_scores = clf.negative_outlier_factor_"
   ],
   "outputs": [],
   "metadata": {}
  },
  {
   "cell_type": "code",
   "execution_count": 77,
   "source": [
    "# para 10 n vizinhos:\r\n",
    "\r\n",
    "lofs_index = np.where(y_pred!=1)\r\n",
    "values = X_pca[lofs_index]\r\n",
    "plt.title(\"Local Outlier Factor (LOF)\")\r\n",
    "plt.scatter(X_pca[:,0], X_pca[:,1], label=\"Pinguins Normais\", marker = '.')\r\n",
    "plt.scatter(values[:,0],values[:,1], color='r', label=\"Pinguins coisados\", marker = '.')\r\n",
    "plt.legend(loc=\"lower right\")\r\n",
    "plt.show()\r\n",
    "\r\n",
    "print(\"o número de outliers detectados para 10 vizinhos foi igual a: \" + str(len(values[:,0])))"
   ],
   "outputs": [
    {
     "output_type": "display_data",
     "data": {
      "image/png": "[encoded data removed]",
      "text/plain": [
       "<Figure size 432x288 with 1 Axes>"
      ]
     },
     "metadata": {
      "needs_background": "light"
     }
    },
    {
     "output_type": "stream",
     "name": "stdout",
     "text": [
      "o número de outliers detectados para 10 vizinhos foi igual a: 13\n"
     ]
    }
   ],
   "metadata": {}
  },
  {
   "cell_type": "code",
   "execution_count": 78,
   "source": [
    "# para 20 n vizinhos:\r\n",
    "\r\n",
    "pca = PCA(n_components=3)\r\n",
    "pca.fit(X)\r\n",
    "X_pca = pca.transform(X)\r\n",
    "\r\n",
    "clf = LocalOutlierFactor(n_neighbors=20)\r\n",
    "\r\n",
    "y_pred = clf.fit_predict(X_pca)\r\n",
    "n_errors = (y_pred != y).sum()\r\n",
    "X_scores = clf.negative_outlier_factor_\r\n",
    "\r\n",
    "lofs_index = np.where(y_pred!=1)\r\n",
    "values = X_pca[lofs_index]\r\n",
    "plt.title(\"Local Outlier Factor (LOF)\")\r\n",
    "plt.scatter(X_pca[:,0], X_pca[:,1], label=\"Pinguins Normais\", marker = '.')\r\n",
    "plt.scatter(values[:,0],values[:,1], color='r', label=\"Pinguins coisados\", marker = '.')\r\n",
    "plt.legend(loc=\"lower right\")\r\n",
    "plt.show()\r\n",
    "\r\n",
    "print(\"o número de outliers detectados para 20 vizinhos foi igual a: \" + str(len(values[:,0])))"
   ],
   "outputs": [
    {
     "output_type": "display_data",
     "data": {
      "image/png": "[encoded data removed]",
      "text/plain": [
       "<Figure size 432x288 with 1 Axes>"
      ]
     },
     "metadata": {
      "needs_background": "light"
     }
    },
    {
     "output_type": "stream",
     "name": "stdout",
     "text": [
      "o número de outliers detectados para 20 vizinhos foi igual a: 7\n"
     ]
    }
   ],
   "metadata": {}
  },
  {
   "cell_type": "code",
   "execution_count": 79,
   "source": [
    "# para 30 n vizinhos:\r\n",
    "\r\n",
    "pca = PCA(n_components=3)\r\n",
    "pca.fit(X)\r\n",
    "X_pca = pca.transform(X)\r\n",
    "\r\n",
    "clf = LocalOutlierFactor(n_neighbors=30)\r\n",
    "\r\n",
    "y_pred = clf.fit_predict(X_pca)\r\n",
    "n_errors = (y_pred != y).sum()\r\n",
    "X_scores = clf.negative_outlier_factor_\r\n",
    "\r\n",
    "lofs_index = np.where(y_pred!=1)\r\n",
    "values = X_pca[lofs_index]\r\n",
    "plt.title(\"Local Outlier Factor (LOF)\")\r\n",
    "plt.scatter(X_pca[:,0], X_pca[:,1], label=\"Pinguins Normais\", marker = '.')\r\n",
    "plt.scatter(values[:,0],values[:,1], color='r', label=\"Pinguins coisados\", marker = '.')\r\n",
    "plt.legend(loc=\"lower right\")\r\n",
    "plt.show()\r\n",
    "\r\n",
    "print(\"o número de outliers detectados para 30 vizinhos foi igual a: \" + str(len(values[:,0])))"
   ],
   "outputs": [
    {
     "output_type": "display_data",
     "data": {
      "image/png": "[encoded data removed]",
      "text/plain": [
       "<Figure size 432x288 with 1 Axes>"
      ]
     },
     "metadata": {
      "needs_background": "light"
     }
    },
    {
     "output_type": "stream",
     "name": "stdout",
     "text": [
      "o número de outliers detectados para 30 vizinhos foi igual a: 6\n"
     ]
    }
   ],
   "metadata": {}
  },
  {
   "cell_type": "markdown",
   "source": [
    "Pode-se ver acima que o número de vizinhos analisado afeta diretamente o número de dados classificados como outliers pelo algoritmo, assim como quais pontos são esses.\r\n",
    "\r\n",
    "Vê-se que o número total de outliers diminui conforme mais vizinhos são analizados. Para checar se isso continua ocorrendo em diferentes situações, podemos realizar agora o teste com um número ainda menor de vizinhos, como 4 - esperando, assim, um número maior de outliers:"
   ],
   "metadata": {}
  },
  {
   "cell_type": "code",
   "execution_count": 81,
   "source": [
    "# para 4 n vizinhos:\r\n",
    "\r\n",
    "pca = PCA(n_components=3)\r\n",
    "pca.fit(X)\r\n",
    "X_pca = pca.transform(X)\r\n",
    "\r\n",
    "clf = LocalOutlierFactor(n_neighbors=4)\r\n",
    "\r\n",
    "y_pred = clf.fit_predict(X_pca)\r\n",
    "n_errors = (y_pred != y).sum()\r\n",
    "X_scores = clf.negative_outlier_factor_\r\n",
    "\r\n",
    "lofs_index = np.where(y_pred!=1)\r\n",
    "values = X_pca[lofs_index]\r\n",
    "plt.title(\"Local Outlier Factor (LOF)\")\r\n",
    "plt.scatter(X_pca[:,0], X_pca[:,1], label=\"Pinguins Normais\", marker = '.')\r\n",
    "plt.scatter(values[:,0],values[:,1], color='r', label=\"Pinguins coisados\", marker = '.')\r\n",
    "plt.legend(loc=\"lower right\")\r\n",
    "plt.show()\r\n",
    "\r\n",
    "print(\"o número de outliers detectados para 4 vizinhos foi igual a: \" + str(len(values[:,0])))"
   ],
   "outputs": [
    {
     "output_type": "display_data",
     "data": {
      "image/png": "[encoded data removed]",
      "text/plain": [
       "<Figure size 432x288 with 1 Axes>"
      ]
     },
     "metadata": {
      "needs_background": "light"
     }
    },
    {
     "output_type": "stream",
     "name": "stdout",
     "text": [
      "o número de outliers detectados para 4 vizinhos foi igual a: 17\n"
     ]
    }
   ],
   "metadata": {}
  },
  {
   "cell_type": "markdown",
   "source": [
    "Como esperado, o número de outliers aumenta quando o número de vizinhos levados em conta diminui. Isso é natural, afinal o algoritmo, por ter menos distâncias para comparar, admite qualquer ponto levemente mais distante como mais um outlier."
   ],
   "metadata": {}
  }
 ],
 "metadata": {
  "kernelspec": {
   "name": "python3",
   "display_name": "Python 3.9.7 64-bit ('ilumpy': venv)"
  },
  "language_info": {
   "codemirror_mode": {
    "name": "ipython",
    "version": 3
   },
   "file_extension": ".py",
   "mimetype": "text/x-python",
   "name": "python",
   "nbconvert_exporter": "python",
   "pygments_lexer": "ipython3",
   "version": "3.9.7"
  },
  "org": null,
  "interpreter": {
   "hash": "b3e6b8674b6565fbc2ba6932dd725c7d9cea502db282270049ae80a8cf38102d"
  }
 },
 "nbformat": 4,
 "nbformat_minor": 4
}