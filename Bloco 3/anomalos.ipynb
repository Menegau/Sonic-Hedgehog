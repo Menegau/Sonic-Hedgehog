{
 "cells": [
  {
   "cell_type": "markdown",
   "metadata": {},
   "source": [
    "Detecção de valores anômalos\n",
    "============================\n",
    "\n"
   ]
  },
  {
   "cell_type": "code",
   "execution_count": 1,
   "metadata": {},
   "outputs": [],
   "source": [
    "import seaborn as sns\n",
    "import pandas as pd\n",
    "from sklearn.model_selection import train_test_split\n",
    "import numpy as np\n",
    "import seaborn as sns\n",
    "import pandas as pd\n",
    "from sklearn.preprocessing import StandardScaler\n",
    "from sklearn.neighbors import LocalOutlierFactor\n",
    "from sklearn.decomposition import PCA\n",
    "import matplotlib.pyplot as plt"
   ]
  },
  {
   "cell_type": "code",
   "execution_count": 2,
   "metadata": {},
   "outputs": [
    {
     "name": "stdout",
     "output_type": "stream",
     "text": [
      "['Adelie' 'Chinstrap' 'Gentoo']\n"
     ]
    },
    {
     "name": "stderr",
     "output_type": "stream",
     "text": [
      "c:\\venv\\ilumpy\\lib\\site-packages\\pandas\\core\\indexing.py:1732: SettingWithCopyWarning: \n",
      "A value is trying to be set on a copy of a slice from a DataFrame\n",
      "\n",
      "See the caveats in the documentation: https://pandas.pydata.org/pandas-docs/stable/user_guide/indexing.html#returning-a-view-versus-a-copy\n",
      "  self._setitem_single_block(indexer, value, name)\n"
     ]
    }
   ],
   "source": [
    "df = sns.load_dataset('penguins')\n",
    "dfcopia = df.copy()\n",
    "dfcopia = dfcopia.dropna(axis=0)\n",
    "especies = dfcopia['species'].unique()\n",
    "print(especies)\n",
    "\n",
    "dfcopia['specie numerica'] = 0\n",
    "\n",
    "i = 0\n",
    "for pinguin in dfcopia['species']:\n",
    "    #print(pinguin)\n",
    "    if pinguin == 'Adelie':\n",
    "        dfcopia['specie numerica'].iloc[i] = 1\n",
    "        i += 1\n",
    "    elif pinguin == 'Chinstrap':\n",
    "        dfcopia['specie numerica'].iloc[i] = 2\n",
    "        i += 1\n",
    "    elif pinguin == 'Gentoo':\n",
    "        dfcopia['specie numerica'].iloc[i] = 3\n",
    "        i += 1\n",
    "    #print(dfcopia['species'].iloc[i-1],dfcopia['specie numerica'].iloc[i-1])\n",
    "\n",
    "features_numericos = [\"bill_length_mm\",\"bill_depth_mm\", \"flipper_length_mm\", \"body_mass_g\"]\n",
    "df_numericos = dfcopia[features_numericos]"
   ]
  },
  {
   "cell_type": "code",
   "execution_count": 3,
   "metadata": {
    "tags": []
   },
   "outputs": [],
   "source": [
    "sc = StandardScaler()\n",
    "sc.fit(df_numericos)\n",
    "X_norm = sc.transform(df_numericos)"
   ]
  },
  {
   "cell_type": "code",
   "execution_count": 4,
   "metadata": {},
   "outputs": [],
   "source": [
    "FEATURES = [\"bill_length_mm\", \"bill_depth_mm\", \"flipper_length_mm\"]\n",
    "TARGET = [\"specie numerica\"]"
   ]
  },
  {
   "cell_type": "code",
   "execution_count": 5,
   "metadata": {},
   "outputs": [],
   "source": [
    "from sklearn.preprocessing import MinMaxScaler\n",
    "\n",
    "scaler = MinMaxScaler() #Definindo o normalizador\n",
    "X_norm = scaler.fit_transform(dfcopia[FEATURES].values) #Normalizando"
   ]
  },
  {
   "cell_type": "markdown",
   "metadata": {},
   "source": [
    "Normalizamos os dados a fim de realizarmos os PCA."
   ]
  },
  {
   "cell_type": "code",
   "execution_count": 6,
   "metadata": {},
   "outputs": [],
   "source": [
    "df_norm = pd.DataFrame(X_norm,columns = FEATURES) #Criando o DataFrame a partir com dados normalizados, que é um array de numpy\n",
    "df_norm = pd.concat([df_norm,pd.Series(dfcopia['specie numerica']).reset_index(drop=True)],axis=1) #Concatenando a coluna 'price' ao DataFrame"
   ]
  },
  {
   "cell_type": "code",
   "execution_count": 7,
   "metadata": {},
   "outputs": [],
   "source": [
    "#from sklearn.decomposition import PCA\n",
    "import numpy as np\n",
    "\n",
    "X = df_norm[FEATURES] #Definindo o X como as features\n",
    "y = df_norm['specie numerica']  #Definindo o y como o target"
   ]
  },
  {
   "cell_type": "code",
   "execution_count": 8,
   "metadata": {},
   "outputs": [],
   "source": [
    "import numpy as np\n",
    "\n",
    "SEMENTE_ALEATORIA = 6144\n",
    "N_EXEMPLOS = 300\n",
    "N_FEATURES = 3\n",
    "FRACAO_OUTLIERS = 0.10\n",
    "\n",
    "n_outliers = int(FRACAO_OUTLIERS * N_EXEMPLOS)\n",
    "n_inliers = N_EXEMPLOS - n_outliers\n",
    "\n",
    "rng = np.random.RandomState(SEMENTE_ALEATORIA)"
   ]
  },
  {
   "cell_type": "code",
   "execution_count": 9,
   "metadata": {},
   "outputs": [
    {
     "data": {
      "text/html": [
       "<div>\n",
       "<style scoped>\n",
       "    .dataframe tbody tr th:only-of-type {\n",
       "        vertical-align: middle;\n",
       "    }\n",
       "\n",
       "    .dataframe tbody tr th {\n",
       "        vertical-align: top;\n",
       "    }\n",
       "\n",
       "    .dataframe thead th {\n",
       "        text-align: right;\n",
       "    }\n",
       "</style>\n",
       "<table border=\"1\" class=\"dataframe\">\n",
       "  <thead>\n",
       "    <tr style=\"text-align: right;\">\n",
       "      <th></th>\n",
       "      <th>bill_length_mm</th>\n",
       "      <th>bill_depth_mm</th>\n",
       "      <th>flipper_length_mm</th>\n",
       "      <th>specie numerica</th>\n",
       "    </tr>\n",
       "  </thead>\n",
       "  <tbody>\n",
       "    <tr>\n",
       "      <th>0</th>\n",
       "      <td>0.254545</td>\n",
       "      <td>0.666667</td>\n",
       "      <td>0.152542</td>\n",
       "      <td>1</td>\n",
       "    </tr>\n",
       "    <tr>\n",
       "      <th>1</th>\n",
       "      <td>0.269091</td>\n",
       "      <td>0.511905</td>\n",
       "      <td>0.237288</td>\n",
       "      <td>1</td>\n",
       "    </tr>\n",
       "  </tbody>\n",
       "</table>\n",
       "</div>"
      ],
      "text/plain": [
       "   bill_length_mm  bill_depth_mm  flipper_length_mm  specie numerica\n",
       "0        0.254545       0.666667           0.152542                1\n",
       "1        0.269091       0.511905           0.237288                1"
      ]
     },
     "execution_count": 9,
     "metadata": {},
     "output_type": "execute_result"
    }
   ],
   "source": [
    "data= df_norm\n",
    "data.head(2)"
   ]
  },
  {
   "cell_type": "code",
   "execution_count": 10,
   "metadata": {},
   "outputs": [],
   "source": [
    "X=data.iloc[:, :-1]\n",
    "y=data.iloc[:, -1]"
   ]
  },
  {
   "cell_type": "code",
   "execution_count": 11,
   "metadata": {},
   "outputs": [],
   "source": [
    "pca = PCA(n_components=3)\n",
    "pca.fit(X)\n",
    "X_pca = pca.transform(X)\n",
    "\n",
    "clf = LocalOutlierFactor(n_neighbors=10, contamination=0.1)\n",
    "\n",
    "y_pred = clf.fit_predict(X_pca)\n",
    "n_errors = (y_pred != y).sum()\n",
    "X_scores = clf.negative_outlier_factor_"
   ]
  },
  {
   "cell_type": "code",
   "execution_count": 12,
   "metadata": {},
   "outputs": [
    {
     "data": {
      "image/png": "[encoded data removed]",
      "text/plain": [
       "<Figure size 432x288 with 1 Axes>"
      ]
     },
     "metadata": {
      "needs_background": "light"
     },
     "output_type": "display_data"
    }
   ],
   "source": [
    "lofs_index = np.where(y_pred!=1)\n",
    "values = X_pca[lofs_index]\n",
    "plt.title(\"Local Outlier Factor (LOF)\")\n",
    "plt.scatter(X_pca[:,0], X_pca[:,1], label=\"Pinguins Normais\")\n",
    "plt.scatter(values[:,0],values[:,1], color='r', label=\"Pinguins coisados\")\n",
    "plt.legend(loc=\"lower right\")\n",
    "plt.show()"
   ]
  },
  {
   "cell_type": "markdown",
   "metadata": {},
   "source": [
    "## Algoritmo Local Outlier Factor (LOF)\n",
    "\n"
   ]
  },
  {
   "cell_type": "markdown",
   "metadata": {},
   "source": [
    "O Local Outlier Factor (LOF) é um algoritmo de detecção de outliers que utiliza a distância entre os pontos para realizar a sua detecção.\n",
    "\n",
    "Este algoritmo usa o conceito dos $k$ vizinhos mais próximos que vimos no algoritmo de aprendizado supervisionado $k$​-NN. Primeiramente definimos o conjunto $N_k(A)$ que contém todos os $k$ vizinhos do exemplo $A$. Note que pelo motivo de poder haver empate entre as distâncias, o conjunto $N_k(A)$ pode ter mais que $k$ itens.\n",
    "\n",
    "Tendo o conjunto $N_k(A)$, definimos a distância $k\\textrm{-dist}(A)$ como sendo a distância entre o exemplo $A$ e seu vizinho $k$. Em outras palavras, a distância $k\\textrm{-dist}(A)$ é a maior distância entre $A$ e os elementos do conjunto $N_k(A)$.\n",
    "\n",
    "Definimos em seguida a distância de alcançabilidade (*reachability distance*) como sendo:\n",
    "\n",
    "$$\n",
    "\\textrm{reachability-dist}_k(A,B)=\\max \\{ k\\textrm{-dist}(B), \\textrm{dist}(A,B)\\}\n",
    "$$\n",
    "\n",
    "Na equação acima, $\\textrm{dist}(A,B)$ é a distância entre $A$ e $B$.\n",
    "\n",
    "A distância de alcançabilidade entre $A$ e $B$ será então a própria distância entre $A$ e $B$ <u>ou</u> no mínimo a distância entre $B$ e seu $k$ vizinho. Esta distância representa &ldquo;o quão difícil&rdquo; é chegar em $A$ a partir de $B$. Quanto maior essa distância, mais distante $A$ está de $B$ neste contexto.\n",
    "\n",
    "Seguimos definindo a distância de alcançabilidade local (*local reachability density*) como sendo:\n",
    "\n",
    "$$\n",
    "\\textrm{lrd}_k(A) = \\left[ \\frac{\\sum_{B \\in N_k(A)}  \\textrm{reachability-dist}_k(A,B)}{|N_k(A)|} \\right]^{-1}\n",
    "$$\n",
    "\n",
    "Essa distância de alcançabilidade representa &ldquo;o quão fácil em média&rdquo; é chegar em $A$ sendo um dos vizinhos de $A$. A equação acima está elevada a $-1$ pois queremos que valores pequenos representem que é &ldquo;fácil&rdquo; chegar em $A$ e valores grandes representem que é &ldquo;difícil&rdquo; chegar em $A$.\n",
    "\n",
    "Finalmente, após todas essas definições conseguimos definir o Fator de Discrepância Local de $A$, que é seu LOF:\n",
    "\n",
    "$$\n",
    "\\textrm{LOF}_A = \\frac{\\sum_{B \\in N_k(A)}  \\frac{\\textrm{lrd}_k(B)}{\\textrm{lrd}_k(A)}}{|N_k(A)|}\n",
    "$$\n",
    "\n",
    "O valor de $\\textrm{LOF}_A$ nos dá pistas sobre a região onde o exemplo $A$ se encontra:\n",
    "\n",
    "-   Se o valor de $\\textrm{LOF}_A$ é próximo de 1: então $A$ está em uma região de densidade de pontos *similar* aos seus vizinhos;\n",
    "-   Se o valor de $\\textrm{LOF}_A$ é maior de 1: então $A$ está em uma região de densidade de pontos *menor* que seus vizinhos;\n",
    "-   Se o valor de $\\textrm{LOF}_A$ é menor de 1: então $A$ está em uma região de densidade de pontos *maior* que seus vizinhos.\n",
    "\n",
    "Infelizmente não temos (ainda) vídeos do StatQuest sobre detecção de valores anômalos&#x2026; mas temos este excelente [vídeo](https://www.youtube.com/watch?v=Xl7XVPyvO5U) do canal MachineLearningInterview e a [página da Wikipédia](https://en.wikipedia.org/wiki/Local_outlier_factor) em inglês (que descreve o algoritmo de forma muito clara).\n",
    "\n",
    "O código abaixo mostra como detectar outliers utilizando a implementação do LOF do `scikit-learn`. Primeiramente criamos o modelo. Veja que devemos passar o valor do número de vizinhos que serão considerados ao criar o modelo (é o argumento `n_neighbors`). Aqui escolhemos 35. O valor padrão do `scikin-learn` é 20. Não tem como dizer o melhor valor para seu conjunto de dados, cada caso é um caso.\n",
    "\n",
    "Outro parâmetro que passamos é a fração de outliers que esperamos ter no nosso conjunto de dados (é o argumento `contamination`). Aqui temos dados sintéticos e sabemos a fração de outliers. Caso não saiba você deverá dar um palpite ou usar o valor `\"auto\"` para este argumento e deixar que o algoritmo encontre esse valor para você (pode não ser o ideal!). Outros hiperparâmetros podem ser conferidos na [documentação](https://scikit-learn.org/stable/modules/generated/sklearn.neighbors.LocalOutlierFactor.html) do `scikit-learn`.\n",
    "\n"
   ]
  },
  {
   "cell_type": "code",
   "execution_count": 28,
   "metadata": {},
   "outputs": [],
   "source": [
    "from sklearn.neighbors import LocalOutlierFactor\n",
    "\n",
    "N_VIZINHOS = 35 \n",
    "# definimos o número de vizinhos a serem consultados\n",
    "\n",
    "# aqui que criamos o modelo de Local Outlier Factor\n",
    "# o qual irá consultar o número de vizinhos e a porcentagem de \n",
    "# dados que serão considerados como contaminados\n",
    "modelo_lof = LocalOutlierFactor(\n",
    "    n_neighbors=N_VIZINHOS,\n",
    "    contamination=FRACAO_OUTLIERS,\n",
    ")"
   ]
  },
  {
   "cell_type": "markdown",
   "metadata": {},
   "source": [
    "O código abaixo mostra como fazemos para detectar os outliers nos conjuntos de dados que geramos. Observe principalmente a linha onde chamamos o método `fit_predict`. Não é apenas `fit` como estávamos acostumados!\n",
    "\n"
   ]
  },
  {
   "cell_type": "code",
   "execution_count": 29,
   "metadata": {},
   "outputs": [
    {
     "ename": "ValueError",
     "evalue": "Expected 2D array, got scalar array instead:\narray=b.\nReshape your data either using array.reshape(-1, 1) if your data has a single feature or array.reshape(1, -1) if it contains a single sample.",
     "output_type": "error",
     "traceback": [
      "\u001b[1;31m---------------------------------------------------------------------------\u001b[0m",
      "\u001b[1;31mValueError\u001b[0m                                Traceback (most recent call last)",
      "\u001b[1;32mC:\\Users\\HAZIEL~1\\AppData\\Local\\Temp/ipykernel_6580/3345454463.py\u001b[0m in \u001b[0;36m<module>\u001b[1;34m\u001b[0m\n\u001b[0;32m      4\u001b[0m \u001b[1;33m\u001b[0m\u001b[0m\n\u001b[0;32m      5\u001b[0m     \u001b[1;31m# Ajustamos o modelo aos dados e realizamos a previsão\u001b[0m\u001b[1;33m\u001b[0m\u001b[1;33m\u001b[0m\u001b[0m\n\u001b[1;32m----> 6\u001b[1;33m     \u001b[0mmodelo_lof\u001b[0m\u001b[1;33m.\u001b[0m\u001b[0mfit\u001b[0m\u001b[1;33m(\u001b[0m\u001b[0mdf_norm\u001b[0m\u001b[1;33m)\u001b[0m\u001b[1;33m\u001b[0m\u001b[1;33m\u001b[0m\u001b[0m\n\u001b[0m\u001b[0;32m      7\u001b[0m     \u001b[0mprevisao\u001b[0m \u001b[1;33m=\u001b[0m \u001b[0mmodelo_lof\u001b[0m\u001b[1;33m.\u001b[0m\u001b[0mfit_predict\u001b[0m\u001b[1;33m(\u001b[0m\u001b[0mdf_norm\u001b[0m\u001b[1;33m)\u001b[0m\u001b[1;33m\u001b[0m\u001b[1;33m\u001b[0m\u001b[0m\n\u001b[0;32m      8\u001b[0m \u001b[1;33m\u001b[0m\u001b[0m\n",
      "\u001b[1;32mc:\\venv\\ilumpy\\lib\\site-packages\\sklearn\\neighbors\\_lof.py\u001b[0m in \u001b[0;36mfit\u001b[1;34m(self, X, y)\u001b[0m\n\u001b[0;32m    263\u001b[0m             \u001b[0mThe\u001b[0m \u001b[0mfitted\u001b[0m \u001b[0mlocal\u001b[0m \u001b[0moutlier\u001b[0m \u001b[0mfactor\u001b[0m \u001b[0mdetector\u001b[0m\u001b[1;33m.\u001b[0m\u001b[1;33m\u001b[0m\u001b[1;33m\u001b[0m\u001b[0m\n\u001b[0;32m    264\u001b[0m         \"\"\"\n\u001b[1;32m--> 265\u001b[1;33m         \u001b[0mself\u001b[0m\u001b[1;33m.\u001b[0m\u001b[0m_fit\u001b[0m\u001b[1;33m(\u001b[0m\u001b[0mX\u001b[0m\u001b[1;33m)\u001b[0m\u001b[1;33m\u001b[0m\u001b[1;33m\u001b[0m\u001b[0m\n\u001b[0m\u001b[0;32m    266\u001b[0m \u001b[1;33m\u001b[0m\u001b[0m\n\u001b[0;32m    267\u001b[0m         \u001b[1;32mif\u001b[0m \u001b[0mself\u001b[0m\u001b[1;33m.\u001b[0m\u001b[0mcontamination\u001b[0m \u001b[1;33m!=\u001b[0m \u001b[1;34m'auto'\u001b[0m\u001b[1;33m:\u001b[0m\u001b[1;33m\u001b[0m\u001b[1;33m\u001b[0m\u001b[0m\n",
      "\u001b[1;32mc:\\venv\\ilumpy\\lib\\site-packages\\sklearn\\neighbors\\_base.py\u001b[0m in \u001b[0;36m_fit\u001b[1;34m(self, X, y)\u001b[0m\n\u001b[0;32m    395\u001b[0m         \u001b[1;32melse\u001b[0m\u001b[1;33m:\u001b[0m\u001b[1;33m\u001b[0m\u001b[1;33m\u001b[0m\u001b[0m\n\u001b[0;32m    396\u001b[0m             \u001b[1;32mif\u001b[0m \u001b[1;32mnot\u001b[0m \u001b[0misinstance\u001b[0m\u001b[1;33m(\u001b[0m\u001b[0mX\u001b[0m\u001b[1;33m,\u001b[0m \u001b[1;33m(\u001b[0m\u001b[0mKDTree\u001b[0m\u001b[1;33m,\u001b[0m \u001b[0mBallTree\u001b[0m\u001b[1;33m,\u001b[0m \u001b[0mNeighborsBase\u001b[0m\u001b[1;33m)\u001b[0m\u001b[1;33m)\u001b[0m\u001b[1;33m:\u001b[0m\u001b[1;33m\u001b[0m\u001b[1;33m\u001b[0m\u001b[0m\n\u001b[1;32m--> 397\u001b[1;33m                 \u001b[0mX\u001b[0m \u001b[1;33m=\u001b[0m \u001b[0mself\u001b[0m\u001b[1;33m.\u001b[0m\u001b[0m_validate_data\u001b[0m\u001b[1;33m(\u001b[0m\u001b[0mX\u001b[0m\u001b[1;33m,\u001b[0m \u001b[0maccept_sparse\u001b[0m\u001b[1;33m=\u001b[0m\u001b[1;34m'csr'\u001b[0m\u001b[1;33m)\u001b[0m\u001b[1;33m\u001b[0m\u001b[1;33m\u001b[0m\u001b[0m\n\u001b[0m\u001b[0;32m    398\u001b[0m \u001b[1;33m\u001b[0m\u001b[0m\n\u001b[0;32m    399\u001b[0m         \u001b[0mself\u001b[0m\u001b[1;33m.\u001b[0m\u001b[0m_check_algorithm_metric\u001b[0m\u001b[1;33m(\u001b[0m\u001b[1;33m)\u001b[0m\u001b[1;33m\u001b[0m\u001b[1;33m\u001b[0m\u001b[0m\n",
      "\u001b[1;32mc:\\venv\\ilumpy\\lib\\site-packages\\sklearn\\base.py\u001b[0m in \u001b[0;36m_validate_data\u001b[1;34m(self, X, y, reset, validate_separately, **check_params)\u001b[0m\n\u001b[0;32m    419\u001b[0m             \u001b[0mout\u001b[0m \u001b[1;33m=\u001b[0m \u001b[0mX\u001b[0m\u001b[1;33m\u001b[0m\u001b[1;33m\u001b[0m\u001b[0m\n\u001b[0;32m    420\u001b[0m         \u001b[1;32melif\u001b[0m \u001b[0misinstance\u001b[0m\u001b[1;33m(\u001b[0m\u001b[0my\u001b[0m\u001b[1;33m,\u001b[0m \u001b[0mstr\u001b[0m\u001b[1;33m)\u001b[0m \u001b[1;32mand\u001b[0m \u001b[0my\u001b[0m \u001b[1;33m==\u001b[0m \u001b[1;34m'no_validation'\u001b[0m\u001b[1;33m:\u001b[0m\u001b[1;33m\u001b[0m\u001b[1;33m\u001b[0m\u001b[0m\n\u001b[1;32m--> 421\u001b[1;33m             \u001b[0mX\u001b[0m \u001b[1;33m=\u001b[0m \u001b[0mcheck_array\u001b[0m\u001b[1;33m(\u001b[0m\u001b[0mX\u001b[0m\u001b[1;33m,\u001b[0m \u001b[1;33m**\u001b[0m\u001b[0mcheck_params\u001b[0m\u001b[1;33m)\u001b[0m\u001b[1;33m\u001b[0m\u001b[1;33m\u001b[0m\u001b[0m\n\u001b[0m\u001b[0;32m    422\u001b[0m             \u001b[0mout\u001b[0m \u001b[1;33m=\u001b[0m \u001b[0mX\u001b[0m\u001b[1;33m\u001b[0m\u001b[1;33m\u001b[0m\u001b[0m\n\u001b[0;32m    423\u001b[0m         \u001b[1;32melse\u001b[0m\u001b[1;33m:\u001b[0m\u001b[1;33m\u001b[0m\u001b[1;33m\u001b[0m\u001b[0m\n",
      "\u001b[1;32mc:\\venv\\ilumpy\\lib\\site-packages\\sklearn\\utils\\validation.py\u001b[0m in \u001b[0;36minner_f\u001b[1;34m(*args, **kwargs)\u001b[0m\n\u001b[0;32m     61\u001b[0m             \u001b[0mextra_args\u001b[0m \u001b[1;33m=\u001b[0m \u001b[0mlen\u001b[0m\u001b[1;33m(\u001b[0m\u001b[0margs\u001b[0m\u001b[1;33m)\u001b[0m \u001b[1;33m-\u001b[0m \u001b[0mlen\u001b[0m\u001b[1;33m(\u001b[0m\u001b[0mall_args\u001b[0m\u001b[1;33m)\u001b[0m\u001b[1;33m\u001b[0m\u001b[1;33m\u001b[0m\u001b[0m\n\u001b[0;32m     62\u001b[0m             \u001b[1;32mif\u001b[0m \u001b[0mextra_args\u001b[0m \u001b[1;33m<=\u001b[0m \u001b[1;36m0\u001b[0m\u001b[1;33m:\u001b[0m\u001b[1;33m\u001b[0m\u001b[1;33m\u001b[0m\u001b[0m\n\u001b[1;32m---> 63\u001b[1;33m                 \u001b[1;32mreturn\u001b[0m \u001b[0mf\u001b[0m\u001b[1;33m(\u001b[0m\u001b[1;33m*\u001b[0m\u001b[0margs\u001b[0m\u001b[1;33m,\u001b[0m \u001b[1;33m**\u001b[0m\u001b[0mkwargs\u001b[0m\u001b[1;33m)\u001b[0m\u001b[1;33m\u001b[0m\u001b[1;33m\u001b[0m\u001b[0m\n\u001b[0m\u001b[0;32m     64\u001b[0m \u001b[1;33m\u001b[0m\u001b[0m\n\u001b[0;32m     65\u001b[0m             \u001b[1;31m# extra_args > 0\u001b[0m\u001b[1;33m\u001b[0m\u001b[1;33m\u001b[0m\u001b[0m\n",
      "\u001b[1;32mc:\\venv\\ilumpy\\lib\\site-packages\\sklearn\\utils\\validation.py\u001b[0m in \u001b[0;36mcheck_array\u001b[1;34m(array, accept_sparse, accept_large_sparse, dtype, order, copy, force_all_finite, ensure_2d, allow_nd, ensure_min_samples, ensure_min_features, estimator)\u001b[0m\n\u001b[0;32m    685\u001b[0m             \u001b[1;31m# If input is scalar raise error\u001b[0m\u001b[1;33m\u001b[0m\u001b[1;33m\u001b[0m\u001b[0m\n\u001b[0;32m    686\u001b[0m             \u001b[1;32mif\u001b[0m \u001b[0marray\u001b[0m\u001b[1;33m.\u001b[0m\u001b[0mndim\u001b[0m \u001b[1;33m==\u001b[0m \u001b[1;36m0\u001b[0m\u001b[1;33m:\u001b[0m\u001b[1;33m\u001b[0m\u001b[1;33m\u001b[0m\u001b[0m\n\u001b[1;32m--> 687\u001b[1;33m                 raise ValueError(\n\u001b[0m\u001b[0;32m    688\u001b[0m                     \u001b[1;34m\"Expected 2D array, got scalar array instead:\\narray={}.\\n\"\u001b[0m\u001b[1;33m\u001b[0m\u001b[1;33m\u001b[0m\u001b[0m\n\u001b[0;32m    689\u001b[0m                     \u001b[1;34m\"Reshape your data either using array.reshape(-1, 1) if \"\u001b[0m\u001b[1;33m\u001b[0m\u001b[1;33m\u001b[0m\u001b[0m\n",
      "\u001b[1;31mValueError\u001b[0m: Expected 2D array, got scalar array instead:\narray=b.\nReshape your data either using array.reshape(-1, 1) if your data has a single feature or array.reshape(1, -1) if it contains a single sample."
     ]
    }
   ],
   "source": [
    "CORES = np.array([\"red\", \"blue\"])\n",
    "\n",
    "for n, df_norm in enumerate(df_norm):\n",
    "\n",
    "    # Ajustamos o modelo aos dados e realizamos a previsão\n",
    "    modelo_lof.fit(df_norm)\n",
    "    previsao = modelo_lof.fit_predict(df_norm)\n",
    "\n",
    "    fig, eixo = plt.subplots(figsize=(5, 5)) # determinamos o tamanho do gráfico que será plotado\n",
    "\n",
    "    eixo.scatter(\n",
    "        df_norm[:, 0],\n",
    "        df_norm[:, 1],\n",
    "        marker=\".\",\n",
    "        s=4,\n",
    "        color=CORES[(previsao + 1) // 2], # agora determinamos a cor dos pontos correspondentes às anomalias e aos\n",
    "                                          # pontos \"normais\"\n",
    "    )\n",
    "\n",
    "    eixo.set_xlim(-8, 8)\n",
    "    eixo.set_ylim(-8, 8)\n",
    "    eixo.set_xticks(())\n",
    "    eixo.set_yticks(())\n",
    "    eixo.set_title(f\"Dataset {n}\", fontsize=10)\n",
    "\n",
    "    plt.show()"
   ]
  },
  {
   "cell_type": "markdown",
   "metadata": {},
   "source": [
    "Podemos visualizar o $\\textrm{LOF}$ de cada exemplo usando círculos! O código abaixo é o mesmo do anterior, porém com a parte que plota os os círculos de tamanho proporcional ao $\\textrm{LOF}$. Veja que quanto maior o $\\textrm{LOF}$ maior a chance do exemplo ser considerado um outlier.\n",
    "\n"
   ]
  },
  {
   "cell_type": "code",
   "execution_count": null,
   "metadata": {},
   "outputs": [],
   "source": [
    "modelo_lof = LocalOutlierFactor(\n",
    "    n_neighbors=N_VIZINHOS,\n",
    "    contamination=FRACAO_OUTLIERS,\n",
    ")\n",
    "\n",
    "for n, data_x in enumerate(datasets):\n",
    "\n",
    "    modelo_lof.fit(data_x)\n",
    "    previsao = modelo_lof.fit_predict(data_x)\n",
    "\n",
    "    fig, eixo = plt.subplots(figsize=(5, 5))\n",
    "\n",
    "    eixo.scatter(\n",
    "        data_x[:, 0],\n",
    "        data_x[:, 1],\n",
    "        marker=\".\",\n",
    "        s=4,\n",
    "        color=CORES[(previsao + 1) // 2],\n",
    "    )\n",
    "\n",
    "    # plota os círculos!\n",
    "    # assim como mencionado na aula, os círculos servem para mostrar a \"magnitude\" de um outlier \n",
    "    # ou seja, quanto maior o círculo, maior a discrepância dele perante os dados \"normais\"\n",
    "    X_lof = modelo_lof.negative_outlier_factor_\n",
    "    raios = (X_lof.max() - X_lof) / (X_lof.max() - X_lof.min())\n",
    "    eixo.scatter(\n",
    "        data_x[:, 0],\n",
    "        data_x[:, 1],\n",
    "        s=1000 * raios,\n",
    "        edgecolors=CORES[(previsao + 1) // 2],\n",
    "        facecolors=\"none\",\n",
    "    )\n",
    "\n",
    "    eixo.set_xlim(-8, 8)\n",
    "    eixo.set_ylim(-8, 8)\n",
    "    eixo.set_xticks(())\n",
    "    eixo.set_yticks(())\n",
    "    eixo.set_title(f\"Dataset {n}\", fontsize=10)\n",
    "\n",
    "    plt.show()"
   ]
  },
  {
   "cell_type": "markdown",
   "metadata": {},
   "source": [
    "Os códigos desta seção foram baseados [neste código](https://scikit-learn.org/stable/auto_examples/miscellaneous/plot_anomaly_comparison.html) e [neste código](https://scikit-learn.org/stable/auto_examples/neighbors/plot_lof_outlier_detection.html) da documentação do `scikit-learn`.\n",
    "\n"
   ]
  },
  {
   "cell_type": "markdown",
   "metadata": {},
   "source": [
    "## Algoritmo Isolation Forest (IF)\n",
    "\n"
   ]
  },
  {
   "cell_type": "markdown",
   "metadata": {},
   "source": [
    "O Isolation Forest (IF) é um algoritmo de detecção de valores anômalos que utiliza uma floresta de árvores de decisão para realizar a sua detecção.\n",
    "\n",
    "Este algoritmo usa conceitos do algoritmo de floresta aleatória que vimos durante o bloco de aprendizado supervisionado. A ideia por trás deste algoritmo é que <u>valores anômalos são mais fáceis de serem isolados utilizando árvores de decisão do que valores que não são anômalos</u>.\n",
    "\n",
    "Vamos começar do início, antes de pensar em uma floresta de árvores de decisão, vamos pensar em apenas uma árvore de decisão e depois expandimos esse conceito para uma floresta.\n",
    "\n",
    "Diferentemente de uma árvore de decisão de um modelo supervisionado de aprendizado de máquina (onde nosso objetivo era prever um target), aqui nosso objetivo é criar uma árvore de decisão que *isola* todos os pontos do nosso conjunto de dados. <u>*Isolar os pontos* significa que cada vértice folha da nossa árvore contém apenas um exemplo do nosso dataset OU apenas exemplos *iguais* do nosso dataset OU zero exemplos</u>. Quando essa condição for atingida, nós terminamos de construir nossa árvore de decisão! 🎉 Vamos chamar essa árvore de *árvore de isolação*.\n",
    "\n",
    "Você certamente se recorda que em cada vértice de decisão ou vértice raiz de uma árvore de decisão nós temos um condicional. Em uma árvore de decisão supervisionada, este condicional tem o objetivo de reduzir a impureza dos dados. Vale a pena rever o vídeo do [StatQuest](https://www.youtube.com/watch?v=_L39rN6gz7Y) sobre árvores de decisão se você não se recorda do conceito de impureza.\n",
    "\n",
    "Em uma árvore de isolação, nós construímos os condicionais dos vértices raiz e de decisão de maneira diferente: selecionamos um atributo de forma aleatória e, após isso, selecionamos um valor de corte aleatório para separar os dados. Se, por exemplo, você tem um conjunto de dados com peso, altura e idade como atributos, então sua árvore de isolação irá escolher um desses atributos de maneira aleatória. Digamos que escolheu o atributo idade. Depois disso, sua árvore de isolação irá escolher um valor de corte aleatório. Digamos que este valor aleatório escolhido foi 27. Desta forma, este vértice que acabamos de criar terá um condicional que checa se a idade é maior que 27 anos e separa os dados em dois vértices seguintes. Este processo é repetido até que a condição de parada (linha sublinhada acima) for atingida.\n",
    "\n",
    "Como o algoritmo se chama floresta de isolação e não árvore de isolação, você pode imaginar que esse processo de criação de árvores de isolação é repetido uma certa quantidade de vezes criando um comitê (ensemble) de árvores.\n",
    "\n",
    "Vamos visualizar! Na imagem abaixo nós temos um conjunto de dados sintético com dois atributos. Veja que conseguimos isolar o exemplo $x_j$ usando 4 cortes no conjunto de dados. Cada um desses cortes representa um condicional que foi visitado na árvore de isolação (cada condicional corta o espaço amostral em duas regiões de forma perpendicular à uma das coordenadas).\n",
    "\n",
    "![img](https://upload.wikimedia.org/wikipedia/commons/f/ff/Isolating_an_Anomalous_Point.png)\n",
    "\n",
    "Já na imagem abaixo nós temos que para isolar o exemplo $x_i$ nós precisamos de 13 cortes no conjunto de dados (isto é, precisamos visitar 13 condicionais da nossa árvore de isolação).\n",
    "\n",
    "![img](https://upload.wikimedia.org/wikipedia/commons/c/ce/Isolating_a_Non-Anomalous_Point.png)\n",
    "\n",
    "Qual desses dois exemplos ($x_j$ ou $x_i$) você acha que tem maior probabilidade de ser um valor anômalo? É o $x_j$, pois este é o mais fácil de ser isolado!\n",
    "\n",
    "Antes de seguir em frente na matemática que usaremos para definir o que é ou não um valor anômalo usando a floresta de isolação, vale a pena checar o excelente [vídeo](https://www.youtube.com/watch?v=cRzeotaFDwk) do MachineLearningInterview. Infelizmente não temos ainda vídeos sobre detecção de valores anômalos do StatQuest&#x2026;\n",
    "\n",
    "O primeiro passo para estimar se um certo exemplo $x$ é um valor anômalo ou não consiste em computar a profundidade média para isolar $x$ considerando todas as árvores na nossa floresta de isolação. Essa profundidade é computada justamente passando o exemplo $x$ em cada uma das árvores, anotando a profundidade em uma lista e, no final, tirando a média desses valores. Estatisticamente, esse valor é a esperança da profundidade $h$ do exemplo $x$, logo é representado por $E[h(x)]$.\n",
    "\n",
    "Agora precisamos computar a profundidade média $c$ para isolar *qualquer* exemplo pertencente ao nosso conjunto de dados. Para isso podemos calcular a esperança da profundidade de *todos* os exemplos do nosso conjunto de dados e tirar a média destes valores. Existe uma forma de estimar esse valor $c$ usando a consideração que nossas árvores de isolação são [árvores binárias de busca](https://en.wikipedia.org/wiki/Binary_search_tree). Sabendo que $\\gamma=0.5772156649$ (constante de Euler-Mascheroni) o valor de $c$ para um conjunto árvores induzidas a partir de um conjunto de dados de tamanho $n>2$ pode ser estimado por:\n",
    "\n",
    "$$\n",
    "c(n)=2\\left[\\ln(n-1) + \\gamma-\\frac{(n-1)}{n}\\right]\n",
    "$$\n",
    "\n",
    "Finalmente, tento em mãos $E[h(x)]$ e $c(n)$, podemos calcular uma nota $s$ para nosso exemplo $x$ da seguinte maneira:\n",
    "\n",
    "$$\n",
    "s(x,n)=2^{-\\frac{E[h(x)]}{c(n)}}\n",
    "$$\n",
    "\n",
    "Tendo o valor de $s$ nós podemos fazer inferências:\n",
    "\n",
    "-   Se $s$ é perto de 1, então $x$ é muito provavelmente um valor anômalo;\n",
    "-   Se $s$ é menor que 0,5, então $x$ muito provavelmente não é um valor anômalo;\n",
    "-   Se $s$ é menor que 1 e maior que 0,5 é necessário definir um valor de corte até onde aceitamos considerar $x$ um valor anômalo;\n",
    "-   Se todos os valores $s$ são próximos de 0,5, então é seguro assumir que não existem valores anômalos no conjunto de dados.\n",
    "\n",
    "Muito bem, agora que sabemos a matemática por trás do algoritmo, vamos ver como usá-lo em Python. Usaremos a classe `IsolationForest` do `scikit-learn`. Como sempre, é bom checar a [documentação](https://scikit-learn.org/stable/modules/generated/sklearn.ensemble.IsolationForest.html).\n",
    "\n",
    "Primeiramente criamos o modelo. Novamente estamos passando a fração de outliers para o hiperparâmetro `contamination`. Se não souber ou quiser computar isso automaticamente, basta eliminar essa linha ou passar o valor `\"auto\"` para esse hiperparâmetro.\n",
    "\n"
   ]
  },
  {
   "cell_type": "code",
   "execution_count": null,
   "metadata": {},
   "outputs": [],
   "source": [
    "from sklearn.ensemble import IsolationForest\n",
    "\n",
    "CORES = np.array([\"red\", \"blue\"])\n",
    "COM_BORDA_DE_PREVISAO = False # mude para True para ver a borda de previsão\n",
    "\n",
    "# aqui que criamos o modelo de Isolation Forest\n",
    "modelo_if = IsolationForest(\n",
    "    contamination=FRACAO_OUTLIERS,\n",
    "    random_state=SEMENTE_ALEATORIA,\n",
    ")"
   ]
  },
  {
   "cell_type": "markdown",
   "metadata": {},
   "source": [
    "Agora treinamos o modelo usando o método `fit` e realizamos a previsão com o método `predict`. Como o modelo de floresta de isolação tem o método `predict` ele pode ser utilizado tanto para detecção de outliers quanto para detecção de novidade!\n",
    "\n"
   ]
  },
  {
   "cell_type": "code",
   "execution_count": null,
   "metadata": {},
   "outputs": [],
   "source": [
    "for n, data_x in enumerate(datasets):\n",
    "\n",
    "    # Ajustamos o modelo aos dados e realizamos a previsão\n",
    "    modelo_if.fit(data_x)\n",
    "    previsao = modelo_if.predict(data_x)\n",
    "\n",
    "    fig, eixo = plt.subplots(figsize=(5, 5))\n",
    "\n",
    "    eixo.scatter(\n",
    "        data_x[:, 0],\n",
    "        data_x[:, 1],\n",
    "        s=4,\n",
    "        color=CORES[(previsao + 1) // 2],\n",
    "    )\n",
    "\n",
    "    eixo.set_xlim(-8, 8)\n",
    "    eixo.set_ylim(-8, 8)\n",
    "    eixo.set_xticks(())\n",
    "    eixo.set_yticks(())\n",
    "    eixo.set_title(f\"Dataset {n}\", fontsize=10)\n",
    "\n",
    "    # plota a borda entre as regiões de outlier/inlier\n",
    "    if COM_BORDA_DE_PREVISAO:\n",
    "        xx, yy = np.meshgrid(\n",
    "            np.linspace(-8, 8, 150),\n",
    "            np.linspace(-8, 8, 150),\n",
    "        )\n",
    "        Z = modelo_if.predict(np.c_[xx.ravel(), yy.ravel()])\n",
    "        Z = Z.reshape(xx.shape)\n",
    "        eixo.contour(xx, yy, Z, levels=[0], linewidths=2, colors=\"black\")\n",
    "\n",
    "    plt.show()"
   ]
  },
  {
   "cell_type": "markdown",
   "metadata": {},
   "source": [
    "O código desta seção foi baseado [neste código](https://scikit-learn.org/stable/auto_examples/miscellaneous/plot_anomaly_comparison.html) da documentação do `scikit-learn`.\n",
    "\n"
   ]
  },
  {
   "cell_type": "markdown",
   "metadata": {},
   "source": [
    "## Testando com o dataset de diamantes\n",
    "\n"
   ]
  },
  {
   "cell_type": "markdown",
   "metadata": {},
   "source": [
    "Vamos testar o que aprendemos com o dataset de diamantes. Primeiramente vamos carregar os dados. Como é um aprendizado não supervisionado, não iremos utilizar o target.\n",
    "\n"
   ]
  },
  {
   "cell_type": "code",
   "execution_count": null,
   "metadata": {},
   "outputs": [],
   "source": [
    "import seaborn as sns\n",
    "from sklearn.model_selection import train_test_split\n",
    "\n",
    "TAMANHO_TESTE = 0.1\n",
    "SEMENTE_ALEATORIA = 61455\n",
    "DATASET_NAME = \"diamonds\"\n",
    "FEATURES = [\"carat\", \"depth\", \"table\", \"x\", \"y\", \"z\"]\n",
    "\n",
    "df = sns.load_dataset(DATASET_NAME)\n",
    "X = df.reindex(FEATURES, axis=1)"
   ]
  },
  {
   "cell_type": "markdown",
   "metadata": {},
   "source": [
    "Como iremos usar um algoritmo baseado em distâncias (LOF), então é uma boa prática normalizar os dados!\n",
    "\n"
   ]
  },
  {
   "cell_type": "code",
   "execution_count": null,
   "metadata": {},
   "outputs": [],
   "source": [
    "from sklearn.preprocessing import MinMaxScaler\n",
    "\n",
    "normalizador = MinMaxScaler()\n",
    "normalizador.fit(X)\n",
    "X_norm = normalizador.transform(X)"
   ]
  },
  {
   "cell_type": "markdown",
   "metadata": {},
   "source": [
    "Para melhorar a visualização, vamos usar um PCA também!\n",
    "\n"
   ]
  },
  {
   "cell_type": "code",
   "execution_count": null,
   "metadata": {},
   "outputs": [],
   "source": [
    "from sklearn.decomposition import PCA\n",
    "\n",
    "pca = PCA()\n",
    "pca.fit(X_norm)\n",
    "X_pca = pca.transform(X_norm)"
   ]
  },
  {
   "cell_type": "markdown",
   "metadata": {},
   "source": [
    "Vamos tentar usar o LOF nos nossos dados.\n",
    "\n"
   ]
  },
  {
   "cell_type": "code",
   "execution_count": null,
   "metadata": {},
   "outputs": [],
   "source": [
    "# precisamos indicar a fração de outliers, vamos estimar que seja 1%\n",
    "FRACAO_OUTLIERS = 0.01\n",
    "\n",
    "# precisamos também indicar o número de vizinhos que serão considerados\n",
    "N_VIZINHOS = 35\n",
    "\n",
    "CORES = np.array([\"red\", \"blue\"])\n",
    "\n",
    "modelo_lof = LocalOutlierFactor(\n",
    "    n_neighbors=N_VIZINHOS,\n",
    "    contamination=FRACAO_OUTLIERS,\n",
    ")\n",
    "\n",
    "modelo_lof.fit(X_pca)\n",
    "previsao = modelo_lof.fit_predict(X_pca)\n",
    "\n",
    "fig, eixo = plt.subplots(figsize=(5, 5))\n",
    "\n",
    "eixo.scatter(\n",
    "    X_pca[:, 0],\n",
    "    X_pca[:, 1],\n",
    "    s=1,\n",
    "    color=CORES[(previsao + 1) // 2],\n",
    ")\n",
    "\n",
    "eixo.set_xlabel(\"Componente principal 1\")\n",
    "eixo.set_ylabel(\"Componente principal 2\")\n",
    "plt.show()"
   ]
  },
  {
   "cell_type": "markdown",
   "metadata": {},
   "source": [
    "Vamos tentar usar o Isolation Forest agora.\n",
    "\n"
   ]
  },
  {
   "cell_type": "code",
   "execution_count": null,
   "metadata": {},
   "outputs": [],
   "source": [
    "# precisamos indicar a fração de outliers, vamos estimar que seja 1%\n",
    "FRACAO_OUTLIERS = 0.01\n",
    "\n",
    "CORES = np.array([\"red\", \"blue\"])\n",
    "\n",
    "modelo_if = IsolationForest(\n",
    "    contamination=FRACAO_OUTLIERS,\n",
    "    random_state=SEMENTE_ALEATORIA,\n",
    ")\n",
    "\n",
    "# Ajustamos o modelo aos dados e realizamos a previsão\n",
    "modelo_if.fit(X_pca)\n",
    "previsao = modelo_if.predict(X_pca)\n",
    "\n",
    "fig, eixo = plt.subplots(figsize=(5, 5))\n",
    "\n",
    "eixo.scatter(\n",
    "    X_pca[:, 0],\n",
    "    X_pca[:, 1],\n",
    "    s=1,\n",
    "    color=CORES[(previsao + 1) // 2],\n",
    ")\n",
    "\n",
    "eixo.set_xlabel(\"Componente principal 1\")\n",
    "eixo.set_ylabel(\"Componente principal 2\")\n",
    "plt.show()"
   ]
  },
  {
   "cell_type": "markdown",
   "metadata": {},
   "source": [
    "Você pode remover os valores anômalos (processo chamado de *data cleaning*) da seguinte maneira:\n",
    "\n"
   ]
  },
  {
   "cell_type": "code",
   "execution_count": null,
   "metadata": {},
   "outputs": [],
   "source": [
    "logic = previsao == 1\n",
    "X_clean = X[logic]\n",
    "\n",
    "print(X.shape)\n",
    "print(X_clean.shape)"
   ]
  },
  {
   "cell_type": "markdown",
   "metadata": {},
   "source": [
    "Como exercício, escolha um algoritmo de aprendizado de máquina supervisionado ($k$​-vizinhos mais próximos, árvore de decisão, floresta aleatória ou qualquer outro de sua preferência) e treine um modelo usando os dados brutos (sem eliminar os outliers) e os dados limpos (eliminando os outliers). Observe se a performance melhorou, piorou ou permaneceu constante após a limpeza.\n",
    "\n"
   ]
  },
  {
   "cell_type": "code",
   "execution_count": null,
   "metadata": {},
   "outputs": [],
   "source": []
  },
  {
   "cell_type": "markdown",
   "metadata": {},
   "source": [
    "## Cuidado: valores anômalos não significam valores que devem ser descartados!\n",
    "\n"
   ]
  },
  {
   "cell_type": "markdown",
   "metadata": {},
   "source": [
    "Neste notebook nós identificamos valores anômalos em diversos conjuntos de dados. Na seção anterior, o exercício foi justamente testar um algoritmo de aprendizado de máquina com e sem a eliminação de outliers.\n",
    "\n",
    "É importante deixar claro que <u>valores anômalos não são necessariamente valores que devem ser descartados</u>! Existem diversos valores anômalos de altíssimo interesse científico! Imagina se tivéssemos descartado os valores de condutividade de supercondutores apenas e tão somente pois eram anômalos com relação ao conhecimento científico da época?\n",
    "\n",
    "Algoritmos de identificação de valores anômalos nos convidam a explorar esses valores com cuidado em busca de pistas sobre o que levou eles a serem anômalos. Um valor anômalo pode ser apenas um erro de digitação, mas também pode ser uma patente que irá te render milhões!\n",
    "\n"
   ]
  },
  {
   "cell_type": "markdown",
   "metadata": {},
   "source": [
    "## Testando suas habilidades e avançando nos seus estudos\n",
    "\n"
   ]
  },
  {
   "cell_type": "markdown",
   "metadata": {},
   "source": [
    "Os links abaixo são de repositórios de datasets curados para detecção de outliers. Use eles para testar suas habilidades.\n",
    "\n",
    "-   [https://dataverse.harvard.edu/dataset.xhtml?persistentId=doi:10.7910/DVN/OPQMVF](https://dataverse.harvard.edu/dataset.xhtml?persistentId=doi:10.7910/DVN/OPQMVF)\n",
    "\n",
    "-   [https://ir.library.oregonstate.edu/concern/datasets/47429f155](https://ir.library.oregonstate.edu/concern/datasets/47429f155)\n",
    "\n",
    "Se você quiser avançar nos seus estudos de detecção de valores anômalos, veja esse [repositório](https://github.com/yzhao062/anomaly-detection-resources) do GitHub com diversos materiais sobre esse tema.\n",
    "\n"
   ]
  },
  {
   "cell_type": "markdown",
   "metadata": {},
   "source": [
    "## XKCD relevante\n",
    "\n"
   ]
  },
  {
   "cell_type": "markdown",
   "metadata": {},
   "source": [
    "![img](https://imgs.xkcd.com/comics/boyfriend.png)\n",
    "\n",
    "`Imagem: Boyfriend (XKCD) disponível em https://xkcd.com/539`\n",
    "\n"
   ]
  },
  {
   "cell_type": "markdown",
   "metadata": {},
   "source": [
    "## Referências e leitura adicional\n",
    "\n"
   ]
  },
  {
   "cell_type": "markdown",
   "metadata": {},
   "source": [
    "1.  [https://machinelearningmastery.com/model-based-outlier-detection-and-removal-in-python/](https://machinelearningmastery.com/model-based-outlier-detection-and-removal-in-python/)\n",
    "2.  [https://scikit-learn.org/stable/auto_examples/miscellaneous/plot_anomaly_comparison.html](https://scikit-learn.org/stable/auto_examples/miscellaneous/plot_anomaly_comparison.html)\n",
    "3.  [https://scikit-learn.org/stable/auto_examples/miscellaneous/plot_outlier_detection_bench.html](https://scikit-learn.org/stable/auto_examples/miscellaneous/plot_outlier_detection_bench.html)\n",
    "4.  [https://scikit-learn.org/stable/auto_examples/neighbors/plot_lof_outlier_detection.html](https://scikit-learn.org/stable/auto_examples/neighbors/plot_lof_outlier_detection.html)\n",
    "5.  [https://scikit-learn.org/stable/auto_examples/ensemble/plot_isolation_forest.html](https://scikit-learn.org/stable/auto_examples/ensemble/plot_isolation_forest.html)\n",
    "6.  [https://www.dbs.ifi.lmu.de/Publikationen/Papers/LOF.pdf](https://www.dbs.ifi.lmu.de/Publikationen/Papers/LOF.pdf)\n",
    "7.  [https://www.youtube.com/watch?v=XAkXUSxJNlM](https://www.youtube.com/watch?v=XAkXUSxJNlM)\n",
    "8.  [https://cs.nju.edu.cn/zhouzh/zhouzh.files/publication/icdm08b.pdf](https://cs.nju.edu.cn/zhouzh/zhouzh.files/publication/icdm08b.pdf)\n",
    "9.  [https://github.com/yzhao062/anomaly-detection-resources](https://github.com/yzhao062/anomaly-detection-resources)\n",
    "10. [https://github.com/yzhao062/pyod](https://github.com/yzhao062/pyod)\n",
    "11. [Vídeo sobre detecção de valores anômalos do StatQuest](https://www.youtube.com/watch?v=dQw4w9WgXcQ)\n",
    "\n"
   ]
  }
 ],
 "metadata": {
  "kernelspec": {
   "display_name": "ilumpy",
   "language": "python",
   "name": "ilumpy"
  },
  "language_info": {
   "codemirror_mode": {
    "name": "ipython",
    "version": 3
   },
   "file_extension": ".py",
   "mimetype": "text/x-python",
   "name": "python",
   "nbconvert_exporter": "python",
   "pygments_lexer": "ipython3",
   "version": "3.9.7"
  },
  "org": null
 },
 "nbformat": 4,
 "nbformat_minor": 4
}
