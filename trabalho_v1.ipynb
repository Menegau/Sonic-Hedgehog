{
 "cells": [
  {
   "cell_type": "code",
   "execution_count": 19,
   "id": "80940ace-337c-4e9a-a328-9f0c848bf765",
   "metadata": {
    "tags": []
   },
   "outputs": [
    {
     "name": "stdout",
     "output_type": "stream",
     "text": [
      "species               object\n",
      "island                object\n",
      "bill_length_mm       float64\n",
      "bill_depth_mm        float64\n",
      "flipper_length_mm    float64\n",
      "body_mass_g          float64\n",
      "sex                   object\n",
      "dtype: object\n",
      "    species     island  bill_length_mm  bill_depth_mm  flipper_length_mm  \\\n",
      "0    Adelie  Torgersen            39.1           18.7              181.0   \n",
      "1    Adelie  Torgersen            39.5           17.4              186.0   \n",
      "2    Adelie  Torgersen            40.3           18.0              195.0   \n",
      "3    Adelie  Torgersen             NaN            NaN                NaN   \n",
      "4    Adelie  Torgersen            36.7           19.3              193.0   \n",
      "..      ...        ...             ...            ...                ...   \n",
      "339  Gentoo     Biscoe             NaN            NaN                NaN   \n",
      "340  Gentoo     Biscoe            46.8           14.3              215.0   \n",
      "341  Gentoo     Biscoe            50.4           15.7              222.0   \n",
      "342  Gentoo     Biscoe            45.2           14.8              212.0   \n",
      "343  Gentoo     Biscoe            49.9           16.1              213.0   \n",
      "\n",
      "     body_mass_g     sex  \n",
      "0         3750.0    Male  \n",
      "1         3800.0  Female  \n",
      "2         3250.0  Female  \n",
      "3            NaN     NaN  \n",
      "4         3450.0  Female  \n",
      "..           ...     ...  \n",
      "339          NaN     NaN  \n",
      "340       4850.0  Female  \n",
      "341       5750.0    Male  \n",
      "342       5200.0  Female  \n",
      "343       5400.0    Male  \n",
      "\n",
      "[344 rows x 7 columns]\n"
     ]
    }
   ],
   "source": [
    "import seaborn as sns\n",
    "\n",
    "df = sns.load_dataset('penguins')\n",
    "print(df.dtypes)\n",
    "#print(df)"
   ]
  },
  {
   "cell_type": "code",
   "execution_count": 26,
   "id": "a90384d2-1fc2-402f-b5c0-9ca42842ecc0",
   "metadata": {
    "tags": []
   },
   "outputs": [],
   "source": [
    "df = df.convert_dtypes() #converte os dados \n",
    "#print(df.dtypes)\n",
    "#print(df)"
   ]
  },
  {
   "cell_type": "code",
   "execution_count": 27,
   "id": "7b33e892-80ee-4183-93e1-81645e8f7ca8",
   "metadata": {},
   "outputs": [
    {
     "name": "stdout",
     "output_type": "stream",
     "text": [
      "    species     island  bill_length_mm  bill_depth_mm  flipper_length_mm  \\\n",
      "0    Adelie  Torgersen            39.1           18.7                181   \n",
      "1    Adelie  Torgersen            39.5           17.4                186   \n",
      "2    Adelie  Torgersen            40.3           18.0                195   \n",
      "4    Adelie  Torgersen            36.7           19.3                193   \n",
      "5    Adelie  Torgersen            39.3           20.6                190   \n",
      "..      ...        ...             ...            ...                ...   \n",
      "338  Gentoo     Biscoe            47.2           13.7                214   \n",
      "340  Gentoo     Biscoe            46.8           14.3                215   \n",
      "341  Gentoo     Biscoe            50.4           15.7                222   \n",
      "342  Gentoo     Biscoe            45.2           14.8                212   \n",
      "343  Gentoo     Biscoe            49.9           16.1                213   \n",
      "\n",
      "     body_mass_g     sex  \n",
      "0           3750    Male  \n",
      "1           3800  Female  \n",
      "2           3250  Female  \n",
      "4           3450  Female  \n",
      "5           3650    Male  \n",
      "..           ...     ...  \n",
      "338         4925  Female  \n",
      "340         4850  Female  \n",
      "341         5750    Male  \n",
      "342         5200  Female  \n",
      "343         5400    Male  \n",
      "\n",
      "[333 rows x 7 columns]\n"
     ]
    }
   ],
   "source": [
    "# elimina as linhas que possuem lacunas sem dados\n",
    "dfcopia = df.copy()\n",
    "dfcopia = dfcopia.dropna(axis=0)\n",
    "print(dfcopia)\n"
   ]
  },
  {
   "cell_type": "code",
   "execution_count": null,
   "id": "6e3a7aa6-c324-4ed0-b31e-5c2d5b9b9663",
   "metadata": {},
   "outputs": [],
   "source": []
  }
 ],
 "metadata": {
  "kernelspec": {
   "display_name": "ilumpy",
   "language": "python",
   "name": "ilumpy"
  },
  "language_info": {
   "codemirror_mode": {
    "name": "ipython",
    "version": 3
   },
   "file_extension": ".py",
   "mimetype": "text/x-python",
   "name": "python",
   "nbconvert_exporter": "python",
   "pygments_lexer": "ipython3",
   "version": "3.9.7"
  }
 },
 "nbformat": 4,
 "nbformat_minor": 5
}
