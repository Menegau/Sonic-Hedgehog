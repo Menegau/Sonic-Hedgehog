{
 "cells": [
  {
   "cell_type": "markdown",
   "id": "c9d380ad-af2a-4cdb-a9e4-f6998ddb8677",
   "metadata": {},
   "source": [
    "O target numérico é a largura do bico, que será prevista a partir de parâmetros como a profundidade desse bico, massa corporal, etc. O target categórico pode ser a espécie do pinguim."
   ]
  },
  {
   "cell_type": "code",
   "execution_count": 2,
   "id": "80940ace-337c-4e9a-a328-9f0c848bf765",
   "metadata": {
    "collapsed": true,
    "jupyter": {
     "outputs_hidden": true
    },
    "tags": []
   },
   "outputs": [
    {
     "name": "stdout",
     "output_type": "stream",
     "text": [
      "species               object\n",
      "island                object\n",
      "bill_length_mm       float64\n",
      "bill_depth_mm        float64\n",
      "flipper_length_mm    float64\n",
      "body_mass_g          float64\n",
      "sex                   object\n",
      "dtype: object\n"
     ]
    }
   ],
   "source": [
    "import seaborn as sns\n",
    "\n",
    "df = sns.load_dataset('penguins')\n",
    "print(df.dtypes)\n",
    "#print(df)"
   ]
  },
  {
   "cell_type": "code",
   "execution_count": 6,
   "id": "a90384d2-1fc2-402f-b5c0-9ca42842ecc0",
   "metadata": {
    "collapsed": true,
    "jupyter": {
     "outputs_hidden": true
    },
    "tags": []
   },
   "outputs": [
    {
     "name": "stdout",
     "output_type": "stream",
     "text": [
      "species               string\n",
      "island                string\n",
      "bill_length_mm       Float64\n",
      "bill_depth_mm        Float64\n",
      "flipper_length_mm      Int64\n",
      "body_mass_g            Int64\n",
      "sex                   string\n",
      "dtype: object\n"
     ]
    }
   ],
   "source": [
    "# Converte os dados\n",
    "df = df.convert_dtypes() \n",
    "print(df.dtypes)\n",
    "#print(df)"
   ]
  },
  {
   "cell_type": "code",
   "execution_count": 14,
   "id": "7b33e892-80ee-4183-93e1-81645e8f7ca8",
   "metadata": {
    "tags": []
   },
   "outputs": [],
   "source": [
    "# Elimina as linhas que possuem lacunas sem dados\n",
    "dfcopia = df.copy()\n",
    "dfcopia = dfcopia.dropna(axis=0)\n",
    "#print(dfcopia)\n"
   ]
  },
  {
   "cell_type": "code",
   "execution_count": 13,
   "id": "6e3a7aa6-c324-4ed0-b31e-5c2d5b9b9663",
   "metadata": {},
   "outputs": [],
   "source": [
    "# Cria um dataset somente com os features numéricos\n",
    "features_numericos = [\"bill_length_mm\",\"bill_depth_mm\", \"flipper_length_mm\", \"body_mass_g\"]\n",
    "df_numericos = dfcopia[features_numericos]"
   ]
  },
  {
   "cell_type": "code",
   "execution_count": null,
   "id": "23e7ab56-ded7-4822-9f9c-bd945ca87178",
   "metadata": {},
   "outputs": [],
   "source": []
  }
 ],
 "metadata": {
  "kernelspec": {
   "display_name": "ilumpy",
   "language": "python",
   "name": "ilumpy"
  },
  "language_info": {
   "codemirror_mode": {
    "name": "ipython",
    "version": 3
   },
   "file_extension": ".py",
   "mimetype": "text/x-python",
   "name": "python",
   "nbconvert_exporter": "python",
   "pygments_lexer": "ipython3",
   "version": "3.9.7"
  }
 },
 "nbformat": 4,
 "nbformat_minor": 5
}
