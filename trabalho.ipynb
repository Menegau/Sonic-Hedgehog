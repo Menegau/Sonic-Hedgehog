{
 "cells": [
  {
   "cell_type": "markdown",
   "id": "c9d380ad-af2a-4cdb-a9e4-f6998ddb8677",
   "metadata": {},
   "source": [
    "# Aprendizado de Máquina - Atividade do primeiro semestre\n",
    "### Bloco 1\n",
    "\n",
    "O target numérico é a largura do bico, que será prevista a partir de parâmetros como a profundidade desse bico, massa corporal, etc. Um futuro target categórico pode ser a espécie do pinguim."
   ]
  },
  {
   "cell_type": "code",
   "execution_count": 14,
   "id": "80940ace-337c-4e9a-a328-9f0c848bf765",
   "metadata": {
    "tags": []
   },
   "outputs": [
    {
     "name": "stdout",
     "output_type": "stream",
     "text": [
      "species               object\n",
      "island                object\n",
      "bill_length_mm       float64\n",
      "bill_depth_mm        float64\n",
      "flipper_length_mm    float64\n",
      "body_mass_g          float64\n",
      "sex                   object\n",
      "dtype: object\n"
     ]
    }
   ],
   "source": [
    "import seaborn as sns\n",
    "\n",
    "df = sns.load_dataset('penguins')\n",
    "print(df.dtypes)\n",
    "#print(df)"
   ]
  },
  {
   "cell_type": "code",
   "execution_count": 15,
   "id": "4aba4303-a0de-4fe6-aa02-84a330c51e8c",
   "metadata": {},
   "outputs": [],
   "source": [
    "# importa a biblioteca para plotar os gráficos\n",
    "import matplotlib.pyplot as plt"
   ]
  },
  {
   "cell_type": "code",
   "execution_count": 16,
   "id": "a90384d2-1fc2-402f-b5c0-9ca42842ecc0",
   "metadata": {
    "tags": []
   },
   "outputs": [
    {
     "name": "stdout",
     "output_type": "stream",
     "text": [
      "species               string\n",
      "island                string\n",
      "bill_length_mm       Float64\n",
      "bill_depth_mm        Float64\n",
      "flipper_length_mm      Int64\n",
      "body_mass_g            Int64\n",
      "sex                   string\n",
      "dtype: object\n"
     ]
    }
   ],
   "source": [
    "# Converte os dados\n",
    "df = df.convert_dtypes() \n",
    "print(df.dtypes)\n",
    "#print(df)"
   ]
  },
  {
   "cell_type": "code",
   "execution_count": 17,
   "id": "7b33e892-80ee-4183-93e1-81645e8f7ca8",
   "metadata": {
    "tags": []
   },
   "outputs": [],
   "source": [
    "# Elimina as linhas que possuem lacunas sem dados\n",
    "dfcopia = df.copy()\n",
    "dfcopia = dfcopia.dropna(axis=0)\n",
    "\n",
    "#print(dfcopia)\n"
   ]
  },
  {
   "cell_type": "code",
   "execution_count": 18,
   "id": "6e3a7aa6-c324-4ed0-b31e-5c2d5b9b9663",
   "metadata": {},
   "outputs": [
    {
     "name": "stdout",
     "output_type": "stream",
     "text": [
      "     bill_length_mm  bill_depth_mm  flipper_length_mm  body_mass_g\n",
      "0              39.1           18.7                181         3750\n",
      "1              39.5           17.4                186         3800\n",
      "2              40.3           18.0                195         3250\n",
      "4              36.7           19.3                193         3450\n",
      "5              39.3           20.6                190         3650\n",
      "..              ...            ...                ...          ...\n",
      "338            47.2           13.7                214         4925\n",
      "340            46.8           14.3                215         4850\n",
      "341            50.4           15.7                222         5750\n",
      "342            45.2           14.8                212         5200\n",
      "343            49.9           16.1                213         5400\n",
      "\n",
      "[333 rows x 4 columns]\n"
     ]
    }
   ],
   "source": [
    "# Cria um dataset somente com os features numéricos\n",
    "features_numericos = [\"bill_length_mm\",\"bill_depth_mm\", \"flipper_length_mm\", \"body_mass_g\"]\n",
    "df_numericos = dfcopia[features_numericos]\n",
    "\n",
    "print(df_numericos)"
   ]
  },
  {
   "cell_type": "code",
   "execution_count": 19,
   "id": "79b68293-b890-4997-9e72-2fac74e388d0",
   "metadata": {},
   "outputs": [
    {
     "name": "stdout",
     "output_type": "stream",
     "text": [
      "     bill_length_norm  bill_depth_norm  flipper_length_norm  body_mass_norm\n",
      "0            0.254545         0.666667             0.152542        0.291667\n",
      "1            0.269091         0.511905             0.237288        0.305556\n",
      "2            0.298182         0.583333             0.389831        0.152778\n",
      "4            0.167273         0.738095             0.355932        0.208333\n",
      "5            0.261818         0.892857             0.305085        0.263889\n",
      "..                ...              ...                  ...             ...\n",
      "338          0.549091         0.071429             0.711864        0.618056\n",
      "340          0.534545         0.142857             0.728814        0.597222\n",
      "341          0.665455         0.309524             0.847458        0.847222\n",
      "342          0.476364         0.202381             0.677966        0.694444\n",
      "343          0.647273         0.357143             0.694915            0.75\n",
      "\n",
      "[333 rows x 4 columns]\n"
     ]
    }
   ],
   "source": [
    "df_normalizado = df_numericos.copy()\n",
    "\n",
    "#normalizando coluna por coluna com o método de mínimo e máximo:\n",
    "\n",
    "#primeira coluna (comprimento do bico)\n",
    "maximo_bill_length = df_normalizado['bill_length_mm'].max()\n",
    "minimo_bill_length = df_normalizado['bill_length_mm'].min()\n",
    "\n",
    "df_normalizado['bill_length_norm'] = (df_normalizado['bill_length_mm'] - minimo_bill_length) / (maximo_bill_length - minimo_bill_length)\n",
    "\n",
    "#segunda coluna (profundidade do bico)\n",
    "maximo_bill_depth = df_normalizado['bill_depth_mm'].max()\n",
    "minimo_bill_depth = df_normalizado['bill_depth_mm'].min()\n",
    "\n",
    "df_normalizado['bill_depth_norm'] = (df_normalizado['bill_depth_mm'] - minimo_bill_depth) / (maximo_bill_depth - minimo_bill_depth)\n",
    "\n",
    "#terceira coluna (envergadura das nadadeiras)\n",
    "maximo_flipper_length = df_normalizado['flipper_length_mm'].max()\n",
    "minimo_flipper_length = df_normalizado['flipper_length_mm'].min()\n",
    "\n",
    "df_normalizado['flipper_length_norm'] = (df_normalizado['flipper_length_mm'] - minimo_flipper_length) / (maximo_flipper_length - minimo_flipper_length)\n",
    "\n",
    "#quarta coluna (peso corporal)\n",
    "maximo_body_mass = df_normalizado['body_mass_g'].max()\n",
    "minimo_body_mass = df_normalizado['body_mass_g'].min()\n",
    "\n",
    "df_normalizado['body_mass_norm'] = (df_normalizado['body_mass_g'] - minimo_body_mass) / (maximo_body_mass - minimo_body_mass)\n",
    "#print(df_normalizado)\n",
    "\n",
    "#criando um novo dataframe só com os dados normalizados.\n",
    "df_normalizado2 = df_normalizado.reindex([\"bill_length_norm\",\"bill_depth_norm\",\"flipper_length_norm\",\"body_mass_norm\"],axis=1)\n",
    "\n",
    "print(df_normalizado2)"
   ]
  },
  {
   "cell_type": "code",
   "execution_count": 20,
   "id": "2cc7df97-36f8-492f-99af-a8d78642869d",
   "metadata": {},
   "outputs": [
    {
     "name": "stdout",
     "output_type": "stream",
     "text": [
      "(333, 4)\n",
      "Int64Index([  0,   1,   2,   4,   5,   6,   7,  12,  13,  14,\n",
      "            ...\n",
      "            332, 333, 334, 335, 337, 338, 340, 341, 342, 343],\n",
      "           dtype='int64', length=333)\n"
     ]
    }
   ],
   "source": [
    "# análises exploratória e estatística dos dados:\n",
    "\n",
    "print(df_normalizado2.shape) # checando o tamanho do dataframe (333 linhas e 4 colunas)\n",
    "print(df_normalizado2.index) # nota-se que o index não está ordenado, apresentando lacunas."
   ]
  },
  {
   "cell_type": "code",
   "execution_count": 21,
   "id": "af5914fa-fa7d-4f44-8b25-f54ad3b9eaff",
   "metadata": {},
   "outputs": [],
   "source": [
    "# para resolver esse problema, utiliza-se o método reset_index:\n",
    "df_arrumado = df_normalizado2.reset_index(drop=True) # no qual drop=True significa que a nova coluna index irá substituir a anterior completamente,\n",
    "# ao invés de apenas ser acrescentada como mais uma coluna."
   ]
  },
  {
   "cell_type": "code",
   "execution_count": 22,
   "id": "f2009ca1-9454-43ea-aa94-1d985b6cd432",
   "metadata": {},
   "outputs": [
    {
     "name": "stdout",
     "output_type": "stream",
     "text": [
      "RangeIndex(start=0, stop=333, step=1)\n",
      "     bill_length_norm  bill_depth_norm  flipper_length_norm  body_mass_norm\n",
      "0            0.254545         0.666667             0.152542        0.291667\n",
      "1            0.269091         0.511905             0.237288        0.305556\n",
      "2            0.298182         0.583333             0.389831        0.152778\n",
      "3            0.167273         0.738095             0.355932        0.208333\n",
      "4            0.261818         0.892857             0.305085        0.263889\n",
      "..                ...              ...                  ...             ...\n",
      "328          0.549091         0.071429             0.711864        0.618056\n",
      "329          0.534545         0.142857             0.728814        0.597222\n",
      "330          0.665455         0.309524             0.847458        0.847222\n",
      "331          0.476364         0.202381             0.677966        0.694444\n",
      "332          0.647273         0.357143             0.694915            0.75\n",
      "\n",
      "[333 rows x 4 columns]\n"
     ]
    }
   ],
   "source": [
    "print(df_arrumado.index) # checando se o método funcionou\n",
    "print(df_arrumado) # :) funcionou"
   ]
  },
  {
   "cell_type": "code",
   "execution_count": 23,
   "id": "fdcd74c1-11b1-48c1-91fe-00e5399d15d2",
   "metadata": {},
   "outputs": [
    {
     "name": "stdout",
     "output_type": "stream",
     "text": [
      "Index(['bill_length_norm', 'bill_depth_norm', 'flipper_length_norm',\n",
      "       'body_mass_norm'],\n",
      "      dtype='object')\n"
     ]
    }
   ],
   "source": [
    "print(df_arrumado.columns) # conferindo as colunas:"
   ]
  },
  {
   "cell_type": "markdown",
   "id": "c9ae1fba-72da-42d5-b424-9b4e4062b210",
   "metadata": {},
   "source": [
    "<br>\n",
    "\n",
    "A coluna `bill_length_norm` representa os valores normalizados do comprimento de bico de cada pinguim (*os valores originais em mm podem ser encontrados na coluna `bill_length_mm` do dataframe `df_numericos`, que contém todos os valores originais*), enquanto `bill_depth_norm`, os valores normalizados da sua altura (*valores originais na coluna `bill_depth_mm` do outro dataframe*). Abaixo, encontra-se uma imagem para melhor entendimento desses atributos:\n",
    "<center><img src=\"https://allisonhorst.github.io/palmerpenguins/reference/figures/culmen_depth.png\" width=50% height=auto>\n",
    "<figcaption>Fonte: https://allisonhorst.github.io/palmerpenguins/\n",
    "<br><br>\n",
    "    \n",
    "Da mesma maneira, `flipper_length_norm` consiste nos valores normalizados do comprimento das nadadeiras (*podendo ser encontrado em mm no atributo `flipper_length_mm` do dataframe numérico*). Por fim, `body_mass_norm` contém os valores normalizados de massa corporal (no caso, o peso) de cada pinguim (*seus valores em gramas estão em `body_mass_g`*)."
   ]
  },
  {
   "cell_type": "code",
   "execution_count": 24,
   "id": "7466fa4f-3cec-40ab-b1ac-bb0dc7e1c539",
   "metadata": {},
   "outputs": [
    {
     "name": "stdout",
     "output_type": "stream",
     "text": [
      "bill_length_norm       Float64\n",
      "bill_depth_norm        Float64\n",
      "flipper_length_norm    Float64\n",
      "body_mass_norm         Float64\n",
      "dtype: object\n"
     ]
    }
   ],
   "source": [
    "print(df_arrumado.dtypes) # apenas conferindo os tipos novamente"
   ]
  },
  {
   "cell_type": "code",
   "execution_count": 25,
   "id": "6dc8ad8b-89d0-4d1f-85be-42b16677393f",
   "metadata": {},
   "outputs": [
    {
     "name": "stdout",
     "output_type": "stream",
     "text": [
      "       bill_length_norm  bill_depth_norm  flipper_length_norm  body_mass_norm\n",
      "count        333.000000       333.000000           333.000000      333.000000\n",
      "mean           0.432465         0.483912             0.490966        0.418627\n",
      "std            0.198861         0.234433             0.237555        0.223671\n",
      "min            0.000000         0.000000             0.000000        0.000000\n",
      "25%            0.269091         0.297619             0.305085        0.236111\n",
      "50%            0.450909         0.500000             0.423729        0.375000\n",
      "75%            0.600000         0.666667             0.694915        0.576389\n",
      "max            1.000000         1.000000             1.000000        1.000000\n"
     ]
    }
   ],
   "source": [
    "# análise geral:\n",
    "\n",
    "print(df_arrumado.describe())"
   ]
  },
  {
   "cell_type": "markdown",
   "id": "d727938c-2014-4bc0-bab5-50ecb936d062",
   "metadata": {},
   "source": [
    "### Gráficos\n",
    "A seguir foram plotados dois tipos de gráficos, um histograma e um de *scattering*. Foram feitos dois de cada a fim de comparar o data frame normalizado em relação à sua versão final (arrumado). \n",
    "Através do gráfico de *scattering*, podemos observar se há alguma relação entre determinadas colunas dos nossos dados. Assim como dito no começo do arquivo, o target é a largura do bico, a qual será relacionada/prevista por meio dos outros parâmetros."
   ]
  },
  {
   "cell_type": "code",
   "execution_count": 26,
   "id": "1541654a-67b5-47c6-b424-3000c086e057",
   "metadata": {},
   "outputs": [
    {
     "data": {
      "text/plain": [
       "<AxesSubplot:ylabel='Frequency'>"
      ]
     },
     "execution_count": 26,
     "metadata": {},
     "output_type": "execute_result"
    },
    {
     "data": {
      "image/png": "[encoded data removed]",
      "text/plain": [
       "<Figure size 432x288 with 1 Axes>"
      ]
     },
     "metadata": {
      "needs_background": "light"
     },
     "output_type": "display_data"
    }
   ],
   "source": [
    "df_normalizado2.bill_length_norm.plot(kind='hist')"
   ]
  },
  {
   "cell_type": "code",
   "execution_count": 27,
   "id": "bd94703d-029f-46e2-9f79-395189353e78",
   "metadata": {},
   "outputs": [
    {
     "data": {
      "text/plain": [
       "<AxesSubplot:ylabel='Frequency'>"
      ]
     },
     "execution_count": 27,
     "metadata": {},
     "output_type": "execute_result"
    },
    {
     "data": {
      "image/png": "[encoded data removed]",
      "text/plain": [
       "<Figure size 432x288 with 1 Axes>"
      ]
     },
     "metadata": {
      "needs_background": "light"
     },
     "output_type": "display_data"
    }
   ],
   "source": [
    "df_arrumado.bill_length_norm.plot(kind = 'hist')"
   ]
  },
  {
   "cell_type": "code",
   "execution_count": 28,
   "id": "3415d5ad-5f24-4580-abc0-7ba4d004a27c",
   "metadata": {},
   "outputs": [
    {
     "data": {
      "image/png": "[encoded data removed]",
      "text/plain": [
       "<Figure size 432x288 with 1 Axes>"
      ]
     },
     "metadata": {
      "needs_background": "light"
     },
     "output_type": "display_data"
    }
   ],
   "source": [
    "ax1 = df_normalizado2.plot(kind='scatter', x=\"bill_length_norm\", y=\"body_mass_norm\", color='Red', label=\"Largura do Bico\")\n",
    "ax2 = df_normalizado2.plot(kind='scatter', x=\"bill_length_norm\", y=\"bill_depth_norm\", color='Green', label=\"Massa corporal\", ax=ax1)\n",
    "ax3 = df_normalizado2.plot(kind='scatter', x=\"bill_length_norm\", y=\"flipper_length_norm\", color='Blue', label=\"Largura da Nadadeira\", ax=ax2)\n",
    "plt.xlabel('Largura do Bico')\n",
    "plt.ylabel('Massa corporal/Largura da Nadadeira')\n",
    "plt.show()"
   ]
  },
  {
   "cell_type": "code",
   "execution_count": 29,
   "id": "b81f415c-9a07-44a8-b6dc-6d201307ecd8",
   "metadata": {
    "tags": []
   },
   "outputs": [
    {
     "data": {
      "image/png": "[encoded data removed]",
      "text/plain": [
       "<Figure size 432x288 with 1 Axes>"
      ]
     },
     "metadata": {
      "needs_background": "light"
     },
     "output_type": "display_data"
    }
   ],
   "source": [
    "ax1 = df_arrumado.plot(kind='scatter', x=\"bill_length_norm\", y=\"body_mass_norm\", color='Red', label=\"Largura do Bico\")\n",
    "ax2 = df_arrumado.plot(kind='scatter', x=\"bill_length_norm\", y=\"bill_depth_norm\", color='Green', label=\"Massa corporal\", ax=ax1)\n",
    "ax3 = df_arrumado.plot(kind='scatter', x=\"bill_length_norm\", y=\"flipper_length_norm\", color='Blue', label=\"Largura da Nadadeira\", ax=ax2)\n",
    "plt.xlabel('Largura do Bico')\n",
    "plt.ylabel('Massa corporal/Largura da Nadadeira')\n",
    "plt.show()"
   ]
  },
  {
   "cell_type": "markdown",
   "id": "ad3c3c55-f0a3-4dee-86f3-712ee2f5c38e",
   "metadata": {},
   "source": [
    "<br>\n",
    "\n",
    "A partir dos dados acima pode-se observar que existem 333 linhas (cada uma com os dados de um pinguim diferente) presentes no dataframe `df_arrumado`. A média aritmética desses 333 valores - que já estão normalizados pelo método de máximo e mínimo, estando sempre entre 0 e 1 - para cada feature, está indicada na linha `mean`. Vê-se que nenhuma das médias atinge ou passa o 0.5 (apesar de `flipper_length_norm` chegar próximo), indicando uma maioria de valores menores que a média do maior e menor número, e valores altos mais escarços e com maior diferença entre si. Já a linha `std`, do inglês *standart deviation*, indica o desvio padrão de cada atributo. Estes valores, por sua vez, se encontram próximos a 0.2, nunca ultrapassando 0.25. Pode-se afirmar também que o atributo mais estável (e, portanto, com menor desvio padrão) é a medida que representa o comprimento do bico.\n",
    "\n",
    "Em seguida, observa-se o valor mínimo e máximo, a mediana, e mais dois pontos entre eles (os pontos 25% e 75%) referentes a cada atributo do dataframe. Para melhor compreender o significado desses valores, pode-se imaginar uma lista com todos os valores de um atributo, ordenados de maneira crescente: assim, o valor mínimo representa o primeiro item da lista (no python, index 0); o máximo, o último (index 332 para a nossa de lista de 333 pinguins); o ponto de 50%, também chamado de mediana, está na posição que divide a lista na metade (para 33 valores, seria o de index 166); o de 25% se encontra na posição de número correspondente a 25% do tamanho total da lista (no nosso caso, index 83); por fim, o ponto de 75% representa o valor na posição de 75% do total (index 249).\n",
    "Na célula de código abaixo, pode-se ver esse processo sendo feito manualmente para melhor entendimento, usando como exemplo o atributo `bill_length_norm`:"
   ]
  },
  {
   "cell_type": "code",
   "execution_count": 30,
   "id": "6c6074cc-68e6-436b-ab80-6d1107280305",
   "metadata": {
    "tags": []
   },
   "outputs": [
    {
     "name": "stdout",
     "output_type": "stream",
     "text": [
      "min: 0.0\n",
      "25%: 0.269091\n",
      "50%: 0.450909\n",
      "75%: 0.6\n",
      "max: 1.0\n"
     ]
    }
   ],
   "source": [
    "lista_exemplo = list(df_arrumado[\"bill_length_norm\"]) # cria uma lista a partir de todos os valores dentro de bill_length_norm\n",
    "lista_exemplo.sort() # arruma a lista em ordem crescente\n",
    "print(f\"min: {round(lista_exemplo[0],6)}\",\n",
    "      f\"25%: {round(lista_exemplo[83],6)}\",\n",
    "      f\"50%: {round(lista_exemplo[166],6)}\",\n",
    "      f\"75%: {round(lista_exemplo[249],6)}\",\n",
    "      f\"max: {round(lista_exemplo[332],6)}\",\n",
    "     sep=\"\\n\")\n",
    "# o código acima exibe a legenda com seus respectivos valores, retirados da lista ordenada e arredondados até a 6ª casa decimal\n",
    "# observa-se que os valores exibidos são idênticos aos apresentados anteriormente pela função describe()"
   ]
  },
  {
   "cell_type": "code",
   "execution_count": 31,
   "id": "92dbbd00-8dc0-40e5-9352-a7870a60bec0",
   "metadata": {},
   "outputs": [
    {
     "name": "stdout",
     "output_type": "stream",
     "text": [
      "--------- obliquidade:---------\n",
      "bill_length_norm       0.045340\n",
      "bill_depth_norm       -0.149720\n",
      "flipper_length_norm    0.360148\n",
      "body_mass_norm         0.472246\n",
      "dtype: float64\n",
      "\n",
      "----------- curtose:-----------\n",
      "bill_length_norm      -0.883418\n",
      "bill_depth_norm       -0.891960\n",
      "flipper_length_norm   -0.961241\n",
      "body_mass_norm        -0.733489\n",
      "dtype: float64\n"
     ]
    }
   ],
   "source": [
    "# a seguir, se encontra o cálculo e os valores de obliquidade (skewness)\n",
    "# e curtose (kurtosis) para cada feature do dataframe\n",
    "print(\"--------- obliquidade:---------\")\n",
    "print(df_arrumado.skew())\n",
    "print()\n",
    "print(\"----------- curtose:-----------\")\n",
    "print(df_arrumado.kurt())"
   ]
  },
  {
   "cell_type": "markdown",
   "id": "dc021528-04d2-40de-9dfd-42eecfdf2869",
   "metadata": {},
   "source": [
    "<br>\n",
    "\n",
    "Obliquidade e curtose são termos estatísticos, sendo que o primeira estima o formato de uma distribuição, sendo um método importante para categorizar comportamentos assimétricos. Já a curtose, por sua vez, determina se uma distribuição possui \"cauda pesada\" (*heavy-tailed*) quando comparada à distribuição normal. A imagem abaixo representa melhor o que ambas as funções representam em termos gráficos:\n",
    "<center><img src=\"https://www.analyticsvidhya.com/wp-content/uploads/2014/07/skewness-and-kurtosis.gif\" width=50% height=auto>\n",
    "<figcaption>Fonte: https://www.analyticsvidhya.com/blog/2014/07/statistics/\n",
    "<br><br>\n",
    "\n",
    "A obliquidade não é nula em nenhum dos atributos acima; portanto, os dados se apresentam como assimétricos quando comparamos a primeira metade à segunda. Interpretando graficamente, as features que apresentam obliquidade positiva (comprimento do bico, das nadadeiras e massa corporal) possuem mais peso do lado esquerdo da distribuição; ou seja, os valores tendem a ser menores. A altura do bico (`bill_depth_norm`), no entanto, possui obliquidade negativa; apresentando, portanto, valores com tendência a serem maiores. Isso poderá ser melhor observado futuramente, na plotagem dos gráficos.\n",
    "    \n",
    "A curtose calculada para as features se apresentou negativa em todos os casos; isso significa que, em uma representação gráfica, a curva que descreve os valores é platicúrtica: possui um topo menos elevado, sendo mais plana que uma distribuição normal."
   ]
  },
  {
   "cell_type": "code",
   "execution_count": 37,
   "id": "0f759652-453b-4f9f-882f-92242bf0ef6d",
   "metadata": {},
   "outputs": [
    {
     "name": "stdout",
     "output_type": "stream",
     "text": [
      "     bill_length_norm  bill_depth_norm  flipper_length_norm  body_mass_norm\n",
      "91           0.298182         0.642857              0.40678        0.458333\n",
      "162          0.661818         0.821429             0.423729        0.166667\n",
      "322          0.643636         0.333333             0.966102        0.902778\n",
      "187          0.512727          0.52381             0.254237        0.263889\n",
      "98           0.210909         0.654762             0.355932          0.0625\n",
      "128          0.218182         0.535714             0.254237        0.201389\n",
      "304          0.487273         0.166667             0.677966        0.569444\n",
      "197          0.701818         0.702381             0.491525        0.347222\n",
      "3            0.167273         0.738095             0.355932        0.208333\n",
      "115          0.203636         0.797619             0.440678        0.222222\n",
      "66           0.272727         0.488095              0.40678        0.236111\n",
      "303          0.730909          0.47619             0.949153            0.75\n",
      "38           0.436364         0.785714              0.40678        0.472222\n",
      "170          0.530909         0.571429             0.389831        0.166667\n",
      "126          0.170909         0.642857             0.355932        0.222222\n",
      "293          0.741818         0.297619             0.830508        0.763889\n",
      "86           0.069091          0.47619             0.220339        0.194444\n",
      "284          0.585455         0.297619             0.830508        0.666667\n",
      "26           0.185455         0.595238             0.101695        0.333333\n",
      "142          0.141818         0.559524             0.389831        0.208333\n",
      "228          0.498182         0.178571             0.644068        0.416667\n",
      "173          0.632727         0.702381             0.474576        0.305556\n",
      "11               0.24         0.702381             0.389831        0.208333\n",
      "90           0.218182         0.654762             0.305085        0.277778\n",
      "300              0.56         0.107143             0.677966        0.604167\n",
      "95           0.323636         0.821429             0.525424          0.5625\n",
      "1            0.269091         0.511905             0.237288        0.305556\n",
      "313          0.865455         0.464286             0.949153        0.805556\n",
      "161          0.669091          0.77381             0.491525           0.375\n",
      "282          0.567273          0.22619             0.745763        0.569444\n",
      "164              0.52         0.654762             0.305085        0.208333\n",
      "32           0.367273         0.642857             0.135593        0.236111\n",
      "206              0.72         0.761905             0.576271        0.347222\n",
      "262          0.476364         0.321429             0.728814        0.722222\n"
     ]
    }
   ],
   "source": [
    "# Seleciona os dados que serão utilizados para treino e para teste\n",
    "\n",
    "import seaborn as sns\n",
    "from sklearn.model_selection import train_test_split\n",
    "\n",
    "TAMANHO_TESTE = 0.1\n",
    "SEMENTE_ALEATORIA = 61454\n",
    "FEATURES = [\"bill_depth_norm\", \"flipper_length_norm\", \"body_mass_norm\"]\n",
    "TARGET = [\"bill_length_norm\"]\n",
    "\n",
    "df = df_arrumado\n",
    "\n",
    "indices = df.index\n",
    "indices_treino, indices_teste = train_test_split(\n",
    "    indices, test_size=TAMANHO_TESTE, random_state=SEMENTE_ALEATORIA\n",
    ")\n",
    "\n",
    "df_treino = df.loc[indices_treino]\n",
    "df_teste = df.loc[indices_teste]\n",
    "\n",
    "\n",
    "X_treino = df_treino.reindex(FEATURES, axis=1).values\n",
    "y_treino = df_treino.reindex(TARGET, axis=1).values\n",
    "X_teste = df_teste.reindex(FEATURES, axis=1).values\n",
    "y_teste = df_teste.reindex(TARGET, axis=1).values\n",
    "print(df_teste)"
   ]
  },
  {
   "cell_type": "code",
   "execution_count": 33,
   "id": "a2271d99-e90e-4e9c-86b7-563ffa501064",
   "metadata": {
    "tags": []
   },
   "outputs": [
    {
     "name": "stdout",
     "output_type": "stream",
     "text": [
      "[0.43163272 0.43163272 0.43163272 0.43163272 0.43163272 0.43163272\n",
      " 0.43163272 0.43163272 0.43163272 0.43163272 0.43163272 0.43163272\n",
      " 0.43163272 0.43163272 0.43163272 0.43163272 0.43163272 0.43163272\n",
      " 0.43163272 0.43163272 0.43163272 0.43163272 0.43163272 0.43163272\n",
      " 0.43163272 0.43163272 0.43163272 0.43163272 0.43163272 0.43163272\n",
      " 0.43163272 0.43163272 0.43163272 0.43163272]\n"
     ]
    }
   ],
   "source": [
    "from sklearn.dummy import DummyRegressor\n",
    "\n",
    "# cria o modelo\n",
    "modelo_baseline = DummyRegressor()\n",
    "\n",
    "# treina o modelo\n",
    "modelo_baseline.fit(X_treino, y_treino)\n",
    "\n",
    "# realiza uma previsão usando o modelo treinado\n",
    "previsao = modelo_baseline.predict(X_teste)\n",
    "print(previsao)"
   ]
  },
  {
   "cell_type": "code",
   "execution_count": 38,
   "id": "636fb456-dfc9-4e4a-b23d-c6395d9ce137",
   "metadata": {},
   "outputs": [
    {
     "name": "stdout",
     "output_type": "stream",
     "text": [
      "O RMSE do modelo baseline foi de 0.21316585607193939.\n"
     ]
    }
   ],
   "source": [
    "from sklearn.metrics import mean_squared_error\n",
    "\n",
    "y_verdadeiro = y_teste\n",
    "y_previsao = modelo_baseline.predict(X_teste)\n",
    "\n",
    "RMSE = mean_squared_error(y_verdadeiro, y_previsao, squared=False)\n",
    "\n",
    "print(f\"O RMSE do modelo baseline foi de {RMSE}.\")"
   ]
  },
  {
   "cell_type": "code",
   "execution_count": 39,
   "id": "9ce52875-2d7a-4677-8f6b-823c3dbdb742",
   "metadata": {
    "collapsed": true,
    "jupyter": {
     "outputs_hidden": true
    },
    "tags": []
   },
   "outputs": [
    {
     "name": "stdout",
     "output_type": "stream",
     "text": [
      "[[0.41312053]\n",
      " [0.44290183]\n",
      " [0.7149755 ]\n",
      " [0.29003741]\n",
      " [0.36646872]\n",
      " [0.28937356]\n",
      " [0.49473791]\n",
      " [0.47028039]\n",
      " [0.38845057]\n",
      " [0.4513166 ]\n",
      " [0.37451616]\n",
      " [0.72401495]\n",
      " [0.44002538]\n",
      " [0.37641355]\n",
      " [0.37157071]\n",
      " [0.62001027]\n",
      " [0.25759603]\n",
      " [0.61557213]\n",
      " [0.21402842]\n",
      " [0.37612637]\n",
      " [0.4694386 ]\n",
      " [0.45812116]\n",
      " [0.4023972 ]\n",
      " [0.34552452]\n",
      " [0.48537677]\n",
      " [0.52251438]\n",
      " [0.27949306]\n",
      " [0.72436179]\n",
      " [0.48468384]\n",
      " [0.54671275]\n",
      " [0.34235442]\n",
      " [0.23886156]\n",
      " [0.5325124 ]\n",
      " [0.56094368]]\n"
     ]
    }
   ],
   "source": [
    "# Modelo Linear\n",
    "\n",
    "from sklearn.linear_model import LinearRegression\n",
    "\n",
    "# cria o modelo\n",
    "modelo_linear = LinearRegression()\n",
    "\n",
    "# treina o modelo\n",
    "modelo_linear.fit(X_treino, y_treino)\n",
    "\n",
    "# realiza uma previsão usando o modelo treinado\n",
    "previsao = modelo_linear.predict(X_teste)\n",
    "print(previsao)"
   ]
  },
  {
   "cell_type": "code",
   "execution_count": 40,
   "id": "1edac85b-9fc0-4f81-97ac-f306cff3c027",
   "metadata": {},
   "outputs": [
    {
     "name": "stdout",
     "output_type": "stream",
     "text": [
      "O RMSE do modelo linear foi de 0.14895562614010924.\n"
     ]
    }
   ],
   "source": [
    "from sklearn.metrics import mean_squared_error\n",
    "\n",
    "y_verdadeiro = y_teste\n",
    "y_previsao = modelo_linear.predict(X_teste)\n",
    "\n",
    "RMSE = mean_squared_error(y_verdadeiro, y_previsao, squared=False)\n",
    "\n",
    "print(f\"O RMSE do modelo linear foi de {RMSE}.\")"
   ]
  },
  {
   "cell_type": "code",
   "execution_count": 41,
   "id": "41b54f70-cc47-438c-bc58-0a9d18a459d7",
   "metadata": {
    "collapsed": true,
    "jupyter": {
     "outputs_hidden": true
    },
    "tags": []
   },
   "outputs": [
    {
     "name": "stdout",
     "output_type": "stream",
     "text": [
      "[[0.4094545454545454]\n",
      " [0.5345454545454544]\n",
      " [0.7054545454545453]\n",
      " [0.27418181818181814]\n",
      " [0.22618181818181812]\n",
      " [0.29599999999999993]\n",
      " [0.49163636363636354]\n",
      " [0.4669090909090909]\n",
      " [0.46472727272727266]\n",
      " [0.6043636363636363]\n",
      " [0.4829090909090909]\n",
      " [0.6894545454545454]\n",
      " [0.36218181818181816]\n",
      " [0.3061818181818181]\n",
      " [0.3847272727272726]\n",
      " [0.6727272727272726]\n",
      " [0.2829090909090909]\n",
      " [0.512]\n",
      " [0.3905454545454545]\n",
      " [0.458181818181818]\n",
      " [0.49818181818181817]\n",
      " [0.46109090909090905]\n",
      " [0.5890909090909091]\n",
      " [0.2174545454545454]\n",
      " [0.4916363636363636]\n",
      " [0.5039999999999999]\n",
      " [0.28509090909090906]\n",
      " [0.6814545454545454]\n",
      " [0.4530909090909091]\n",
      " [0.5236363636363637]\n",
      " [0.25672727272727264]\n",
      " [0.25163636363636366]\n",
      " [0.6916363636363634]\n",
      " [0.5694545454545453]]\n"
     ]
    }
   ],
   "source": [
    "# Modelo através dos vizinhos mais próximos\n",
    "\n",
    "from sklearn.neighbors import KNeighborsRegressor\n",
    "\n",
    "# cria o modelo\n",
    "modelo_knn = KNeighborsRegressor()\n",
    "\n",
    "# treina o modelo\n",
    "modelo_knn.fit(X_treino, y_treino)\n",
    "\n",
    "# realiza uma previsão usando o modelo treinado\n",
    "previsao = modelo_knn.predict(X_teste)\n",
    "print(previsao)"
   ]
  },
  {
   "cell_type": "code",
   "execution_count": 43,
   "id": "4a9f5cb3-a0a2-4a22-b971-b59bc8364722",
   "metadata": {},
   "outputs": [
    {
     "name": "stdout",
     "output_type": "stream",
     "text": [
      "O RMSE do modelo k-NN foi de 0.18059270428786128.\n"
     ]
    }
   ],
   "source": [
    "from sklearn.metrics import mean_squared_error\n",
    "\n",
    "y_verdadeiro = y_teste\n",
    "y_previsao = modelo_knn.predict(X_teste)\n",
    "\n",
    "RMSE = mean_squared_error(y_verdadeiro, y_previsao, squared=False)\n",
    "\n",
    "print(f\"O RMSE do modelo k-NN foi de {RMSE}.\")"
   ]
  },
  {
   "cell_type": "code",
   "execution_count": 54,
   "id": "b4e054b9-8f35-45cf-9eae-2ef0a7cf3466",
   "metadata": {},
   "outputs": [
    {
     "name": "stdout",
     "output_type": "stream",
     "text": [
      "O RMSE do modelo k-NN usando k=10 foi de 0.1546989234854736.\n",
      "O RMSE do modelo k-NN usando k=50 foi de 0.1501058211723644.\n",
      "O RMSE do modelo k-NN usando k=100 foi de 0.16585549127595367.\n"
     ]
    }
   ],
   "source": [
    "NUM_VIZINHOS = [10, 50, 100]\n",
    "\n",
    "for n in NUM_VIZINHOS:\n",
    "    modelo_knn = KNeighborsRegressor(n_neighbors=n)\n",
    "\n",
    "    modelo_knn.fit(X_treino, y_treino)\n",
    "\n",
    "    y_verdadeiro = y_teste\n",
    "    y_previsao = modelo_knn.predict(X_teste)\n",
    "    RMSE = mean_squared_error(y_verdadeiro, y_previsao, squared=False)\n",
    "    print(f\"O RMSE do modelo k-NN usando k={n} foi de {RMSE}.\")"
   ]
  },
  {
   "cell_type": "markdown",
   "id": "14ec765a-9f7d-4eaa-97a2-89adb2c05688",
   "metadata": {
    "tags": []
   },
   "source": [
    "# Referências:\n",
    "   \n",
    "    [1] Horst AM, Hill AP, Gorman KB (2020). palmerpenguins: Palmer\n",
    "    Archipelago (Antarctica) penguin data. R package version 0.1.0.\n",
    "    https://allisonhorst.github.io/palmerpenguins/. doi:\n",
    "    10.5281/zenodo.3960218.\n",
    "    \n",
    "    [2] How to Calculate Skewness and Kurtosis in Python? (2022,\n",
    "    february 17). GeeksforGeeks.\n",
    "    https://www.geeksforgeeks.org/how-to-calculate-skewness-and-kurtosis-in-python/\n",
    "\n",
    "    [3] Using Statistics: Understand Population Distributions. (2014, julho 21).\n",
    "    Analytics Vidhya. https://www.analyticsvidhya.com/blog/2014/07/statistics/\n"
   ]
  }
 ],
 "metadata": {
  "kernelspec": {
   "display_name": "ilumpy",
   "language": "python",
   "name": "ilumpy"
  },
  "language_info": {
   "codemirror_mode": {
    "name": "ipython",
    "version": 3
   },
   "file_extension": ".py",
   "mimetype": "text/x-python",
   "name": "python",
   "nbconvert_exporter": "python",
   "pygments_lexer": "ipython3",
   "version": "3.9.7"
  }
 },
 "nbformat": 4,
 "nbformat_minor": 5
}
