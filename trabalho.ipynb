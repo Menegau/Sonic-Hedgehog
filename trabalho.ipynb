{
 "cells": [
  {
   "cell_type": "markdown",
   "id": "c9d380ad-af2a-4cdb-a9e4-f6998ddb8677",
   "metadata": {},
   "source": [
    "O target numérico é a largura do bico, que será prevista a partir de parâmetros como a profundidade desse bico, massa corporal, etc. O target categórico pode ser a espécie do pinguim."
   ]
  },
  {
   "cell_type": "code",
   "execution_count": 1,
   "id": "80940ace-337c-4e9a-a328-9f0c848bf765",
   "metadata": {
    "tags": []
   },
   "outputs": [
    {
     "name": "stdout",
     "output_type": "stream",
     "text": [
      "species               object\n",
      "island                object\n",
      "bill_length_mm       float64\n",
      "bill_depth_mm        float64\n",
      "flipper_length_mm    float64\n",
      "body_mass_g          float64\n",
      "sex                   object\n",
      "dtype: object\n"
     ]
    }
   ],
   "source": [
    "import seaborn as sns\n",
    "\n",
    "df = sns.load_dataset('penguins')\n",
    "print(df.dtypes)\n",
    "#print(df)"
   ]
  },
  {
   "cell_type": "code",
   "execution_count": 2,
   "id": "a90384d2-1fc2-402f-b5c0-9ca42842ecc0",
   "metadata": {
    "tags": []
   },
   "outputs": [
    {
     "name": "stdout",
     "output_type": "stream",
     "text": [
      "species               string\n",
      "island                string\n",
      "bill_length_mm       Float64\n",
      "bill_depth_mm        Float64\n",
      "flipper_length_mm      Int64\n",
      "body_mass_g            Int64\n",
      "sex                   string\n",
      "dtype: object\n"
     ]
    }
   ],
   "source": [
    "# Converte os dados\n",
    "df = df.convert_dtypes() \n",
    "print(df.dtypes)\n",
    "#print(df)"
   ]
  },
  {
   "cell_type": "code",
   "execution_count": 3,
   "id": "7b33e892-80ee-4183-93e1-81645e8f7ca8",
   "metadata": {
    "tags": []
   },
   "outputs": [],
   "source": [
    "# Elimina as linhas que possuem lacunas sem dados\n",
    "dfcopia = df.copy()\n",
    "dfcopia = dfcopia.dropna(axis=0)\n",
    "#print(dfcopia)\n"
   ]
  },
  {
   "cell_type": "code",
   "execution_count": 4,
   "id": "6e3a7aa6-c324-4ed0-b31e-5c2d5b9b9663",
   "metadata": {},
   "outputs": [],
   "source": [
    "# Cria um dataset somente com os features numéricos\n",
    "features_numericos = [\"bill_length_mm\",\"bill_depth_mm\", \"flipper_length_mm\", \"body_mass_g\"]\n",
    "df_numericos = dfcopia[features_numericos]"
   ]
  },
  {
   "cell_type": "code",
   "execution_count": 5,
   "id": "23e7ab56-ded7-4822-9f9c-bd945ca87178",
   "metadata": {},
   "outputs": [
    {
     "name": "stdout",
     "output_type": "stream",
     "text": [
      "     bill_length_mm  bill_depth_mm  flipper_length_mm  body_mass_g\n",
      "0              39.1           18.7                181         3750\n",
      "1              39.5           17.4                186         3800\n",
      "2              40.3           18.0                195         3250\n",
      "4              36.7           19.3                193         3450\n",
      "5              39.3           20.6                190         3650\n",
      "..              ...            ...                ...          ...\n",
      "338            47.2           13.7                214         4925\n",
      "340            46.8           14.3                215         4850\n",
      "341            50.4           15.7                222         5750\n",
      "342            45.2           14.8                212         5200\n",
      "343            49.9           16.1                213         5400\n",
      "\n",
      "[333 rows x 4 columns]\n"
     ]
    }
   ],
   "source": [
    "print(df_numericos)"
   ]
  },
  {
   "cell_type": "code",
   "execution_count": 25,
   "id": "79b68293-b890-4997-9e72-2fac74e388d0",
   "metadata": {},
   "outputs": [
    {
     "name": "stdout",
     "output_type": "stream",
     "text": [
      "     bill_length_norm  bill_depth_norm  flipper_length_norm  body_mass_norm\n",
      "0            0.254545         0.666667             0.152542        0.291667\n",
      "1            0.269091         0.511905             0.237288        0.305556\n",
      "2            0.298182         0.583333             0.389831        0.152778\n",
      "4            0.167273         0.738095             0.355932        0.208333\n",
      "5            0.261818         0.892857             0.305085        0.263889\n",
      "..                ...              ...                  ...             ...\n",
      "338          0.549091         0.071429             0.711864        0.618056\n",
      "340          0.534545         0.142857             0.728814        0.597222\n",
      "341          0.665455         0.309524             0.847458        0.847222\n",
      "342          0.476364         0.202381             0.677966        0.694444\n",
      "343          0.647273         0.357143             0.694915            0.75\n",
      "\n",
      "[333 rows x 4 columns]\n"
     ]
    }
   ],
   "source": [
    "df_normalizado = df_numericos.copy()\n",
    "#print(df_normalizado)\n",
    "\n",
    "#normalizando coluna por coluna com o método de mínimo e máximo\n",
    "#primeira coluna (comprimento do bico)\n",
    "maximo_bill_length = df_normalizado['bill_length_mm'].max()\n",
    "minimo_bill_length = df_normalizado['bill_length_mm'].min()\n",
    "\n",
    "df_normalizado['bill_length_norm'] = (df_normalizado['bill_length_mm'] - minimo_bill_length) / (maximo_bill_length - minimo_bill_length)\n",
    "\n",
    "#segunda coluna (profundidade do bico)\n",
    "maximo_bill_depth = df_normalizado['bill_depth_mm'].max()\n",
    "minimo_bill_depth = df_normalizado['bill_depth_mm'].min()\n",
    "\n",
    "df_normalizado['bill_depth_norm'] = (df_normalizado['bill_depth_mm'] - minimo_bill_depth) / (maximo_bill_depth - minimo_bill_depth)\n",
    "\n",
    "#terceira coluna (envergadura das nadadeiras)\n",
    "maximo_flipper_length = df_normalizado['flipper_length_mm'].max()\n",
    "minimo_flipper_length = df_normalizado['flipper_length_mm'].min()\n",
    "\n",
    "df_normalizado['flipper_length_norm'] = (df_normalizado['flipper_length_mm'] - minimo_flipper_length) / (maximo_flipper_length - minimo_flipper_length)\n",
    "\n",
    "#quarta coluna (peso corporal)\n",
    "maximo_body_mass = df_normalizado['body_mass_g'].max()\n",
    "minimo_body_mass = df_normalizado['body_mass_g'].min()\n",
    "\n",
    "df_normalizado['body_mass_norm'] = (df_normalizado['body_mass_g'] - minimo_body_mass) / (maximo_body_mass - minimo_body_mass)\n",
    "#print(df_normalizado)\n",
    "\n",
    "#criando um novo dataframe só com os dados normalizados.\n",
    "df_normalizado2 = df_normalizado.reindex([\"bill_length_norm\",\"bill_depth_norm\",\"flipper_length_norm\",\"body_mass_norm\"],axis=1)\n",
    "print(df_normalizado2)"
   ]
  },
  {
   "cell_type": "code",
   "execution_count": null,
   "id": "d40b069d-4ed6-4cf3-8356-8d95b5c14c21",
   "metadata": {},
   "outputs": [],
   "source": []
  },
  {
   "cell_type": "code",
   "execution_count": null,
   "id": "161d7129-ada6-4232-81d0-d2aeede283f4",
   "metadata": {},
   "outputs": [],
   "source": []
  },
  {
   "cell_type": "code",
   "execution_count": null,
   "id": "c446f882-9612-44fa-b909-e951a4d80edc",
   "metadata": {},
   "outputs": [],
   "source": []
  },
  {
   "cell_type": "code",
   "execution_count": null,
   "id": "2cc7df97-36f8-492f-99af-a8d78642869d",
   "metadata": {},
   "outputs": [],
   "source": []
  }
 ],
 "metadata": {
  "kernelspec": {
   "display_name": "ilumpy",
   "language": "python",
   "name": "ilumpy"
  },
  "language_info": {
   "codemirror_mode": {
    "name": "ipython",
    "version": 3
   },
   "file_extension": ".py",
   "mimetype": "text/x-python",
   "name": "python",
   "nbconvert_exporter": "python",
   "pygments_lexer": "ipython3",
   "version": "3.9.7"
  }
 },
 "nbformat": 4,
 "nbformat_minor": 5
}
