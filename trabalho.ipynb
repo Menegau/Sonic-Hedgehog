{
 "cells": [
  {
   "cell_type": "markdown",
   "id": "c9d380ad-af2a-4cdb-a9e4-f6998ddb8677",
   "metadata": {},
   "source": [
    "# Aprendizado de Máquina - Atividade do primeiro semestre\n",
    "### Bloco 1\n",
    "\n",
    "O target numérico é o comprimento do bico, que será prevista a partir de parâmetros como a profundidade desse bico, massa corporal, etc. Um futuro target categórico pode ser a espécie do pinguim."
   ]
  },
  {
   "cell_type": "code",
   "execution_count": 1,
   "id": "80940ace-337c-4e9a-a328-9f0c848bf765",
   "metadata": {
    "tags": []
   },
   "outputs": [
    {
     "name": "stdout",
     "output_type": "stream",
     "text": [
      "species               object\n",
      "island                object\n",
      "bill_length_mm       float64\n",
      "bill_depth_mm        float64\n",
      "flipper_length_mm    float64\n",
      "body_mass_g          float64\n",
      "sex                   object\n",
      "dtype: object\n"
     ]
    }
   ],
   "source": [
    "import seaborn as sns\n",
    "\n",
    "df = sns.load_dataset('penguins')\n",
    "print(df.dtypes)\n",
    "#print(df)"
   ]
  },
  {
   "cell_type": "code",
   "execution_count": 2,
   "id": "4aba4303-a0de-4fe6-aa02-84a330c51e8c",
   "metadata": {},
   "outputs": [],
   "source": [
    "# importa a biblioteca para plotar os gráficos\n",
    "import matplotlib.pyplot as plt"
   ]
  },
  {
   "cell_type": "code",
   "execution_count": 3,
   "id": "a90384d2-1fc2-402f-b5c0-9ca42842ecc0",
   "metadata": {
    "tags": []
   },
   "outputs": [
    {
     "name": "stdout",
     "output_type": "stream",
     "text": [
      "species               string\n",
      "island                string\n",
      "bill_length_mm       Float64\n",
      "bill_depth_mm        Float64\n",
      "flipper_length_mm      Int64\n",
      "body_mass_g            Int64\n",
      "sex                   string\n",
      "dtype: object\n"
     ]
    }
   ],
   "source": [
    "# Converte os dados\n",
    "df = df.convert_dtypes() \n",
    "print(df.dtypes)\n",
    "#print(df)"
   ]
  },
  {
   "cell_type": "code",
   "execution_count": 4,
   "id": "7b33e892-80ee-4183-93e1-81645e8f7ca8",
   "metadata": {
    "tags": []
   },
   "outputs": [],
   "source": [
    "# Elimina as linhas que possuem lacunas sem dados\n",
    "dfcopia = df.copy()\n",
    "dfcopia = dfcopia.dropna(axis=0)\n",
    "\n",
    "#print(dfcopia)\n"
   ]
  },
  {
   "cell_type": "code",
   "execution_count": 5,
   "id": "6e3a7aa6-c324-4ed0-b31e-5c2d5b9b9663",
   "metadata": {},
   "outputs": [
    {
     "name": "stdout",
     "output_type": "stream",
     "text": [
      "     bill_length_mm  bill_depth_mm  flipper_length_mm  body_mass_g\n",
      "0              39.1           18.7                181         3750\n",
      "1              39.5           17.4                186         3800\n",
      "2              40.3           18.0                195         3250\n",
      "4              36.7           19.3                193         3450\n",
      "5              39.3           20.6                190         3650\n",
      "..              ...            ...                ...          ...\n",
      "338            47.2           13.7                214         4925\n",
      "340            46.8           14.3                215         4850\n",
      "341            50.4           15.7                222         5750\n",
      "342            45.2           14.8                212         5200\n",
      "343            49.9           16.1                213         5400\n",
      "\n",
      "[333 rows x 4 columns]\n"
     ]
    }
   ],
   "source": [
    "# Cria um dataset somente com os features numéricos\n",
    "features_numericos = [\"bill_length_mm\",\"bill_depth_mm\", \"flipper_length_mm\", \"body_mass_g\"]\n",
    "df_numericos = dfcopia[features_numericos]\n",
    "\n",
    "print(df_numericos)"
   ]
  },
  {
   "cell_type": "code",
   "execution_count": 6,
   "id": "79b68293-b890-4997-9e72-2fac74e388d0",
   "metadata": {},
   "outputs": [
    {
     "name": "stdout",
     "output_type": "stream",
     "text": [
      "     bill_length_norm  bill_depth_norm  flipper_length_norm  body_mass_norm\n",
      "0            0.254545         0.666667             0.152542        0.291667\n",
      "1            0.269091         0.511905             0.237288        0.305556\n",
      "2            0.298182         0.583333             0.389831        0.152778\n",
      "4            0.167273         0.738095             0.355932        0.208333\n",
      "5            0.261818         0.892857             0.305085        0.263889\n",
      "..                ...              ...                  ...             ...\n",
      "338          0.549091         0.071429             0.711864        0.618056\n",
      "340          0.534545         0.142857             0.728814        0.597222\n",
      "341          0.665455         0.309524             0.847458        0.847222\n",
      "342          0.476364         0.202381             0.677966        0.694444\n",
      "343          0.647273         0.357143             0.694915            0.75\n",
      "\n",
      "[333 rows x 4 columns]\n"
     ]
    }
   ],
   "source": [
    "df_normalizado = df_numericos.copy()\n",
    "\n",
    "#normalizando coluna por coluna com o método de mínimo e máximo:\n",
    "\n",
    "#primeira coluna (comprimento do bico)\n",
    "maximo_bill_length = df_normalizado['bill_length_mm'].max()\n",
    "minimo_bill_length = df_normalizado['bill_length_mm'].min()\n",
    "\n",
    "df_normalizado['bill_length_norm'] = (df_normalizado['bill_length_mm'] - minimo_bill_length) / (maximo_bill_length - minimo_bill_length)\n",
    "\n",
    "#segunda coluna (profundidade do bico)\n",
    "maximo_bill_depth = df_normalizado['bill_depth_mm'].max()\n",
    "minimo_bill_depth = df_normalizado['bill_depth_mm'].min()\n",
    "\n",
    "df_normalizado['bill_depth_norm'] = (df_normalizado['bill_depth_mm'] - minimo_bill_depth) / (maximo_bill_depth - minimo_bill_depth)\n",
    "\n",
    "#terceira coluna (envergadura das nadadeiras)\n",
    "maximo_flipper_length = df_normalizado['flipper_length_mm'].max()\n",
    "minimo_flipper_length = df_normalizado['flipper_length_mm'].min()\n",
    "\n",
    "df_normalizado['flipper_length_norm'] = (df_normalizado['flipper_length_mm'] - minimo_flipper_length) / (maximo_flipper_length - minimo_flipper_length)\n",
    "\n",
    "#quarta coluna (peso corporal)\n",
    "maximo_body_mass = df_normalizado['body_mass_g'].max()\n",
    "minimo_body_mass = df_normalizado['body_mass_g'].min()\n",
    "\n",
    "df_normalizado['body_mass_norm'] = (df_normalizado['body_mass_g'] - minimo_body_mass) / (maximo_body_mass - minimo_body_mass)\n",
    "#print(df_normalizado)\n",
    "\n",
    "#criando um novo dataframe só com os dados normalizados.\n",
    "df_normalizado2 = df_normalizado.reindex([\"bill_length_norm\",\"bill_depth_norm\",\"flipper_length_norm\",\"body_mass_norm\"],axis=1)\n",
    "\n",
    "print(df_normalizado2)"
   ]
  },
  {
   "cell_type": "code",
   "execution_count": 7,
   "id": "2cc7df97-36f8-492f-99af-a8d78642869d",
   "metadata": {},
   "outputs": [
    {
     "name": "stdout",
     "output_type": "stream",
     "text": [
      "(333, 4)\n",
      "Int64Index([  0,   1,   2,   4,   5,   6,   7,  12,  13,  14,\n",
      "            ...\n",
      "            332, 333, 334, 335, 337, 338, 340, 341, 342, 343],\n",
      "           dtype='int64', length=333)\n"
     ]
    }
   ],
   "source": [
    "# análises exploratória e estatística dos dados:\n",
    "\n",
    "print(df_normalizado2.shape) # checando o tamanho do dataframe (333 linhas e 4 colunas)\n",
    "print(df_normalizado2.index) # nota-se que o index não está ordenado, apresentando lacunas."
   ]
  },
  {
   "cell_type": "code",
   "execution_count": 8,
   "id": "af5914fa-fa7d-4f44-8b25-f54ad3b9eaff",
   "metadata": {},
   "outputs": [],
   "source": [
    "# para resolver esse problema, utiliza-se o método reset_index:\n",
    "df_arrumado = df_normalizado2.reset_index(drop=True) # no qual drop=True significa que a nova coluna index irá substituir a anterior completamente,\n",
    "# ao invés de apenas ser acrescentada como mais uma coluna."
   ]
  },
  {
   "cell_type": "code",
   "execution_count": 9,
   "id": "f2009ca1-9454-43ea-aa94-1d985b6cd432",
   "metadata": {},
   "outputs": [
    {
     "name": "stdout",
     "output_type": "stream",
     "text": [
      "RangeIndex(start=0, stop=333, step=1)\n",
      "     bill_length_norm  bill_depth_norm  flipper_length_norm  body_mass_norm\n",
      "0            0.254545         0.666667             0.152542        0.291667\n",
      "1            0.269091         0.511905             0.237288        0.305556\n",
      "2            0.298182         0.583333             0.389831        0.152778\n",
      "3            0.167273         0.738095             0.355932        0.208333\n",
      "4            0.261818         0.892857             0.305085        0.263889\n",
      "..                ...              ...                  ...             ...\n",
      "328          0.549091         0.071429             0.711864        0.618056\n",
      "329          0.534545         0.142857             0.728814        0.597222\n",
      "330          0.665455         0.309524             0.847458        0.847222\n",
      "331          0.476364         0.202381             0.677966        0.694444\n",
      "332          0.647273         0.357143             0.694915            0.75\n",
      "\n",
      "[333 rows x 4 columns]\n"
     ]
    }
   ],
   "source": [
    "print(df_arrumado.index) # checando se o método funcionou\n",
    "print(df_arrumado) # :) funcionou"
   ]
  },
  {
   "cell_type": "code",
   "execution_count": 10,
   "id": "fdcd74c1-11b1-48c1-91fe-00e5399d15d2",
   "metadata": {},
   "outputs": [
    {
     "name": "stdout",
     "output_type": "stream",
     "text": [
      "Index(['bill_length_norm', 'bill_depth_norm', 'flipper_length_norm',\n",
      "       'body_mass_norm'],\n",
      "      dtype='object')\n"
     ]
    }
   ],
   "source": [
    "print(df_arrumado.columns) # conferindo as colunas:"
   ]
  },
  {
   "cell_type": "markdown",
   "id": "c9ae1fba-72da-42d5-b424-9b4e4062b210",
   "metadata": {},
   "source": [
    "<br>\n",
    "\n",
    "A coluna `bill_length_norm` representa os valores normalizados do comprimento de bico de cada pinguim (*os valores originais em mm podem ser encontrados na coluna `bill_length_mm` do dataframe `df_numericos`, que contém todos os valores originais*), enquanto `bill_depth_norm`, os valores normalizados da sua altura (*valores originais na coluna `bill_depth_mm` do outro dataframe*). Abaixo, encontra-se uma imagem para melhor entendimento desses atributos:\n",
    "<center><img src=\"https://allisonhorst.github.io/palmerpenguins/reference/figures/culmen_depth.png\" width=50% height=auto>\n",
    "<figcaption>Fonte: https://allisonhorst.github.io/palmerpenguins/\n",
    "<br><br>\n",
    "    \n",
    "Da mesma maneira, `flipper_length_norm` consiste nos valores normalizados do comprimento das nadadeiras (*podendo ser encontrado em mm no atributo `flipper_length_mm` do dataframe numérico*). Por fim, `body_mass_norm` contém os valores normalizados de massa corporal (no caso, o peso) de cada pinguim (*seus valores em gramas estão em `body_mass_g`*)."
   ]
  },
  {
   "cell_type": "code",
   "execution_count": 11,
   "id": "7466fa4f-3cec-40ab-b1ac-bb0dc7e1c539",
   "metadata": {},
   "outputs": [
    {
     "name": "stdout",
     "output_type": "stream",
     "text": [
      "bill_length_norm       Float64\n",
      "bill_depth_norm        Float64\n",
      "flipper_length_norm    Float64\n",
      "body_mass_norm         Float64\n",
      "dtype: object\n"
     ]
    }
   ],
   "source": [
    "print(df_arrumado.dtypes) # apenas conferindo os tipos novamente"
   ]
  },
  {
   "cell_type": "code",
   "execution_count": 12,
   "id": "6dc8ad8b-89d0-4d1f-85be-42b16677393f",
   "metadata": {},
   "outputs": [
    {
     "name": "stdout",
     "output_type": "stream",
     "text": [
      "       bill_length_norm  bill_depth_norm  flipper_length_norm  body_mass_norm\n",
      "count        333.000000       333.000000           333.000000      333.000000\n",
      "mean           0.432465         0.483912             0.490966        0.418627\n",
      "std            0.198861         0.234433             0.237555        0.223671\n",
      "min            0.000000         0.000000             0.000000        0.000000\n",
      "25%            0.269091         0.297619             0.305085        0.236111\n",
      "50%            0.450909         0.500000             0.423729        0.375000\n",
      "75%            0.600000         0.666667             0.694915        0.576389\n",
      "max            1.000000         1.000000             1.000000        1.000000\n"
     ]
    }
   ],
   "source": [
    "# análise geral:\n",
    "\n",
    "print(df_arrumado.describe())"
   ]
  },
  {
   "cell_type": "markdown",
   "id": "ad3c3c55-f0a3-4dee-86f3-712ee2f5c38e",
   "metadata": {},
   "source": [
    "<br>\n",
    "\n",
    "A partir dos dados acima pode-se observar que existem 333 linhas (cada uma com os dados de um pinguim diferente) presentes no dataframe `df_arrumado`. A média aritmética desses 333 valores - que já estão normalizados pelo método de máximo e mínimo, estando sempre entre 0 e 1 - para cada feature, está indicada na linha `mean`. Vê-se que nenhuma das médias atinge ou passa o 0.5 (apesar de `flipper_length_norm` chegar próximo), indicando uma maioria de valores menores que a média do maior e menor número, e valores altos mais escarços e com maior diferença entre si. Já a linha `std`, do inglês *standart deviation*, indica o desvio padrão de cada atributo. Estes valores, por sua vez, se encontram próximos a 0.2, nunca ultrapassando 0.25. Pode-se afirmar também que o atributo mais estável (e, portanto, com menor desvio padrão) é a medida que representa o comprimento do bico.\n",
    "\n",
    "Em seguida, observa-se o valor mínimo e máximo, a mediana, e mais dois pontos entre eles (os pontos 25% e 75%) referentes a cada atributo do dataframe. Para melhor compreender o significado desses valores, pode-se imaginar uma lista com todos os valores de um atributo, ordenados de maneira crescente: assim, o valor mínimo representa o primeiro item da lista (no python, index 0); o máximo, o último (index 332 para a nossa de lista de 333 pinguins); o ponto de 50%, também chamado de mediana, está na posição que divide a lista na metade (para 33 valores, seria o de index 166); o de 25% se encontra na posição de número correspondente a 25% do tamanho total da lista (no nosso caso, index 83); por fim, o ponto de 75% representa o valor na posição de 75% do total (index 249).\n",
    "Na célula de código abaixo, pode-se ver esse processo sendo feito manualmente para melhor entendimento, usando como exemplo o atributo `bill_length_norm`:"
   ]
  },
  {
   "cell_type": "code",
   "execution_count": 13,
   "id": "6c6074cc-68e6-436b-ab80-6d1107280305",
   "metadata": {
    "tags": []
   },
   "outputs": [
    {
     "name": "stdout",
     "output_type": "stream",
     "text": [
      "min: 0.0\n",
      "25%: 0.269091\n",
      "50%: 0.450909\n",
      "75%: 0.6\n",
      "max: 1.0\n"
     ]
    }
   ],
   "source": [
    "lista_exemplo = list(df_arrumado[\"bill_length_norm\"]) # cria uma lista a partir de todos os valores dentro de bill_length_norm\n",
    "lista_exemplo.sort() # arruma a lista em ordem crescente\n",
    "print(f\"min: {round(lista_exemplo[0],6)}\",\n",
    "      f\"25%: {round(lista_exemplo[83],6)}\",\n",
    "      f\"50%: {round(lista_exemplo[166],6)}\",\n",
    "      f\"75%: {round(lista_exemplo[249],6)}\",\n",
    "      f\"max: {round(lista_exemplo[332],6)}\",\n",
    "     sep=\"\\n\")\n",
    "# o código acima exibe a legenda com seus respectivos valores, retirados da lista ordenada e arredondados até a 6ª casa decimal\n",
    "# observa-se que os valores exibidos são idênticos aos apresentados anteriormente pela função describe()"
   ]
  },
  {
   "cell_type": "code",
   "execution_count": 14,
   "id": "92dbbd00-8dc0-40e5-9352-a7870a60bec0",
   "metadata": {},
   "outputs": [
    {
     "name": "stdout",
     "output_type": "stream",
     "text": [
      "--------- obliquidade:---------\n",
      "bill_length_norm       0.045340\n",
      "bill_depth_norm       -0.149720\n",
      "flipper_length_norm    0.360148\n",
      "body_mass_norm         0.472246\n",
      "dtype: float64\n",
      "\n",
      "----------- curtose:-----------\n",
      "bill_length_norm      -0.883418\n",
      "bill_depth_norm       -0.891960\n",
      "flipper_length_norm   -0.961241\n",
      "body_mass_norm        -0.733489\n",
      "dtype: float64\n"
     ]
    }
   ],
   "source": [
    "# a seguir, se encontra o cálculo e os valores de obliquidade (skewness)\n",
    "# e curtose (kurtosis) para cada feature do dataframe\n",
    "print(\"--------- obliquidade:---------\")\n",
    "print(df_arrumado.skew())\n",
    "print()\n",
    "print(\"----------- curtose:-----------\")\n",
    "print(df_arrumado.kurt())"
   ]
  },
  {
   "cell_type": "markdown",
   "id": "dc021528-04d2-40de-9dfd-42eecfdf2869",
   "metadata": {},
   "source": [
    "<br>\n",
    "\n",
    "Obliquidade e curtose são termos estatísticos, sendo que o primeira estima o formato de uma distribuição, sendo um método importante para categorizar comportamentos assimétricos. Já a curtose, por sua vez, determina se uma distribuição possui \"cauda pesada\" (*heavy-tailed*) quando comparada à distribuição normal. A imagem abaixo representa melhor o que ambas as funções representam em termos gráficos:\n",
    "<center><img src=\"https://www.analyticsvidhya.com/wp-content/uploads/2014/07/skewness-and-kurtosis.gif\" width=50% height=auto>\n",
    "<figcaption>Fonte: https://www.analyticsvidhya.com/blog/2014/07/statistics/\n",
    "<br><br>\n",
    "\n",
    "A obliquidade não é nula em nenhum dos atributos acima; portanto, os dados se apresentam como assimétricos quando comparamos a primeira metade à segunda. Interpretando graficamente, as features que apresentam obliquidade positiva (comprimento do bico, das nadadeiras e massa corporal) possuem mais peso do lado esquerdo da distribuição; ou seja, os valores tendem a ser menores. A altura do bico (`bill_depth_norm`), no entanto, possui obliquidade negativa; apresentando, portanto, valores com tendência a serem maiores. Isso poderá ser melhor observado futuramente, na plotagem dos gráficos.\n",
    "    \n",
    "A curtose calculada para as features se apresentou negativa em todos os casos; isso significa que, em uma representação gráfica, a curva que descreve os valores é platicúrtica: possui um topo menos elevado, sendo mais plana que uma distribuição normal."
   ]
  },
  {
   "cell_type": "markdown",
   "id": "d727938c-2014-4bc0-bab5-50ecb936d062",
   "metadata": {},
   "source": [
    "### Gráficos\n",
    "A seguir foram plotados dois tipos de gráficos, um histograma e um de *scattering*. Foram feitos dois de cada a fim de comparar o data frame normalizado em relação à sua versão final (arrumado). \n",
    "Através do gráfico de *scattering*, podemos observar se há alguma relação entre determinadas colunas dos nossos dados. Assim como dito no começo do arquivo, o target é a largura do bico, a qual será relacionada/prevista por meio dos outros parâmetros."
   ]
  },
  {
   "cell_type": "code",
   "execution_count": 15,
   "id": "1541654a-67b5-47c6-b424-3000c086e057",
   "metadata": {},
   "outputs": [
    {
     "data": {
      "text/plain": [
       "<AxesSubplot:ylabel='Frequency'>"
      ]
     },
     "execution_count": 15,
     "metadata": {},
     "output_type": "execute_result"
    },
    {
     "data": {
      "image/png": "[encoded data removed]",
      "text/plain": [
       "<Figure size 432x288 with 1 Axes>"
      ]
     },
     "metadata": {
      "needs_background": "light"
     },
     "output_type": "display_data"
    }
   ],
   "source": [
    "df_normalizado2.bill_length_norm.plot(kind='hist')"
   ]
  },
  {
   "cell_type": "code",
   "execution_count": 16,
   "id": "bd94703d-029f-46e2-9f79-395189353e78",
   "metadata": {},
   "outputs": [
    {
     "data": {
      "text/plain": [
       "<AxesSubplot:ylabel='Frequency'>"
      ]
     },
     "execution_count": 16,
     "metadata": {},
     "output_type": "execute_result"
    },
    {
     "data": {
      "image/png": "[encoded data removed]",
      "text/plain": [
       "<Figure size 432x288 with 1 Axes>"
      ]
     },
     "metadata": {
      "needs_background": "light"
     },
     "output_type": "display_data"
    }
   ],
   "source": [
    "df_arrumado.bill_length_norm.plot(kind = 'hist')"
   ]
  },
  {
   "cell_type": "code",
   "execution_count": 17,
   "id": "3415d5ad-5f24-4580-abc0-7ba4d004a27c",
   "metadata": {},
   "outputs": [
    {
     "data": {
      "image/png": "[encoded data removed]",
      "text/plain": [
       "<Figure size 432x288 with 1 Axes>"
      ]
     },
     "metadata": {
      "needs_background": "light"
     },
     "output_type": "display_data"
    }
   ],
   "source": [
    "ax1 = df_normalizado2.plot(kind='scatter', x=\"bill_length_norm\", y=\"body_mass_norm\", color='Red', label=\"Largura do Bico\")\n",
    "ax2 = df_normalizado2.plot(kind='scatter', x=\"bill_length_norm\", y=\"bill_depth_norm\", color='Green', label=\"Massa corporal\", ax=ax1)\n",
    "ax3 = df_normalizado2.plot(kind='scatter', x=\"bill_length_norm\", y=\"flipper_length_norm\", color='Blue', label=\"Largura da Nadadeira\", ax=ax2)\n",
    "plt.xlabel('Largura do Bico')\n",
    "plt.ylabel('Massa corporal/Largura da Nadadeira')\n",
    "plt.show()"
   ]
  },
  {
   "cell_type": "code",
   "execution_count": 18,
   "id": "b81f415c-9a07-44a8-b6dc-6d201307ecd8",
   "metadata": {
    "tags": []
   },
   "outputs": [
    {
     "data": {
      "image/png": "[encoded data removed]",
      "text/plain": [
       "<Figure size 432x288 with 1 Axes>"
      ]
     },
     "metadata": {
      "needs_background": "light"
     },
     "output_type": "display_data"
    }
   ],
   "source": [
    "ax1 = df_arrumado.plot(kind='scatter', x=\"bill_length_norm\", y=\"body_mass_norm\", color='Red', label=\"Largura do Bico\")\n",
    "ax2 = df_arrumado.plot(kind='scatter', x=\"bill_length_norm\", y=\"bill_depth_norm\", color='Green', label=\"Massa corporal\", ax=ax1)\n",
    "ax3 = df_arrumado.plot(kind='scatter', x=\"bill_length_norm\", y=\"flipper_length_norm\", color='Blue', label=\"Largura da Nadadeira\", ax=ax2)\n",
    "plt.xlabel('Largura do Bico')\n",
    "plt.ylabel('Massa corporal/Largura da Nadadeira')\n",
    "plt.show()"
   ]
  },
  {
   "cell_type": "markdown",
   "id": "6e2411ef-8391-4b5a-b6d9-6bc7034045a6",
   "metadata": {},
   "source": [
    "## Separação dos dados de treino e teste"
   ]
  },
  {
   "cell_type": "code",
   "execution_count": 31,
   "id": "0f759652-453b-4f9f-882f-92242bf0ef6d",
   "metadata": {
    "tags": []
   },
   "outputs": [],
   "source": [
    "import seaborn as sns\n",
    "from sklearn.model_selection import train_test_split\n",
    "\n",
    "TAMANHO_TESTE = 0.1\n",
    "SEMENTE_ALEATORIA = 61454\n",
    "FEATURES = [\"bill_depth_norm\", \"flipper_length_norm\", \"body_mass_norm\"]\n",
    "TARGET = [\"bill_length_norm\"]\n",
    "\n",
    "df = df_arrumado\n",
    "\n",
    "indices = df.index\n",
    "indices_treino, indices_teste = train_test_split(\n",
    "    indices, test_size=TAMANHO_TESTE, random_state=SEMENTE_ALEATORIA\n",
    ")\n",
    "\n",
    "df_treino = df.loc[indices_treino]\n",
    "df_teste = df.loc[indices_teste]\n",
    "\n",
    "\n",
    "X_treino = df_treino.reindex(FEATURES, axis=1).values\n",
    "y_treino = df_treino.reindex(TARGET, axis=1).values\n",
    "X_teste = df_teste.reindex(FEATURES, axis=1).values\n",
    "y_teste = df_teste.reindex(TARGET, axis=1).values\n",
    "#print(df_teste)"
   ]
  },
  {
   "cell_type": "markdown",
   "id": "66fec6ac-17eb-4f0f-beee-f7e61554eaac",
   "metadata": {},
   "source": [
    "Na célula acima, foram definidos os dados que serão utilizados tanto para teste, quanto para treino, a partir de uma semente fixa. Dessa forma, há maior facilidade ao se trabalhar com os dados, pois eles serão sempre selecionados de maneira aleatória, permitindo com que os datasets não mudem a cada execução do algoritmo. Foi definido que 10% dos dados serão utilizados para teste."
   ]
  },
  {
   "cell_type": "markdown",
   "id": "aa3d6825-2704-429b-9ba8-534ed98c3698",
   "metadata": {},
   "source": [
    "## Determinação de Baseline com dados normalizados"
   ]
  },
  {
   "cell_type": "code",
   "execution_count": 32,
   "id": "a2271d99-e90e-4e9c-86b7-563ffa501064",
   "metadata": {
    "tags": []
   },
   "outputs": [],
   "source": [
    "from sklearn.dummy import DummyRegressor\n",
    "\n",
    "# cria o modelo\n",
    "modelo_baseline = DummyRegressor()\n",
    "\n",
    "# treina o modelo\n",
    "modelo_baseline.fit(X_treino, y_treino)\n",
    "\n",
    "# realiza uma previsão usando o modelo treinado\n",
    "previsao = modelo_baseline.predict(X_teste)\n",
    "#print(previsao)"
   ]
  },
  {
   "cell_type": "code",
   "execution_count": 33,
   "id": "636fb456-dfc9-4e4a-b23d-c6395d9ce137",
   "metadata": {},
   "outputs": [
    {
     "name": "stdout",
     "output_type": "stream",
     "text": [
      "O RMSE da baseline foi de 0.20349785300380163.\n",
      "O MSE da baseline foi de 0.04141137617715686.\n",
      "O R-Squared da baseline foi de -0.03460510181410115.\n"
     ]
    }
   ],
   "source": [
    "from sklearn.metrics import mean_squared_error, r2_score, mean_absolute_error\n",
    "\n",
    "y_verdadeiro = y_teste\n",
    "y_previsao = modelo_baseline.predict(X_teste)\n",
    "\n",
    "MSE = mean_squared_error(y_verdadeiro, y_previsao)\n",
    "RMSE = np.sqrt(MSE)\n",
    "R2 = r2_score(y_verdadeiro, y_previsao)\n",
    "\n",
    "print(f\"O RMSE da baseline foi de {RMSE}.\") # Taxa de erro dada pela raiz quadrada do MSE\n",
    "print(f\"O MSE da baseline foi de {MSE}.\") # Representa o erro quadrático médio\n",
    "print(f\"O R-Squared da baseline foi de {R2}.\") # Representa o quanto os valores se encaixam nos valores originais"
   ]
  },
  {
   "cell_type": "markdown",
   "id": "9dff7777-e75d-46ea-b2b5-3547527b811f",
   "metadata": {},
   "source": [
    "A partir dos valores obtidos acima é possível identificar que o R^2 é negativo, entretanto, sabe-se que quanto maior o seu valor, melhor é a predição do modelo. Os valores do RMSE e MSE indicam uma taxa aproximada de 21 % de erro. Como é um modelo simples de base, as métricas correspondem com o esperado."
   ]
  },
  {
   "cell_type": "markdown",
   "id": "8ffdbf8c-e7f5-491f-81bb-5c1d56c7f339",
   "metadata": {
    "tags": []
   },
   "source": [
    "## Regressão Linear com dados normalizados"
   ]
  },
  {
   "cell_type": "code",
   "execution_count": 34,
   "id": "9ce52875-2d7a-4677-8f6b-823c3dbdb742",
   "metadata": {
    "tags": []
   },
   "outputs": [],
   "source": [
    "from sklearn.linear_model import LinearRegression\n",
    "\n",
    "# cria o modelo\n",
    "modelo_linear = LinearRegression()\n",
    "\n",
    "# treina o modelo\n",
    "modelo_linear.fit(X_treino, y_treino)\n",
    "\n",
    "# realiza uma previsão usando o modelo treinado\n",
    "previsao = modelo_linear.predict(X_teste)\n",
    "#print(previsao)"
   ]
  },
  {
   "cell_type": "code",
   "execution_count": 35,
   "id": "1edac85b-9fc0-4f81-97ac-f306cff3c027",
   "metadata": {},
   "outputs": [
    {
     "name": "stdout",
     "output_type": "stream",
     "text": [
      "O RMSE do modelo linear foi de 0.130528752047473.\n",
      "O MSE do modelo linear foi de 0.01703775511107069.\n",
      "O R-Squared do modelo linear foi de 0.5743356056083805.\n"
     ]
    }
   ],
   "source": [
    "from sklearn.metrics import mean_squared_error, mean_absolute_error\n",
    "import numpy as np \n",
    "\n",
    "\n",
    "y_verdadeiro = y_teste\n",
    "y_previsao = modelo_linear.predict(X_teste)\n",
    "\n",
    "MSE = mean_squared_error(y_verdadeiro, y_previsao)\n",
    "RMSE = np.sqrt(MSE)\n",
    "R2 = r2_score(y_verdadeiro, y_previsao)\n",
    "\n",
    "print(f\"O RMSE do modelo linear foi de {RMSE}.\") # Taxa de erro dada pela raiz quadrada do MSE\n",
    "print(f\"O MSE do modelo linear foi de {MSE}.\") # Representa o erro quadrático médio\n",
    "print(f\"O R-Squared do modelo linear foi de {R2}.\") # Representa o quanto os valores previstos se encaixam nos valores originais"
   ]
  },
  {
   "cell_type": "markdown",
   "id": "972708d9-bced-45e1-9a8f-01360a60d2df",
   "metadata": {},
   "source": [
    "Comparando com o modelo baseline, é possivel observar que a taxa de erro apresentou uma diminuição significativa e, agora, é de 15%. Além disso, o R-Squared demonstra que cerca de 50% dos valores previstos estão se encaixando nos valores originais. "
   ]
  },
  {
   "cell_type": "markdown",
   "id": "935dfb29-fbf3-4103-8bec-5c50eb5fe645",
   "metadata": {},
   "source": [
    "## k vizinhos mais próximos (k-NN)"
   ]
  },
  {
   "cell_type": "code",
   "execution_count": 36,
   "id": "41b54f70-cc47-438c-bc58-0a9d18a459d7",
   "metadata": {
    "tags": []
   },
   "outputs": [],
   "source": [
    "# Modelo através dos vizinhos mais próximos\n",
    "\n",
    "from sklearn.neighbors import KNeighborsRegressor\n",
    "\n",
    "# cria o modelo\n",
    "modelo_knn = KNeighborsRegressor()\n",
    "\n",
    "# treina o modelo\n",
    "modelo_knn.fit(X_treino, y_treino)\n",
    "\n",
    "# realiza uma previsão usando o modelo treinado\n",
    "previsao = modelo_knn.predict(X_teste)\n",
    "#print(previsao)"
   ]
  },
  {
   "cell_type": "code",
   "execution_count": 37,
   "id": "b4e054b9-8f35-45cf-9eae-2ef0a7cf3466",
   "metadata": {
    "tags": []
   },
   "outputs": [
    {
     "name": "stdout",
     "output_type": "stream",
     "text": [
      "Considerando 1 vizinhos próximos:\n",
      "O RMSE do modelo foi de 0.17359366163051224.\n",
      "O MSE do modelo foi de 0.030134759358288778.\n",
      "O R-Squared do modelo foi de 0.2471253396494506.\n",
      "\n",
      "Considerando 20 vizinhos próximos:\n",
      "O RMSE do modelo foi de 0.12474596062116804.\n",
      "O MSE do modelo foi de 0.015561554691298007.\n",
      "O R-Squared do modelo foi de 0.6112164008532246.\n",
      "\n",
      "Considerando 30 vizinhos próximos:\n",
      "O RMSE do modelo foi de 0.12666452931697236.\n",
      "O MSE do modelo foi de 0.01604390298709015.\n",
      "O R-Squared do modelo foi de 0.5991656057880471.\n",
      "\n",
      "Considerando 40 vizinhos próximos:\n",
      "O RMSE do modelo foi de 0.1283206884189948.\n",
      "O MSE do modelo foi de 0.016466199076324742.\n",
      "O R-Squared do modelo foi de 0.5886151308043334.\n",
      "\n",
      "Considerando 50 vizinhos próximos:\n",
      "O RMSE do modelo foi de 0.13077659605168776.\n",
      "O MSE do modelo foi de 0.01710251807486631.\n",
      "O R-Squared do modelo foi de 0.5727175938701348.\n",
      "\n",
      "Considerando 60 vizinhos próximos:\n",
      "O RMSE do modelo foi de 0.13380728678296586.\n",
      "O MSE do modelo foi de 0.01790438999621887.\n",
      "O R-Squared do modelo foi de 0.5526839495574285.\n",
      "\n",
      "Considerando 70 vizinhos próximos:\n",
      "O RMSE do modelo foi de 0.13754302510784167.\n",
      "O MSE do modelo foi de 0.018918083755816367.\n",
      "O R-Squared do modelo foi de 0.527358233964929.\n",
      "\n",
      "Considerando 80 vizinhos próximos:\n",
      "O RMSE do modelo foi de 0.14176765048269496.\n",
      "O MSE do modelo foi de 0.02009806672338356.\n",
      "O R-Squared do modelo foi de 0.49787801594280534.\n",
      "\n",
      "Considerando 90 vizinhos próximos:\n",
      "O RMSE do modelo foi de 0.14677031982993463.\n",
      "O MSE do modelo foi de 0.021541526782981303.\n",
      "O R-Squared do modelo foi de 0.4618151926370563.\n",
      "\n",
      "Considerando 100 vizinhos próximos:\n",
      "O RMSE do modelo foi de 0.15241676163411172.\n",
      "O MSE do modelo foi de 0.023230869227029632.\n",
      "O R-Squared do modelo foi de 0.4196093431176766.\n",
      "\n"
     ]
    }
   ],
   "source": [
    "NUM_VIZINHOS = [1, 20, 30, 40, 50, 60, 70, 80, 90, 100] # hiperparâmetros\n",
    "RMSE_LISTA = []\n",
    "MSE_LISTA = []\n",
    "R2_LISTA = []\n",
    "\n",
    "for n in NUM_VIZINHOS:\n",
    "    modelo_knn = KNeighborsRegressor(n_neighbors=n)\n",
    "\n",
    "    modelo_knn.fit(X_treino, y_treino)\n",
    "\n",
    "    y_verdadeiro = y_teste\n",
    "    y_previsao = modelo_knn.predict(X_teste)\n",
    "    \n",
    "    MSE = mean_squared_error(y_verdadeiro, y_previsao)\n",
    "    RMSE = np.sqrt(MSE)\n",
    "    R2 = r2_score(y_verdadeiro, y_previsao)\n",
    "    RMSE_LISTA.append(RMSE)\n",
    "    MSE_LISTA.append(MSE)\n",
    "    R2_LISTA.append(R2)\n",
    "    print(f\"Considerando {n} vizinhos próximos:\")\n",
    "    print(f\"O RMSE do modelo foi de {RMSE}.\") # Taxa de erro dada pela raiz quadrada do MSE\n",
    "    print(f\"O MSE do modelo foi de {MSE}.\") # Representa o erro quadrático médio\n",
    "    print(f\"O R-Squared do modelo foi de {R2}.\\n\") # Representa o quanto os valores se encaixam nos valores originais"
   ]
  },
  {
   "cell_type": "code",
   "execution_count": 38,
   "id": "4a7f73bb-878c-4d44-b619-9a87c5187881",
   "metadata": {
    "tags": []
   },
   "outputs": [],
   "source": [
    "import pandas as pd\n",
    "df = pd.DataFrame({\"Número de vizinhos\": NUM_VIZINHOS,\n",
    "                   \"RMSE\": RMSE_LISTA,\n",
    "                   \"MSE\": MSE_LISTA,\n",
    "                   \"R2\": R2_LISTA})"
   ]
  },
  {
   "cell_type": "code",
   "execution_count": 39,
   "id": "883ad361-48ca-470d-81b3-4f90780498e5",
   "metadata": {},
   "outputs": [
    {
     "data": {
      "image/png": "[encoded data removed]",
      "text/plain": [
       "<Figure size 720x360 with 1 Axes>"
      ]
     },
     "metadata": {
      "needs_background": "light"
     },
     "output_type": "display_data"
    }
   ],
   "source": [
    "# Gráfico de barras agrupadas para a análise do desempenho dos hiperparâmetros\n",
    "largura = 0.25\n",
    "\n",
    "plt.figure(figsize = (10, 5))\n",
    "ax = plt.axes()\n",
    "ax.set_facecolor('white')\n",
    "\n",
    "r1 = np.arange(len(RMSE_LISTA))\n",
    "r2 = [x + largura for x in r1]\n",
    "r3 = [x + largura for x in r2]\n",
    "\n",
    "plt.bar(r1, RMSE_LISTA, width = largura, label = 'RMSE', color='palevioletred')\n",
    "plt.bar(r2, MSE_LISTA, width = largura, label = 'MSE',color='hotpink' )\n",
    "plt.bar(r3, R2_LISTA, width = largura, label = 'R2', color='pink')\n",
    "\n",
    "plt.xlabel('Número de vizinhos')\n",
    "plt.xticks([r + largura for r in range (len(RMSE_LISTA))], NUM_VIZINHOS)\n",
    "plt.legend()\n",
    "plt.ylabel('Valores das métricas')\n",
    "plt.show()"
   ]
  },
  {
   "cell_type": "markdown",
   "id": "729236ef-68a8-4778-82a2-8c27c667df65",
   "metadata": {},
   "source": [
    "Se acolhe muitos vizinhos próximos, há a possibilidade de ser categorizado erroneamente, pois engloba muitos valores que podem não ter sentido para aquele dado. No caso de poucos vizinhos próximos, podem ser fornecidas respostas erradas, já que fica sujeito ao efeito de dados que talvez estejam fora do padrão. A partir da análise do histograma, é verifica-se que os melhores hiperparâmetros encontrados foram os que consideravam 20 e 50 vizinhos próximos. Nesses casos, foram enconstrados os melhores valores para o encaixe dos dados previstos e originais, além de apresentarem as menores taxas de erro.  "
   ]
  },
  {
   "cell_type": "markdown",
   "id": "14ec765a-9f7d-4eaa-97a2-89adb2c05688",
   "metadata": {
    "tags": []
   },
   "source": [
    "# Referências:\n",
    "   \n",
    "    [1] Horst AM, Hill AP, Gorman KB (2020). palmerpenguins: Palmer\n",
    "    Archipelago (Antarctica) penguin data. R package version 0.1.0.\n",
    "    https://allisonhorst.github.io/palmerpenguins/. doi:\n",
    "    10.5281/zenodo.3960218.\n",
    "    \n",
    "    [2] How to Calculate Skewness and Kurtosis in Python? (2022,\n",
    "    february 17). GeeksforGeeks.\n",
    "    https://www.geeksforgeeks.org/how-to-calculate-skewness-and-kurtosis-in-python/\n",
    "\n",
    "    [3] Using Statistics: Understand Population Distributions. (2014, julho 21).\n",
    "    Analytics Vidhya. https://www.analyticsvidhya.com/blog/2014/07/statistics/\n",
    "    \n",
    "    [4] Regression Accuracy Check in Python (MAE, MSE, RMSE, R-Squared). DataTechNotes, 2019. Disponível em \n",
    "    https://www.datatechnotes.com/2019/10/accuracy-check-in-python-mae-mse-rmse-r.html. Acesso em: 25/09/2022. \n",
    "   "
   ]
  },
  {
   "cell_type": "code",
   "execution_count": null,
   "id": "da8bf142-8828-4732-8d9b-733813c2b547",
   "metadata": {},
   "outputs": [],
   "source": []
  },
  {
   "cell_type": "code",
   "execution_count": null,
   "id": "e8e7bbff-a4dd-4edf-880d-402d9e37ab72",
   "metadata": {},
   "outputs": [],
   "source": []
  },
  {
   "cell_type": "code",
   "execution_count": null,
   "id": "67f70c34-88b1-4bea-9f5e-cae04579a2ab",
   "metadata": {},
   "outputs": [],
   "source": []
  },
  {
   "cell_type": "code",
   "execution_count": null,
   "id": "fe395869-91cb-46e6-957e-d45c16ff2312",
   "metadata": {},
   "outputs": [],
   "source": []
  }
 ],
 "metadata": {
  "kernelspec": {
   "display_name": "ilumpy",
   "language": "python",
   "name": "ilumpy"
  },
  "language_info": {
   "codemirror_mode": {
    "name": "ipython",
    "version": 3
   },
   "file_extension": ".py",
   "mimetype": "text/x-python",
   "name": "python",
   "nbconvert_exporter": "python",
   "pygments_lexer": "ipython3",
   "version": "3.9.7"
  }
 },
 "nbformat": 4,
 "nbformat_minor": 5
}
